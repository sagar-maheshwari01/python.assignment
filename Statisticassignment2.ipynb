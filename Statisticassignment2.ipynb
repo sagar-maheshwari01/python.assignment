{
  "nbformat": 4,
  "nbformat_minor": 0,
  "metadata": {
    "colab": {
      "provenance": [],
      "include_colab_link": true
    },
    "kernelspec": {
      "name": "python3",
      "display_name": "Python 3"
    },
    "language_info": {
      "name": "python"
    }
  },
  "cells": [
    {
      "cell_type": "markdown",
      "metadata": {
        "id": "view-in-github",
        "colab_type": "text"
      },
      "source": [
        "<a href=\"https://colab.research.google.com/github/sagar-maheshwari01/python.assignment/blob/main/Statisticassignment2.ipynb\" target=\"_parent\"><img src=\"https://colab.research.google.com/assets/colab-badge.svg\" alt=\"Open In Colab\"/></a>"
      ]
    },
    {
      "cell_type": "code",
      "execution_count": null,
      "metadata": {
        "id": "HZ5KpjkJIZCf"
      },
      "outputs": [],
      "source": []
    },
    {
      "cell_type": "markdown",
      "source": [
        "Question 1. What is hypothesis testing in statistics?\n",
        "\n",
        "Answer 1. Hypothesis testing is a statistical method used to determine whether there is enough evidence to reject a hypothesis about a population parameter based on sample data.\n",
        "\n",
        "Question 2. What is the null hypothesis, and how does it differ from the alternative hypothesis?\n",
        "\n",
        "Answer 2\n",
        "\n",
        "\t•\tNull Hypothesis (H₀): A statement that there is no effect or no difference (e.g., “The mean height of students is 170 cm”).\n",
        "\t•\tAlternative Hypothesis (H₁): A statement that contradicts the null hypothesis (e.g., “The mean height of students is not 170 cm”).\n",
        "\n",
        "Question 3. What is the significance level in hypothesis testing, and why is it important?\n",
        "\n",
        "Answer 3\n",
        "\n",
        "The significance level (α) is the probability of rejecting a true null hypothesis. It is usually set at 0.05 (5%), meaning there is a 5% chance of incorrectly rejecting H₀.\n",
        "\n",
        "Question 4. What does a P-value represent in hypothesis testing?\n",
        "\n",
        "Answer 4\n",
        "\n",
        "The P-value is the probability of obtaining the observed data (or more extreme) if the null hypothesis is true. A smaller P-value (< α) suggests strong evidence against H₀.\n",
        "\n",
        "Question 5. How do you interpret the P-value in hypothesis testing?\n",
        "\n",
        "  Answer 5\n",
        "  •\tIf P-value < α (e.g., 0.05): Reject the null hypothesis (strong evidence against H₀).\n",
        "\t•\tIf P-value ≥ α: Fail to reject the null hypothesis (insufficient evidence against H₀).\n",
        "\n",
        "Question 6. What are Type 1 and Type 2 errors in hypothesis testing?\n",
        "\n",
        "\tAnswer 6\n",
        "\n",
        "  •\tType 1 Error (False Positive): Rejecting a true null hypothesis.\n",
        "\t•\tType 2 Error (False Negative): Failing to reject a false null hypothesis.\n",
        "\n",
        "Question 7. What is the difference between a one-tailed and a two-tailed test in hypothesis testing?\n",
        "\n",
        "Answer 7\n",
        "\t•\tOne-tailed test: Tests if a parameter is greater or smaller than a value.\n",
        "\t•\tTwo-tailed test: Tests if a parameter is different from a value (either greater or smaller).\n",
        "\n",
        "Question 8. What is the Z-test, and when is it used in hypothesis testing?\n",
        "\n",
        "Answer 8\n",
        "A Z-test is used to compare a sample mean to a population mean when the population standard deviation is known and the sample size is large (n ≥ 30).\n",
        "\n",
        "Question 9. How do you calculate the Z-score, and what does it represent in hypothesis testing?\n",
        "\n",
        "Answer 9\n",
        "\n",
        "The Z-score formula:\n",
        "Z = \\frac{\\bar{x} - \\mu}{\\sigma / \\sqrt{n}}\n",
        "where:\n",
        "\t•\t\\bar{x} = Sample mean\n",
        "\t•\t\\mu = Population mean\n",
        "\t•\t\\sigma = Population standard deviation\n",
        "\t•\tn = Sample size\n",
        "\n",
        "The Z-score tells how many standard deviations the sample mean is from the population mean.\n",
        "\n",
        "Question 10. What is the T-distribution, and when should it be used instead of the normal distribution?\n",
        "\n",
        "Answer 10\n",
        "\n",
        "The T-distribution is used when the sample size is small (n < 30) and the population standard deviation is unknown.\n",
        "\n",
        "Question 11. What is the difference between a Z-test and a T-test?\n",
        "\n",
        "Answer 11\n",
        "\n",
        "\t•\tZ-test: Used when the population standard deviation is known and sample size is large.\n",
        "\t•\tT-test: Used when the population standard deviation is unknown and sample size is small.\n",
        "\n",
        "Question 12. What is the T-test, and how is it used in hypothesis testing?\n",
        "\n",
        " Answer 12\n",
        "\n",
        "A T-test is used to compare means between groups and determine if the difference is significant.\n",
        "\n",
        "Question 13. What is the relationship between Z-test and T-test in hypothesis testing?\n",
        "\n",
        "Answer 13\n",
        "\n",
        "Both tests compare means, but the T-test is used for small samples with unknown variance, whereas the Z-test is used for large samples with known variance.\n",
        "\n",
        "Question 14. What is a confidence interval, and how is it used to interpret statistical results?\n",
        "\n",
        "Answer 14\n",
        "\n",
        "A confidence interval (CI) is a range of values within which the population parameter is expected to lie with a given confidence level (e.g., 95%).\n",
        "\n",
        "Question 15. What is the margin of error, and how does it affect the confidence interval?\n",
        "\n",
        "Answer 15\n",
        "\n",
        "The margin of error (ME) is the range above and below the sample estimate, showing the uncertainty in the estimate. A larger ME means a wider confidence interval.\n",
        "\n",
        "Question 16. How is Bayes’ Theorem used in statistics, and what is its significance?\n",
        "\n",
        "Answer 16\n",
        "\n",
        "Bayes’ Theorem calculates the probability of an event given prior knowledge of related conditions, used in predictive modeling and decision-making.\n",
        "\n",
        "Question 17. What is the Chi-square distribution, and when is it used?\n",
        "\n",
        "Answer 17\n",
        "\n",
        "The Chi-square distribution is used in categorical data analysis, such as testing for independence between two variables.\n",
        "\n",
        "Question 18. What is the Chi-square goodness-of-fit test, and how is it applied?\n",
        "\n",
        "Answer 18\n",
        "\n",
        "It checks if observed categorical data matches expected data under a specific distribution.\n",
        "\n",
        "Question 19. What is the F-distribution, and when is it used in hypothesis testing?\n",
        "\n",
        "Answer 19\n",
        "\n",
        "The F-distribution is used in ANOVA and variance comparison tests.\n",
        "\n",
        "Question 20. What is an ANOVA test, and what are its assumptions?\n",
        "\n",
        "Answer 20\n",
        "\n",
        "ANOVA (Analysis of Variance) compares means of multiple groups and assumes:\n",
        "\t1.\tNormality (data follows a normal distribution).\n",
        "\t2.\tIndependence (samples are independent).\n",
        "\t3.\tEqual variance (homogeneity of variances).\n",
        "\n",
        "Question 21. What are the different types of ANOVA tests?\n",
        "\n",
        "Answer 21\n",
        "\t•\tOne-way ANOVA: Compares means of one independent variable across multiple groups.\n",
        "\t•\tTwo-way ANOVA: Compares means for two independent variables.\n",
        "\n",
        "Question 22. What is the F-test, and how does it relate to hypothesis testing?\n",
        "\n",
        "Answer 22\n",
        "\n",
        "The F-test is used to compare variances of two populations.The F-test is a statistical test used to compare the variances of two or more groups to determine if they are significantly different. It is commonly used in ANOVA (Analysis of Variance) and regression analysis."
      ],
      "metadata": {
        "id": "k5iX0E77Ipgx"
      }
    },
    {
      "cell_type": "markdown",
      "source": [
        "**practical questions**\n",
        "Q 10. Write a Python program to calculate the margin of error for a given confidence level using sample data.\n"
      ],
      "metadata": {
        "id": "p8aOCgBkJ-OA"
      }
    },
    {
      "cell_type": "code",
      "source": [
        "import scipy.stats as stats\n",
        "import numpy as np\n",
        "\n",
        "# Function to calculate margin of error\n",
        "def margin_of_error(confidence_level, std_dev, sample_size):\n",
        "    z_score = stats.norm.ppf(1 - (1 - confidence_level) / 2)\n",
        "    return z_score * (std_dev / np.sqrt(sample_size))\n",
        "\n",
        "# Example\n",
        "print(margin_of_error(0.95, 15, 100))  # For 95% confidence, std=15, n=100"
      ],
      "metadata": {
        "colab": {
          "base_uri": "https://localhost:8080/"
        },
        "id": "8rsyPGLTJ43t",
        "outputId": "1ba8f68e-96c4-4269-b2bb-d9fb33563c24"
      },
      "execution_count": null,
      "outputs": [
        {
          "output_type": "stream",
          "name": "stdout",
          "text": [
            "2.939945976810081\n"
          ]
        }
      ]
    },
    {
      "cell_type": "markdown",
      "source": [
        "Q11. Implement a Bayesian inference method using Bayes’ Theorem in Python and explain the process.\n"
      ],
      "metadata": {
        "id": "EOmTkgKXKPxT"
      }
    },
    {
      "cell_type": "code",
      "source": [
        "def bayes_theorem(prior_A, likelihood_B_given_A, prob_B):\n",
        "    return (likelihood_B_given_A * prior_A) / prob_B\n",
        "\n",
        "# Example: Disease probability\n",
        "prior_A = 0.01  # Probability of having a disease\n",
        "likelihood_B_given_A = 0.95  # Test is 95% accurate\n",
        "prob_B = 0.02  # Overall positive test rate\n",
        "\n",
        "posterior = bayes_theorem(prior_A, likelihood_B_given_A, prob_B)\n",
        "print(f\"Updated probability: {posterior:.4f}\")"
      ],
      "metadata": {
        "colab": {
          "base_uri": "https://localhost:8080/"
        },
        "id": "gdilxzPfKFXS",
        "outputId": "47a8b9c5-750d-442b-eaec-093ec883e249"
      },
      "execution_count": null,
      "outputs": [
        {
          "output_type": "stream",
          "name": "stdout",
          "text": [
            "Updated probability: 0.4750\n"
          ]
        }
      ]
    },
    {
      "cell_type": "markdown",
      "source": [
        "Q12. Perform a Chi-square test for independence between two categorical variables in Python.\n"
      ],
      "metadata": {
        "id": "5VnlxWDaKSGy"
      }
    },
    {
      "cell_type": "code",
      "source": [
        "import pandas as pd\n",
        "from scipy.stats import chi2_contingency\n",
        "\n",
        "# Example contingency table\n",
        "data = [[50, 30], [20, 40]]  # [Category 1, Category 2]\n",
        "chi2, p, dof, expected = chi2_contingency(data)\n",
        "\n",
        "print(f\"Chi-square statistic: {chi2}, P-value: {p}\")"
      ],
      "metadata": {
        "colab": {
          "base_uri": "https://localhost:8080/"
        },
        "id": "B970stF3KHwR",
        "outputId": "f7dfa5f1-2318-48da-d3cf-52bd3eff8a35"
      },
      "execution_count": null,
      "outputs": [
        {
          "output_type": "stream",
          "name": "stdout",
          "text": [
            "Chi-square statistic: 10.529166666666667, P-value: 0.0011750518530845063\n"
          ]
        }
      ]
    },
    {
      "cell_type": "markdown",
      "source": [
        "Q13. Write a Python program to calculate the expected frequencies for a Chi-square test based on observed data."
      ],
      "metadata": {
        "id": "WvT22Xv5KZZW"
      }
    },
    {
      "cell_type": "code",
      "source": [
        "def expected_frequencies(observed):\n",
        "    _, _, _, expected = chi2_contingency(observed)\n",
        "    return expected\n",
        "\n",
        "# Example\n",
        "observed_data = [[40, 60], [30, 70]]\n",
        "print(expected_frequencies(observed_data))"
      ],
      "metadata": {
        "colab": {
          "base_uri": "https://localhost:8080/"
        },
        "id": "LqS42p8PKJq7",
        "outputId": "4e7abf05-3f6b-4f29-a2cf-30eb3b1a424b"
      },
      "execution_count": null,
      "outputs": [
        {
          "output_type": "stream",
          "name": "stdout",
          "text": [
            "[[35. 65.]\n",
            " [35. 65.]]\n"
          ]
        }
      ]
    },
    {
      "cell_type": "markdown",
      "source": [
        "Q14. Perform a goodness-of-fit test using Python to compare the observed data to an expected distribution."
      ],
      "metadata": {
        "id": "ozclkACQKb5O"
      }
    },
    {
      "cell_type": "code",
      "source": [
        "observed = np.array([50, 30, 20])\n",
        "expected = np.array([40, 40, 20])\n",
        "\n",
        "chi2_stat, p_value = stats.chisquare(observed, expected)\n",
        "print(f\"Chi-square Statistic: {chi2_stat}, P-value: {p_value}\")"
      ],
      "metadata": {
        "colab": {
          "base_uri": "https://localhost:8080/"
        },
        "id": "OJ1vkmrwKMXl",
        "outputId": "7ccddc57-7844-47ef-bee9-a445f1c178c3"
      },
      "execution_count": null,
      "outputs": [
        {
          "output_type": "stream",
          "name": "stdout",
          "text": [
            "Chi-square Statistic: 5.0, P-value: 0.0820849986238988\n"
          ]
        }
      ]
    },
    {
      "cell_type": "markdown",
      "source": [
        "Q15. Create a Python script to simulate and visualize the Chi-square distribution."
      ],
      "metadata": {
        "id": "-bsqWPFwKfoa"
      }
    },
    {
      "cell_type": "code",
      "source": [
        "import matplotlib.pyplot as plt\n",
        "\n",
        "x = np.linspace(0, 10, 100)\n",
        "y = stats.chi2.pdf(x, df=2)\n",
        "\n",
        "plt.plot(x, y, label=\"Chi-square Distribution\")\n",
        "plt.legend()\n",
        "plt.show()"
      ],
      "metadata": {
        "colab": {
          "base_uri": "https://localhost:8080/",
          "height": 430
        },
        "id": "hK-276U_Kinh",
        "outputId": "37642d5f-7ae8-4e9f-fab2-9a38a72db564"
      },
      "execution_count": null,
      "outputs": [
        {
          "output_type": "display_data",
          "data": {
            "text/plain": [
              "<Figure size 640x480 with 1 Axes>"
            ],
            "image/png": "[encoded data removed]"
          },
          "metadata": {}
        }
      ]
    },
    {
      "cell_type": "markdown",
      "source": [
        "Q16. Implement an F-test using Python to compare the variances of two random samples."
      ],
      "metadata": {
        "id": "w9Pakor-KlBk"
      }
    },
    {
      "cell_type": "code",
      "source": [
        "def f_test(sample1, sample2):\n",
        "    var1, var2 = np.var(sample1, ddof=1), np.var(sample2, ddof=1)\n",
        "    F = var1 / var2\n",
        "    p_value = stats.f.cdf(F, len(sample1)-1, len(sample2)-1)\n",
        "    return F, p_value\n",
        "\n",
        "# Example\n",
        "sample1 = np.random.randn(30) * 10 + 50\n",
        "sample2 = np.random.randn(30) * 15 + 50\n",
        "print(f_test(sample1, sample2))"
      ],
      "metadata": {
        "colab": {
          "base_uri": "https://localhost:8080/"
        },
        "id": "9vPiEiMCKnGg",
        "outputId": "9afa6cb5-d156-4790-f478-de82762b994b"
      },
      "execution_count": null,
      "outputs": [
        {
          "output_type": "stream",
          "name": "stdout",
          "text": [
            "(np.float64(0.4086288972665577), np.float64(0.009356183832308332))\n"
          ]
        }
      ]
    },
    {
      "cell_type": "markdown",
      "source": [
        "Q17. Write a Python program to perform an ANOVA test to compare means between multiple groups."
      ],
      "metadata": {
        "id": "sbo9fbZzKo9I"
      }
    },
    {
      "cell_type": "code",
      "source": [
        "from scipy.stats import f_oneway\n",
        "\n",
        "group1 = [12, 14, 16, 18, 20]\n",
        "group2 = [22, 24, 26, 28, 30]\n",
        "group3 = [32, 34, 36, 38, 40]\n",
        "\n",
        "F_stat, p_value = f_oneway(group1, group2, group3)\n",
        "print(f\"F-statistic: {F_stat}, P-value: {p_value}\")"
      ],
      "metadata": {
        "colab": {
          "base_uri": "https://localhost:8080/"
        },
        "id": "9ZdRRWq6KrEC",
        "outputId": "08f70adf-2934-4274-dd15-006505cc972d"
      },
      "execution_count": null,
      "outputs": [
        {
          "output_type": "stream",
          "name": "stdout",
          "text": [
            "F-statistic: 50.0, P-value: 1.5127924217375409e-06\n"
          ]
        }
      ]
    },
    {
      "cell_type": "markdown",
      "source": [
        "Q18. Perform a one-way ANOVA test using Python and plot the results."
      ],
      "metadata": {
        "id": "67FmO3O8KtBB"
      }
    },
    {
      "cell_type": "code",
      "source": [
        "import seaborn as sns\n",
        "\n",
        "data = {'Group': ['A']*5 + ['B']*5 + ['C']*5,\n",
        "        'Scores': group1 + group2 + group3}\n",
        "df = pd.DataFrame(data)\n",
        "\n",
        "sns.boxplot(x=\"Group\", y=\"Scores\", data=df)\n",
        "plt.show()"
      ],
      "metadata": {
        "colab": {
          "base_uri": "https://localhost:8080/",
          "height": 449
        },
        "id": "zoVd_e62KvUs",
        "outputId": "bc27e99b-1fac-4d9c-a346-af901174e89f"
      },
      "execution_count": null,
      "outputs": [
        {
          "output_type": "display_data",
          "data": {
            "text/plain": [
              "<Figure size 640x480 with 1 Axes>"
            ],
            "image/png": "[encoded data removed]"
          },
          "metadata": {}
        }
      ]
    },
    {
      "cell_type": "markdown",
      "source": [
        "Q19. Write a Python function to check ANOVA assumptions (normality, independence, equal variance)."
      ],
      "metadata": {
        "id": "y78mNt7yKyDr"
      }
    },
    {
      "cell_type": "code",
      "source": [
        "from scipy.stats import shapiro, levene\n",
        "\n",
        "def check_anova_assumptions(data):\n",
        "    norm_test = shapiro(data)\n",
        "    var_test = levene(group1, group2, group3)\n",
        "    return norm_test.pvalue, var_test.pvalue\n",
        "\n",
        "print(check_anova_assumptions(group1))"
      ],
      "metadata": {
        "colab": {
          "base_uri": "https://localhost:8080/"
        },
        "id": "AB2_eaHoK0aW",
        "outputId": "435db75e-588f-475e-d5e1-f457a1050738"
      },
      "execution_count": null,
      "outputs": [
        {
          "output_type": "stream",
          "name": "stdout",
          "text": [
            "(np.float64(0.9671739349728582), np.float64(1.0))\n"
          ]
        }
      ]
    },
    {
      "cell_type": "markdown",
      "source": [
        "Q 20. Perform a two-way ANOVA test using Python and visualize results."
      ],
      "metadata": {
        "id": "Ez0WPoAbK33s"
      }
    },
    {
      "cell_type": "code",
      "source": [
        "import statsmodels.api as sm\n",
        "from statsmodels.formula.api import ols\n",
        "\n",
        "df[\"Factor\"] = [\"X\"]*5 + [\"Y\"]*5 + [\"Z\"]*5\n",
        "model = ols('Scores ~ C(Group) + C(Factor) + C(Group):C(Factor)', data=df).fit()\n",
        "anova_results = sm.stats.anova_lm(model, typ=2)\n",
        "print(anova_results)"
      ],
      "metadata": {
        "colab": {
          "base_uri": "https://localhost:8080/"
        },
        "id": "IzwMK-faK6GB",
        "outputId": "f596f237-ad62-46d4-ba4f-90037eb8fa9e"
      },
      "execution_count": null,
      "outputs": [
        {
          "output_type": "stream",
          "name": "stdout",
          "text": [
            "                    sum_sq    df     F    PR(>F)\n",
            "C(Group)               NaN   2.0   NaN       NaN\n",
            "C(Factor)              NaN   2.0   NaN       NaN\n",
            "C(Group):C(Factor)  2000.0   4.0  50.0  0.000002\n",
            "Residual             120.0  12.0   NaN       NaN\n"
          ]
        },
        {
          "output_type": "stream",
          "name": "stderr",
          "text": [
            "/usr/local/lib/python3.11/dist-packages/statsmodels/base/model.py:1894: ValueWarning: covariance of constraints does not have full rank. The number of constraints is 2, but rank is 0\n",
            "  warnings.warn('covariance of constraints does not have full '\n",
            "/usr/local/lib/python3.11/dist-packages/statsmodels/base/model.py:1923: RuntimeWarning: invalid value encountered in divide\n",
            "  F /= J\n",
            "/usr/local/lib/python3.11/dist-packages/statsmodels/base/model.py:1894: ValueWarning: covariance of constraints does not have full rank. The number of constraints is 2, but rank is 0\n",
            "  warnings.warn('covariance of constraints does not have full '\n",
            "/usr/local/lib/python3.11/dist-packages/statsmodels/base/model.py:1894: ValueWarning: covariance of constraints does not have full rank. The number of constraints is 4, but rank is 2\n",
            "  warnings.warn('covariance of constraints does not have full '\n"
          ]
        }
      ]
    },
    {
      "cell_type": "markdown",
      "source": [
        "Q21. Write a Python program to visualize the F-distribution."
      ],
      "metadata": {
        "id": "EpwHtcw6K71u"
      }
    },
    {
      "cell_type": "code",
      "source": [
        "x = np.linspace(0, 5, 100)\n",
        "y = stats.f.pdf(x, dfn=10, dfd=20)\n",
        "\n",
        "plt.plot(x, y, label=\"F-distribution\")\n",
        "plt.legend()\n",
        "plt.show()"
      ],
      "metadata": {
        "colab": {
          "base_uri": "https://localhost:8080/",
          "height": 430
        },
        "id": "11BHwOX1K-W9",
        "outputId": "35ba678d-d376-4d50-b489-9039c72630af"
      },
      "execution_count": null,
      "outputs": [
        {
          "output_type": "display_data",
          "data": {
            "text/plain": [
              "<Figure size 640x480 with 1 Axes>"
            ],
            "image/png": "[encoded data removed]"
          },
          "metadata": {}
        }
      ]
    },
    {
      "cell_type": "markdown",
      "source": [
        "Q22. Perform a one-way ANOVA test in Python and visualize with boxplots.\n"
      ],
      "metadata": {
        "id": "Xdnd-0Q8LAeP"
      }
    },
    {
      "cell_type": "code",
      "source": [
        "import seaborn as sns\n",
        "\n",
        "data = {'Group': ['A']*5 + ['B']*5 + ['C']*5,\n",
        "        'Scores': group1 + group2 + group3}\n",
        "df = pd.DataFrame(data)\n",
        "\n",
        "sns.boxplot(x=\"Group\", y=\"Scores\", data=df)\n",
        "plt.show()"
      ],
      "metadata": {
        "colab": {
          "base_uri": "https://localhost:8080/",
          "height": 449
        },
        "id": "TmWdpH1uLF7S",
        "outputId": "25824b27-a076-433e-f09a-de36ccd8f3cc"
      },
      "execution_count": null,
      "outputs": [
        {
          "output_type": "display_data",
          "data": {
            "text/plain": [
              "<Figure size 640x480 with 1 Axes>"
            ],
            "image/png": "[encoded data removed]"
          },
          "metadata": {}
        }
      ]
    },
    {
      "cell_type": "markdown",
      "source": [
        "Q23 . Simulate random data from a normal distribution, then perform hypothesis testing."
      ],
      "metadata": {
        "id": "YHBkXtgzLKFt"
      }
    },
    {
      "cell_type": "code",
      "source": [
        "data = np.random.normal(loc=50, scale=10, size=100)\n",
        "t_stat, p_value = stats.ttest_1samp(data, 50)\n",
        "print(f\"T-statistic: {t_stat}, P-value: {p_value}\")"
      ],
      "metadata": {
        "colab": {
          "base_uri": "https://localhost:8080/"
        },
        "id": "ielBh9B6LMQk",
        "outputId": "786ecdfd-8798-4b1f-8dc1-19166f9b0de7"
      },
      "execution_count": null,
      "outputs": [
        {
          "output_type": "stream",
          "name": "stdout",
          "text": [
            "T-statistic: 0.14838972001589673, P-value: 0.8823370425100074\n"
          ]
        }
      ]
    },
    {
      "cell_type": "markdown",
      "source": [
        "Q24. Perform a hypothesis test for population variance using a Chi-square test."
      ],
      "metadata": {
        "id": "h-Qp6gEELOJm"
      }
    },
    {
      "cell_type": "code",
      "source": [
        "s2 = np.var(data, ddof=1)\n",
        "chi2_stat = (len(data) - 1) * s2 / 10**2\n",
        "p_value = 1 - stats.chi2.cdf(chi2_stat, len(data) - 1)\n",
        "print(f\"Chi-square stat: {chi2_stat}, P-value: {p_value}\")"
      ],
      "metadata": {
        "colab": {
          "base_uri": "https://localhost:8080/",
          "height": 382
        },
        "id": "fDZCx3haLQXh",
        "outputId": "06734256-8c05-4a0e-e1b4-1fc33c1edcaf"
      },
      "execution_count": null,
      "outputs": [
        {
          "output_type": "stream",
          "name": "stderr",
          "text": [
            "/usr/local/lib/python3.11/dist-packages/numpy/_core/fromnumeric.py:4008: RuntimeWarning: Degrees of freedom <= 0 for slice\n",
            "  return _methods._var(a, axis=axis, dtype=dtype, out=out, ddof=ddof,\n"
          ]
        },
        {
          "output_type": "error",
          "ename": "TypeError",
          "evalue": "unsupported operand type(s) for /: 'dict' and 'int'",
          "traceback": [
            "\u001b[0;31m---------------------------------------------------------------------------\u001b[0m",
            "\u001b[0;31mTypeError\u001b[0m                                 Traceback (most recent call last)",
            "\u001b[0;32m<ipython-input-24-d736d5a44cbc>\u001b[0m in \u001b[0;36m<cell line: 0>\u001b[0;34m()\u001b[0m\n\u001b[0;32m----> 1\u001b[0;31m \u001b[0ms2\u001b[0m \u001b[0;34m=\u001b[0m \u001b[0mnp\u001b[0m\u001b[0;34m.\u001b[0m\u001b[0mvar\u001b[0m\u001b[0;34m(\u001b[0m\u001b[0mdata\u001b[0m\u001b[0;34m,\u001b[0m \u001b[0mddof\u001b[0m\u001b[0;34m=\u001b[0m\u001b[0;36m1\u001b[0m\u001b[0;34m)\u001b[0m\u001b[0;34m\u001b[0m\u001b[0;34m\u001b[0m\u001b[0m\n\u001b[0m\u001b[1;32m      2\u001b[0m \u001b[0mchi2_stat\u001b[0m \u001b[0;34m=\u001b[0m \u001b[0;34m(\u001b[0m\u001b[0mlen\u001b[0m\u001b[0;34m(\u001b[0m\u001b[0mdata\u001b[0m\u001b[0;34m)\u001b[0m \u001b[0;34m-\u001b[0m \u001b[0;36m1\u001b[0m\u001b[0;34m)\u001b[0m \u001b[0;34m*\u001b[0m \u001b[0ms2\u001b[0m \u001b[0;34m/\u001b[0m \u001b[0;36m10\u001b[0m\u001b[0;34m**\u001b[0m\u001b[0;36m2\u001b[0m\u001b[0;34m\u001b[0m\u001b[0;34m\u001b[0m\u001b[0m\n\u001b[1;32m      3\u001b[0m \u001b[0mp_value\u001b[0m \u001b[0;34m=\u001b[0m \u001b[0;36m1\u001b[0m \u001b[0;34m-\u001b[0m \u001b[0mstats\u001b[0m\u001b[0;34m.\u001b[0m\u001b[0mchi2\u001b[0m\u001b[0;34m.\u001b[0m\u001b[0mcdf\u001b[0m\u001b[0;34m(\u001b[0m\u001b[0mchi2_stat\u001b[0m\u001b[0;34m,\u001b[0m \u001b[0mlen\u001b[0m\u001b[0;34m(\u001b[0m\u001b[0mdata\u001b[0m\u001b[0;34m)\u001b[0m \u001b[0;34m-\u001b[0m \u001b[0;36m1\u001b[0m\u001b[0;34m)\u001b[0m\u001b[0;34m\u001b[0m\u001b[0;34m\u001b[0m\u001b[0m\n\u001b[1;32m      4\u001b[0m \u001b[0mprint\u001b[0m\u001b[0;34m(\u001b[0m\u001b[0;34mf\"Chi-square stat: {chi2_stat}, P-value: {p_value}\"\u001b[0m\u001b[0;34m)\u001b[0m\u001b[0;34m\u001b[0m\u001b[0;34m\u001b[0m\u001b[0m\n",
            "\u001b[0;32m/usr/local/lib/python3.11/dist-packages/numpy/_core/fromnumeric.py\u001b[0m in \u001b[0;36mvar\u001b[0;34m(a, axis, dtype, out, ddof, keepdims, where, mean, correction)\u001b[0m\n\u001b[1;32m   4006\u001b[0m             \u001b[0;32mreturn\u001b[0m \u001b[0mvar\u001b[0m\u001b[0;34m(\u001b[0m\u001b[0maxis\u001b[0m\u001b[0;34m=\u001b[0m\u001b[0maxis\u001b[0m\u001b[0;34m,\u001b[0m \u001b[0mdtype\u001b[0m\u001b[0;34m=\u001b[0m\u001b[0mdtype\u001b[0m\u001b[0;34m,\u001b[0m \u001b[0mout\u001b[0m\u001b[0;34m=\u001b[0m\u001b[0mout\u001b[0m\u001b[0;34m,\u001b[0m \u001b[0mddof\u001b[0m\u001b[0;34m=\u001b[0m\u001b[0mddof\u001b[0m\u001b[0;34m,\u001b[0m \u001b[0;34m**\u001b[0m\u001b[0mkwargs\u001b[0m\u001b[0;34m)\u001b[0m\u001b[0;34m\u001b[0m\u001b[0;34m\u001b[0m\u001b[0m\n\u001b[1;32m   4007\u001b[0m \u001b[0;34m\u001b[0m\u001b[0m\n\u001b[0;32m-> 4008\u001b[0;31m     return _methods._var(a, axis=axis, dtype=dtype, out=out, ddof=ddof,\n\u001b[0m\u001b[1;32m   4009\u001b[0m                          **kwargs)\n\u001b[1;32m   4010\u001b[0m \u001b[0;34m\u001b[0m\u001b[0m\n",
            "\u001b[0;32m/usr/local/lib/python3.11/dist-packages/numpy/_core/_methods.py\u001b[0m in \u001b[0;36m_var\u001b[0;34m(a, axis, dtype, out, ddof, keepdims, where, mean)\u001b[0m\n\u001b[1;32m    178\u001b[0m             \u001b[0marrmean\u001b[0m \u001b[0;34m=\u001b[0m \u001b[0marrmean\u001b[0m\u001b[0;34m.\u001b[0m\u001b[0mdtype\u001b[0m\u001b[0;34m.\u001b[0m\u001b[0mtype\u001b[0m\u001b[0;34m(\u001b[0m\u001b[0marrmean\u001b[0m \u001b[0;34m/\u001b[0m \u001b[0mrcount\u001b[0m\u001b[0;34m)\u001b[0m\u001b[0;34m\u001b[0m\u001b[0;34m\u001b[0m\u001b[0m\n\u001b[1;32m    179\u001b[0m         \u001b[0;32melse\u001b[0m\u001b[0;34m:\u001b[0m\u001b[0;34m\u001b[0m\u001b[0;34m\u001b[0m\u001b[0m\n\u001b[0;32m--> 180\u001b[0;31m             \u001b[0marrmean\u001b[0m \u001b[0;34m=\u001b[0m \u001b[0marrmean\u001b[0m \u001b[0;34m/\u001b[0m \u001b[0mrcount\u001b[0m\u001b[0;34m\u001b[0m\u001b[0;34m\u001b[0m\u001b[0m\n\u001b[0m\u001b[1;32m    181\u001b[0m \u001b[0;34m\u001b[0m\u001b[0m\n\u001b[1;32m    182\u001b[0m     \u001b[0;31m# Compute sum of squared deviations from mean\u001b[0m\u001b[0;34m\u001b[0m\u001b[0;34m\u001b[0m\u001b[0m\n",
            "\u001b[0;31mTypeError\u001b[0m: unsupported operand type(s) for /: 'dict' and 'int'"
          ]
        }
      ]
    },
    {
      "cell_type": "markdown",
      "source": [
        "Q 25. Write a Python script to perform a Z-test for comparing proportions between two datasets."
      ],
      "metadata": {
        "id": "NCYCz564LSBQ"
      }
    },
    {
      "cell_type": "code",
      "source": [
        "from statsmodels.stats.proportion import proportions_ztest\n",
        "\n",
        "count = np.array([30, 50])  # Success counts\n",
        "nobs = np.array([100, 200])  # Total observations\n",
        "z_stat, p_value = proportions_ztest(count, nobs)\n",
        "\n",
        "print(f\"Z-stat: {z_stat}, P-value: {p_value}\")"
      ],
      "metadata": {
        "colab": {
          "base_uri": "https://localhost:8080/"
        },
        "id": "U6rpebt3LUll",
        "outputId": "a2f4e8e1-5a8f-4d9e-e88a-138a9bc3299a"
      },
      "execution_count": null,
      "outputs": [
        {
          "output_type": "stream",
          "name": "stdout",
          "text": [
            "Z-stat: 0.9231861823449954, P-value: 0.35591018837100963\n"
          ]
        }
      ]
    },
    {
      "cell_type": "markdown",
      "source": [
        "Q26 . Implement an F-test for comparing variances of two datasets and visualize results.\n"
      ],
      "metadata": {
        "id": "zJXn21VYLWUx"
      }
    },
    {
      "cell_type": "code",
      "source": [
        "def f_test(sample1, sample2):\n",
        "    var1, var2 = np.var(sample1, ddof=1), np.var(sample2, ddof=1)\n",
        "    F = var1 / var2\n",
        "    p_value = stats.f.cdf(F, len(sample1)-1, len(sample2)-1)\n",
        "    return F, p_value\n",
        "\n",
        "# Example\n",
        "sample1 = np.random.randn(30) * 10 + 50\n",
        "sample2 = np.random.randn(30) * 15 + 50\n",
        "print(f_test(sample1, sample2))"
      ],
      "metadata": {
        "colab": {
          "base_uri": "https://localhost:8080/"
        },
        "id": "1b_KHWIKLZGh",
        "outputId": "b577efe3-ddc5-473b-a8fe-f3a15a01537e"
      },
      "execution_count": null,
      "outputs": [
        {
          "output_type": "stream",
          "name": "stdout",
          "text": [
            "(np.float64(0.4677007514331126), np.float64(0.022472560868609177))\n"
          ]
        }
      ]
    },
    {
      "cell_type": "markdown",
      "source": [
        "Q 27. Perform a Chi-square goodness-of-fit test with simulated data.\n"
      ],
      "metadata": {
        "id": "5yEpULXQLeuA"
      }
    },
    {
      "cell_type": "code",
      "source": [
        "observed = np.array([50, 30, 20])\n",
        "expected = np.array([40, 40, 20])\n",
        "\n",
        "chi2_stat, p_value = stats.chisquare(observed, expected)\n",
        "print(f\"Chi-square Statistic: {chi2_stat}, P-value: {p_value}\")"
      ],
      "metadata": {
        "colab": {
          "base_uri": "https://localhost:8080/"
        },
        "id": "rURjqbYWLg4D",
        "outputId": "b2e15c22-62d4-4fa7-b3c0-f785a47a909e"
      },
      "execution_count": null,
      "outputs": [
        {
          "output_type": "stream",
          "name": "stdout",
          "text": [
            "Chi-square Statistic: 5.0, P-value: 0.0820849986238988\n"
          ]
        }
      ]
    },
    {
      "cell_type": "markdown",
      "source": [
        "Q1 . Perform a Z-test for comparing a sample mean to a known population mean"
      ],
      "metadata": {
        "id": "UFgL8SjSM8ll"
      }
    },
    {
      "cell_type": "code",
      "source": [
        "from statsmodels.stats.weightstats import ztest\n",
        "import numpy as np\n",
        "\n",
        "# Simulated sample data\n",
        "sample = np.random.normal(loc=50, scale=10, size=30)  # Mean=50, Std=10, n=30\n",
        "pop_mean = 50\n",
        "\n",
        "# Perform Z-test\n",
        "z_stat, p_value = ztest(sample, value=pop_mean)\n",
        "print(f\"Z-statistic: {z_stat:.3f}, P-value: {p_value:.3f}\")\n",
        "\n",
        "# Interpretation\n",
        "if p_value < 0.05:\n",
        "    print(\"Reject the null hypothesis: The sample mean is significantly different from the population mean.\")\n",
        "else:\n",
        "    print(\"Fail to reject the null hypothesis: No significant difference.\")"
      ],
      "metadata": {
        "id": "g64eSToPM_bl"
      },
      "execution_count": null,
      "outputs": []
    },
    {
      "cell_type": "markdown",
      "source": [
        "Q 2. Simulate random data for hypothesis testing and calculate the P-value"
      ],
      "metadata": {
        "id": "ndfPnBUFNBF3"
      }
    },
    {
      "cell_type": "code",
      "source": [
        "import scipy.stats as stats\n",
        "\n",
        "# Generate random data\n",
        "data = np.random.normal(100, 15, 50)  # Mean=100, Std=15, n=50\n",
        "\n",
        "# Perform hypothesis test (one-sample t-test)\n",
        "t_stat, p_value = stats.ttest_1samp(data, 100)\n",
        "\n",
        "print(f\"T-statistic: {t_stat:.3f}, P-value: {p_value:.3f}\")"
      ],
      "metadata": {
        "id": "77ULMS-gNDU4"
      },
      "execution_count": null,
      "outputs": []
    },
    {
      "cell_type": "markdown",
      "source": [
        "3. Implement a one-sample Z-test to compare sample mean with population mean\n"
      ],
      "metadata": {
        "id": "jgpZfqJRNEub"
      }
    },
    {
      "cell_type": "code",
      "source": [
        "from statsmodels.stats.weightstats import ztest\n",
        "import numpy as np\n",
        "\n",
        "# Simulated sample data\n",
        "sample = np.random.normal(loc=50, scale=10, size=30)  # Mean=50, Std=10, n=30\n",
        "pop_mean = 50\n",
        "\n",
        "# Perform Z-test\n",
        "z_stat, p_value = ztest(sample, value=pop_mean)\n",
        "print(f\"Z-statistic: {z_stat:.3f}, P-value: {p_value:.3f}\")\n",
        "\n",
        "# Interpretation\n",
        "if p_value < 0.05:\n",
        "    print(\"Reject the null hypothesis: The sample mean is significantly different from the population mean.\")\n",
        "else:\n",
        "    print(\"Fail to reject the null hypothesis: No significant difference.\")"
      ],
      "metadata": {
        "id": "csvH5h06NGQE"
      },
      "execution_count": null,
      "outputs": []
    },
    {
      "cell_type": "markdown",
      "source": [
        "Q 4. Perform a two-tailed Z-test and visualize the decision region"
      ],
      "metadata": {
        "id": "Pu8vy2vyNIoc"
      }
    },
    {
      "cell_type": "code",
      "source": [
        "import matplotlib.pyplot as plt\n",
        "\n",
        "# Sample Z-score range\n",
        "x = np.linspace(-4, 4, 1000)\n",
        "y = stats.norm.pdf(x, 0, 1)\n",
        "\n",
        "# Critical Z-values for 95% confidence (two-tailed)\n",
        "z_critical = stats.norm.ppf(0.975)\n",
        "\n",
        "plt.plot(x, y, label=\"Standard Normal Distribution\")\n",
        "plt.axvline(-z_critical, color='red', linestyle=\"dashed\", label=\"Critical Region (-Z)\")\n",
        "plt.axvline(z_critical, color='red', linestyle=\"dashed\", label=\"Critical Region (+Z)\")\n",
        "plt.fill_between(x, y, where=(x < -z_critical) | (x > z_critical), color='red', alpha=0.3)\n",
        "plt.legend()\n",
        "plt.title(\"Two-tailed Z-test Decision Region\")\n",
        "plt.show()"
      ],
      "metadata": {
        "id": "PhhqZpcwNLX9"
      },
      "execution_count": null,
      "outputs": []
    },
    {
      "cell_type": "markdown",
      "source": [
        "Q 5 . Function to calculate and visualize Type 1 & Type 2 errors"
      ],
      "metadata": {
        "id": "mNVSROnBNM-8"
      }
    },
    {
      "cell_type": "code",
      "source": [
        " def type1_type2_error_plot(alpha=0.05, beta=0.2):\n",
        "    x = np.linspace(-4, 4, 1000)\n",
        "    y_h0 = stats.norm.pdf(x, 0, 1)\n",
        "    y_h1 = stats.norm.pdf(x, 2, 1)\n",
        "\n",
        "    z_critical = stats.norm.ppf(1 - alpha)\n",
        "\n",
        "    plt.plot(x, y_h0, label=\"H0 Distribution\")\n",
        "    plt.plot(x, y_h1, label=\"H1 Distribution\", linestyle='dashed')\n",
        "    plt.fill_between(x, y_h0, where=(x > z_critical), color='red', alpha=0.3, label=\"Type I Error (α)\")\n",
        "    plt.fill_between(x, y_h1, where=(x <= z_critical), color='blue', alpha=0.3, label=\"Type II Error (β)\")\n",
        "\n",
        "    plt.axvline(z_critical, color=\"black\", linestyle=\"dashed\")\n",
        "    plt.legend()\n",
        "    plt.title(\"Type I and Type II Errors\")\n",
        "    plt.show()\n",
        "\n",
        "type1_type2_error_plot()"
      ],
      "metadata": {
        "colab": {
          "base_uri": "https://localhost:8080/",
          "height": 452
        },
        "id": "79g5CCLDNQZ5",
        "outputId": "5535d412-f67b-4c45-e7db-4a66422541da"
      },
      "execution_count": null,
      "outputs": [
        {
          "output_type": "display_data",
          "data": {
            "text/plain": [
              "<Figure size 640x480 with 1 Axes>"
            ],
            "image/png": "[encoded data removed]"
          },
          "metadata": {}
        }
      ]
    },
    {
      "cell_type": "markdown",
      "source": [],
      "metadata": {
        "id": "aHnY1nugNStv"
      }
    },
    {
      "cell_type": "markdown",
      "source": [
        "Q 6. Perform an independent T-test and interpret the results"
      ],
      "metadata": {
        "id": "ABDpEm6WNWPf"
      }
    },
    {
      "cell_type": "code",
      "source": [
        "# Generate two independent samples\n",
        "group1 = np.random.normal(100, 15, 30)\n",
        "group2 = np.random.normal(105, 15, 30)\n",
        "\n",
        "# Independent T-test\n",
        "t_stat, p_value = stats.ttest_ind(group1, group2)\n",
        "\n",
        "print(f\"T-statistic: {t_stat:.3f}, P-value: {p_value:.3f}\")\n",
        "if p_value < 0.05:\n",
        "    print(\"Reject null hypothesis: The means are significantly different.\")\n",
        "else:\n",
        "    print(\"Fail to reject null hypothesis: No significant difference.\")"
      ],
      "metadata": {
        "colab": {
          "base_uri": "https://localhost:8080/"
        },
        "id": "9Vj-Tg1mNZJu",
        "outputId": "5d9744b7-c405-4ed8-8c31-d20c7dfcc833"
      },
      "execution_count": null,
      "outputs": [
        {
          "output_type": "stream",
          "name": "stdout",
          "text": [
            "T-statistic: -0.843, P-value: 0.403\n",
            "Fail to reject null hypothesis: No significant difference.\n"
          ]
        }
      ]
    },
    {
      "cell_type": "markdown",
      "source": [
        "Q7. Perform a paired sample T-test and visualize results"
      ],
      "metadata": {
        "id": "4lLUpB5QNa2S"
      }
    },
    {
      "cell_type": "code",
      "source": [
        "# Simulated before-and-after scores\n",
        "before = np.random.normal(80, 10, 30)\n",
        "after = before + np.random.normal(5, 5, 30)  # Small improvement\n",
        "\n",
        "# Paired T-test\n",
        "t_stat, p_value = stats.ttest_rel(before, after)\n",
        "\n",
        "print(f\"Paired T-test: T-statistic = {t_stat:.3f}, P-value = {p_value:.3f}\")\n",
        "\n",
        "# Visualization\n",
        "plt.boxplot([before, after], labels=[\"Before\", \"After\"])\n",
        "plt.title(\"Paired Sample Comparison\")\n",
        "plt.show()"
      ],
      "metadata": {
        "colab": {
          "base_uri": "https://localhost:8080/",
          "height": 526
        },
        "id": "oxym_KKwNeVm",
        "outputId": "080285e8-04d5-438d-afcc-8c472baa9e2e"
      },
      "execution_count": null,
      "outputs": [
        {
          "output_type": "stream",
          "name": "stdout",
          "text": [
            "Paired T-test: T-statistic = -7.922, P-value = 0.000\n"
          ]
        },
        {
          "output_type": "stream",
          "name": "stderr",
          "text": [
            "<ipython-input-27-8627ee870d64>:11: MatplotlibDeprecationWarning: The 'labels' parameter of boxplot() has been renamed 'tick_labels' since Matplotlib 3.9; support for the old name will be dropped in 3.11.\n",
            "  plt.boxplot([before, after], labels=[\"Before\", \"After\"])\n"
          ]
        },
        {
          "output_type": "display_data",
          "data": {
            "text/plain": [
              "<Figure size 640x480 with 1 Axes>"
            ],
            "image/png": "[encoded data removed]"
          },
          "metadata": {}
        }
      ]
    },
    {
      "cell_type": "markdown",
      "source": [
        "Q8. Simulate data and compare Z-test & T-test results"
      ],
      "metadata": {
        "id": "dT7DSLf8NgP2"
      }
    },
    {
      "cell_type": "code",
      "source": [
        "sample1 = np.random.normal(50, 10, 25)\n",
        "sample2 = np.random.normal(55, 10, 25)\n",
        "\n",
        "# Z-test\n",
        "z_stat, z_p = ztest(sample1, sample2)\n",
        "print(f\"Z-test: Z-stat = {z_stat:.3f}, P-value = {z_p:.3f}\")\n",
        "\n",
        "# T-test\n",
        "t_stat, t_p = stats.ttest_ind(sample1, sample2)\n",
        "print(f\"T-test: T-stat = {t_stat:.3f}, P-value = {t_p:.3f}\")"
      ],
      "metadata": {
        "id": "0yyXAZzuNiTX",
        "outputId": "c73048e1-da9f-481a-9754-6b5485ad54fa",
        "colab": {
          "base_uri": "https://localhost:8080/",
          "height": 216
        }
      },
      "execution_count": null,
      "outputs": [
        {
          "output_type": "error",
          "ename": "NameError",
          "evalue": "name 'ztest' is not defined",
          "traceback": [
            "\u001b[0;31m---------------------------------------------------------------------------\u001b[0m",
            "\u001b[0;31mNameError\u001b[0m                                 Traceback (most recent call last)",
            "\u001b[0;32m<ipython-input-28-4782943e8cee>\u001b[0m in \u001b[0;36m<cell line: 0>\u001b[0;34m()\u001b[0m\n\u001b[1;32m      3\u001b[0m \u001b[0;34m\u001b[0m\u001b[0m\n\u001b[1;32m      4\u001b[0m \u001b[0;31m# Z-test\u001b[0m\u001b[0;34m\u001b[0m\u001b[0;34m\u001b[0m\u001b[0m\n\u001b[0;32m----> 5\u001b[0;31m \u001b[0mz_stat\u001b[0m\u001b[0;34m,\u001b[0m \u001b[0mz_p\u001b[0m \u001b[0;34m=\u001b[0m \u001b[0mztest\u001b[0m\u001b[0;34m(\u001b[0m\u001b[0msample1\u001b[0m\u001b[0;34m,\u001b[0m \u001b[0msample2\u001b[0m\u001b[0;34m)\u001b[0m\u001b[0;34m\u001b[0m\u001b[0;34m\u001b[0m\u001b[0m\n\u001b[0m\u001b[1;32m      6\u001b[0m \u001b[0mprint\u001b[0m\u001b[0;34m(\u001b[0m\u001b[0;34mf\"Z-test: Z-stat = {z_stat:.3f}, P-value = {z_p:.3f}\"\u001b[0m\u001b[0;34m)\u001b[0m\u001b[0;34m\u001b[0m\u001b[0;34m\u001b[0m\u001b[0m\n\u001b[1;32m      7\u001b[0m \u001b[0;34m\u001b[0m\u001b[0m\n",
            "\u001b[0;31mNameError\u001b[0m: name 'ztest' is not defined"
          ]
        }
      ]
    },
    {
      "cell_type": "markdown",
      "source": [
        "9. Function to calculate confidence interval for a sample mean"
      ],
      "metadata": {
        "id": "6tdzhYSiNkGu"
      }
    },
    {
      "cell_type": "code",
      "source": [
        "def confidence_interval(sample, confidence=0.95):\n",
        "    mean = np.mean(sample)\n",
        "    sem = stats.sem(sample)  # Standard error of mean\n",
        "    margin = stats.t.ppf((1 + confidence) / 2., len(sample) - 1) * sem\n",
        "    return mean - margin, mean + margin\n",
        "\n",
        "# Example\n",
        "sample = np.random.normal(100, 15, 30)\n",
        "lower, upper = confidence_interval(sample)\n",
        "print(f\"95% Confidence Interval: ({lower:.2f}, {upper:.2f})\")"
      ],
      "metadata": {
        "id": "mZYUJ0DLNnUN",
        "outputId": "bb2ed322-72d6-4ad4-9aba-b4e77297f188",
        "colab": {
          "base_uri": "https://localhost:8080/"
        }
      },
      "execution_count": null,
      "outputs": [
        {
          "output_type": "stream",
          "name": "stdout",
          "text": [
            "95% Confidence Interval: (91.24, 102.22)\n"
          ]
        }
      ]
    },
    {
      "cell_type": "code",
      "source": [],
      "metadata": {
        "id": "8bCksRbHNmOl"
      },
      "execution_count": null,
      "outputs": []
    }
  ]
}