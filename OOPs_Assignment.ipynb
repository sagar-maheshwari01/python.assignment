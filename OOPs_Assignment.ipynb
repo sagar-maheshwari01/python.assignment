{
  "nbformat": 4,
  "nbformat_minor": 0,
  "metadata": {
    "colab": {
      "provenance": [],
      "include_colab_link": true
    },
    "kernelspec": {
      "name": "python3",
      "display_name": "Python 3"
    },
    "language_info": {
      "name": "python"
    }
  },
  "cells": [
    {
      "cell_type": "markdown",
      "metadata": {
        "id": "view-in-github",
        "colab_type": "text"
      },
      "source": [
        "<a href=\"https://colab.research.google.com/github/sagar-maheshwari01/python.assignment/blob/main/OOPs_Assignment.ipynb\" target=\"_parent\"><img src=\"https://colab.research.google.com/assets/colab-badge.svg\" alt=\"Open In Colab\"/></a>"
      ]
    },
    {
      "cell_type": "markdown",
      "source": [
        "## Python OOPs Questions:-\n",
        "Q.1. What is Object-Oriented Programming (OOP)?\n",
        "\n",
        "Ans:- Object-Oriented Programming (OOP) is a programming paradigm based on the concept of objects, which encapsulate data and behavior. It promotes code reusability, modularity, and scalability using four main principles: encapsulation, abstraction, inheritance, and polymorphism.\n",
        "\n",
        "Q.2. What is a class in OOP?\n",
        "\n",
        "Ans:- A class is a blueprint or template for creating objects. It defines the attributes (data members) and methods (functions) that objects instantiated from the class will have.\n",
        "\n",
        "Q.3. What is an object in OOP?\n",
        "\n",
        "Ans:- An Object is an instance of a class that has its own unique state and behavior. Objects store data in attributes and use methods to perform actions.\n",
        "\n",
        "Q.4. What is the difference between abstraction and encapsulation?\n",
        "\n",
        "Ans:- Abstraction is the concept of hiding implementation details and only exposing essential functionalities to the user.\n",
        "Encapsulation is the technique of wrapping data and methods into a single unit (class) and restricting direct access to the internal data.\n",
        "\n",
        "Q.5. What are dunder methods in Python?\n",
        "\n",
        "Ans:- Dunder (double underscore) methods, also known as magic methods, are special methods in Python that start and end with double underscores (e.g., __init__, __str__). They provide built-in functionality for classes, such as object initialization and representation.\n",
        "\n",
        "Q.6. Explain the concept of inheritance in OOP.\n",
        "\n",
        "Ans:- Inheritance allows a class (child/subclass) to inherit attributes and methods from another class (parent/superclass). This promotes code reuse and hierarchical relationships among classes.\n",
        "\n",
        "Q7. What is polymorphism in OOP?\n",
        "\n",
        "Ans:- Polymorphism allows objects of different classes to be treated as objects of a common superclass. It enables a single interface to represent different underlying forms, such as method overriding and method overloading.\n",
        "\n",
        "Q.8. How is encapsulation achieved in Python?\n",
        "\n",
        "Ans:- Encapsulation in Python is achieved using:\n",
        "\n",
        "Public members: Accessible from anywhere.\n",
        "\n",
        "Protected members (_variable): Indicated by a single underscore and intended for internal use.\n",
        "\n",
        "Private members (__variable): Indicated by double underscores, restricting direct access from outside the class.\n",
        "\n",
        "Q.9. What is a constructor in Python?\n",
        "\n",
        "Ans:- A constructor is a special method (__init__) in Python that is automatically called when an object of a class is created. It is used to initialize attributes of the object.\n",
        "\n",
        "Q.10. What are class and static methods in Python?\n",
        "\n",
        "Ans:- Class methods (@classmethod): Operate on the class rather than instance objects and take cls as their first parameter.\n",
        "\n",
        "Static methods (@staticmethod): Do not require access to instance or class-specific attributes and behave like regular functions within a class.\n",
        "\n",
        "Q.11. What is method overloading in Python?\n",
        "\n",
        "Ans:- Method overloading refers to defining multiple methods with the same name but different parameters. Python does not support method overloading explicitly, but it can be achieved using default arguments or variable-length arguments (*args, **kwargs).\n",
        "\n",
        "Q.12. What is method overriding in OOP?\n",
        "\n",
        "Ans:- Method overriding occurs when a subclass provides a specific implementation of a method that is already defined in its parent class. The overridden method in the subclass must have the same name, parameters, and return type.\n",
        "\n",
        "Q.13. What is a property decorator in Python?\n",
        "\n",
        "Ans:- The @property decorator in Python is used to define getter methods for accessing attributes in an object, making a method behave like an attribute. It helps implement encapsulation.\n",
        "\n",
        "Q.14. Why is polymorphism important in OOP?\n",
        "\n",
        "Ans:- Polymorphism enhances flexibility and scalability by allowing different classes to be used interchangeably. It enables code reuse and simplifies software maintenance.\n",
        "\n",
        "Q.15. What is an abstract class in Python?\n",
        "\n",
        "Ans:-  An abstract class in Python is a class that cannot be instantiated and serves as a base for other classes. It is defined using the ABC module and contains at least one abstract method, which must be implemented by subclasses.\n",
        "\n",
        "Q.16. What are the advantages of OOP?\n",
        "\n",
        "Ans:- 1.Code reusability through inheritance.\n",
        "\n",
        "2. Modular and organized code\n",
        "3.Scalability and flexibility\n",
        "4.Better data security with encapsulation\n",
        "5.Easier maintenance and debugging\n",
        "\n",
        "Q17. What is multiple inheritance in Python?\n",
        "\n",
        "Ans:- Multiple inheritance allows a class to inherit from more than one parent class. This enables a child class to access attributes and methods from multiple classes.\n",
        "\n",
        "Q.18. What is the difference between a class variable and an instance variable?\n",
        "\n",
        "Ans:- Class variable: Shared among all instances of a class and declared inside the class but outside any method.\n",
        "\n",
        "Instance variable: Unique to each object and defined inside the constructor (__init__).\n",
        "\n",
        "Q.19. Explain the purpose of __str__ and __repr__ methods in Python.\n",
        "\n",
        "Ans:- __str__: Returns a human-readable string representation of an object.\n",
        "\n",
        "__repr__: Returns an official string representation of an object, mainly used for debugging.\n",
        "\n",
        "Q.20. What is the significance of the super() function in Python?\n",
        "\n",
        "Ans:- The super() function allows a subclass to access methods and attributes of its parent class. It is commonly used to invoke the parent class’s constructor and avoid redundant code.\n",
        "\n",
        "Q.21. What is the significance of the __del__ method in Python?\n",
        "\n",
        "Ans:- The __del__ method is a destructor that is called when an object is about to be destroyed. It helps in resource management, such as closing files or releasing memory.\n",
        "\n",
        "Q.22. What is the difference between @staticmethod and @classmethod in Python?\n",
        "\n",
        "Ans:- @staticmethod: Does not access class or instance attributes and behaves like a normal function inside a class.\n",
        "\n",
        "@classmethod: Operates on the class level and takes cls as its first argument.\n",
        "\n",
        "Q.23. How does polymorphism work in Python with inheritance?\n",
        "\n",
        "Ans:- Polymorphism in Python allows a subclass to define methods with the same name as in the parent class. This allows objects of different types to be accessed using a common interface, supporting method overriding and dynamic method resolution.\n",
        "\n",
        "Q.24. What is method chaining in Python OOP?\n",
        "\n",
        "Ans:- Method chaining refers to calling multiple methods on the same object sequentially in a single line. It is achieved by returning self from methods to allow continuous calls.\n",
        "\n",
        "Q.25. What is the purpose of the __call__ method in Python?\n",
        "\n",
        "Ans:- The __call__ method allows an instance of a class to be called as a function. It enables objects to behave like functions, making them callable.\n"
      ],
      "metadata": {
        "id": "vP4VgCiX-LMF"
      }
    },
    {
      "cell_type": "code",
      "source": [],
      "metadata": {
        "id": "n3BsHal2fFWZ"
      },
      "execution_count": null,
      "outputs": []
    },
    {
      "cell_type": "markdown",
      "source": [
        "# **Practical Questions:-**"
      ],
      "metadata": {
        "id": "ZTfJZTSqfJIh"
      }
    },
    {
      "cell_type": "markdown",
      "source": [
        "Q.1. Create a parent class Animal with a method speak() that prints a generic message. Create a child class Dog\n",
        "that overrides the speak() method to print \"Bark!\"\n",
        "\n",
        "Ans:-"
      ],
      "metadata": {
        "id": "mGN9WdD2fflr"
      }
    },
    {
      "cell_type": "code",
      "source": [
        "class Animal:\n",
        "    def speak(self):\n",
        "        print(\"Generic animal sound\")\n",
        "\n",
        "class Dog(Animal):\n",
        "    def speak(self):\n",
        "        print(\"Bark!\")\n",
        "\n",
        "\n",
        "animal = Animal()\n",
        "animal.speak()\n",
        "\n",
        "dog = Dog()\n",
        "dog.speak()"
      ],
      "metadata": {
        "colab": {
          "base_uri": "https://localhost:8080/"
        },
        "id": "YvNmb2J9f1r6",
        "outputId": "461e91c4-b636-4a38-b069-2d8aaca63123"
      },
      "execution_count": null,
      "outputs": [
        {
          "output_type": "stream",
          "name": "stdout",
          "text": [
            "Generic animal sound\n",
            "Bark!\n"
          ]
        }
      ]
    },
    {
      "cell_type": "markdown",
      "source": [
        "Q.2. Write a program to create an abstract class Shape with a method area(). Derive classes Circle and Rectangle\n",
        "from it and implement the area() method in both.\n",
        "\n",
        "Ans:-"
      ],
      "metadata": {
        "id": "n0nflTYsiWku"
      }
    },
    {
      "cell_type": "code",
      "source": [
        "from abc import ABC, abstractmethod\n",
        "\n",
        "class Shape(ABC):\n",
        "    @abstractmethod\n",
        "    def area(self):\n",
        "        pass\n",
        "\n",
        "class Circle(Shape):\n",
        "    def __init__(self, radius):\n",
        "        self.radius = radius\n",
        "\n",
        "    def area(self):\n",
        "        return 3.14 * self.radius * self.radius\n",
        "\n",
        "class Rectangle(Shape):\n",
        "    def __init__(self, length, width):\n",
        "        self.length = length\n",
        "        self.width = width\n",
        "\n",
        "    def area(self):\n",
        "        return self.length * self.width\n",
        "\n",
        "circle = Circle(5)\n",
        "print(circle.area())\n",
        "\n",
        "rectangle = Rectangle(4, 6)\n",
        "print(rectangle.area())"
      ],
      "metadata": {
        "colab": {
          "base_uri": "https://localhost:8080/"
        },
        "id": "sEMDV-FxghTp",
        "outputId": "ce0b1c02-396a-4deb-bc78-7c5718184dde"
      },
      "execution_count": null,
      "outputs": [
        {
          "output_type": "stream",
          "name": "stdout",
          "text": [
            "78.5\n",
            "24\n"
          ]
        }
      ]
    },
    {
      "cell_type": "markdown",
      "source": [
        "Q.3. Implement a multi-level inheritance scenario where a class Vehicle has an attribute type. Derive a class Car\n",
        "and further derive a class ElectricCar that adds a battery attribute.\n",
        "\n",
        "Ans:-"
      ],
      "metadata": {
        "id": "jCI0rpe7mV87"
      }
    },
    {
      "cell_type": "code",
      "source": [
        "class Vehicle:\n",
        "    def __init__(self, vehicle_type):\n",
        "        self.type = vehicle_type\n",
        "\n",
        "class Car(Vehicle):\n",
        "    def __init__(self, car_type):\n",
        "        super().__init__(\"Car\")\n",
        "        self.car_type = car_type\n",
        "\n",
        "class ElectricCar(Car):\n",
        "    def __init__(self, car_type, battery_capacity):\n",
        "        super().__init__(car_type)\n",
        "        self.battery_capacity = battery_capacity\n",
        "\n",
        "\n",
        "car = ElectricCar(\"Sedan\", \"40kWh\")\n",
        "print(car.type)\n",
        "print(car.car_type)\n",
        "print(car.battery_capacity)"
      ],
      "metadata": {
        "colab": {
          "base_uri": "https://localhost:8080/"
        },
        "id": "kbp68SkYmTs-",
        "outputId": "cc86f148-07c4-4f1c-e095-6034728d344b"
      },
      "execution_count": null,
      "outputs": [
        {
          "output_type": "stream",
          "name": "stdout",
          "text": [
            "Car\n",
            "Sedan\n",
            "40kWh\n"
          ]
        }
      ]
    },
    {
      "cell_type": "markdown",
      "source": [
        " Q.4. Demonstrate polymorphism by creating a base class Bird with a method fly(). Create two derived classes\n",
        "Sparrow and Penguin that override the fly() method.\n",
        "\n",
        "Ans:-"
      ],
      "metadata": {
        "id": "C_TVcIygn65C"
      }
    },
    {
      "cell_type": "code",
      "source": [
        "class Bird:\n",
        "    def fly(self):\n",
        "        print(\"Birds can fly\")\n",
        "\n",
        "class Sparrow(Bird):\n",
        "    def fly(self):\n",
        "        print(\"Sparrows can fly at high speeds\")\n",
        "\n",
        "class Penguin(Bird):\n",
        "    def fly(self):\n",
        "        print(\"Penguins cannot fly\")\n",
        "\n",
        "bird = Bird()\n",
        "bird.fly()\n",
        "\n",
        "sparrow = Sparrow()\n",
        "sparrow.fly()\n",
        "\n",
        "penguin = Penguin()\n",
        "penguin.fly()"
      ],
      "metadata": {
        "colab": {
          "base_uri": "https://localhost:8080/"
        },
        "id": "JcMFszBln6WC",
        "outputId": "6ff128b0-3215-4ee6-91db-cb6015194350"
      },
      "execution_count": null,
      "outputs": [
        {
          "output_type": "stream",
          "name": "stdout",
          "text": [
            "Birds can fly\n",
            "Sparrows can fly at high speeds\n",
            "Penguins cannot fly\n"
          ]
        }
      ]
    },
    {
      "cell_type": "markdown",
      "source": [
        "Q.5. Write a program to demonstrate encapsulation by creating a class BankAccount with private attributes\n",
        "balance and methods to deposit, withdraw, and check balance.\n",
        "\n",
        "Ans:-"
      ],
      "metadata": {
        "id": "xqv9FUxiqESp"
      }
    },
    {
      "cell_type": "code",
      "source": [
        "class BankAccount:\n",
        "    def __init__(self, balance):\n",
        "        self.__balance = balance\n",
        "\n",
        "    def deposit(self, amount):\n",
        "        self.__balance += amount\n",
        "\n",
        "    def withdraw(self, amount):\n",
        "        if amount <= self.__balance:\n",
        "            self.__balance -= amount\n",
        "        else:\n",
        "            print(\"Insufficient balance\")\n",
        "\n",
        "    def check_balance(self):\n",
        "          return self.__balance\n",
        "\n",
        "account = BankAccount(1000)\n",
        "account.deposit(500)\n",
        "account.withdraw(200)\n",
        "print(account.check_balance())"
      ],
      "metadata": {
        "colab": {
          "base_uri": "https://localhost:8080/"
        },
        "id": "8Py2ebyZnZPO",
        "outputId": "2eb54257-049f-482e-b4a2-a3f7c296a5ac"
      },
      "execution_count": null,
      "outputs": [
        {
          "output_type": "stream",
          "name": "stdout",
          "text": [
            "1300\n"
          ]
        }
      ]
    },
    {
      "cell_type": "markdown",
      "source": [
        "Q.6. Demonstrate runtime polymorphism using a method play() in a base class Instrument. Derive classes Guitar\n",
        "and Piano that implement their own version of play()\n",
        "\n",
        "Ans:-"
      ],
      "metadata": {
        "id": "mYZnXoxrvovC"
      }
    },
    {
      "cell_type": "code",
      "source": [
        "class Instrument:\n",
        "    def play(self):\n",
        "        print(\"Generic instrument sound\")\n",
        "\n",
        "class Guitar(Instrument):\n",
        "    def play(self):\n",
        "        print(\"Guitar sounds like a string\")\n",
        "\n",
        "class Piano(Instrument):\n",
        "    def play(self):\n",
        "        print(\"Piano sounds like a key\")\n",
        "\n",
        "instrument = Instrument()\n",
        "instrument.play()\n",
        "\n",
        "guitar = Guitar()\n",
        "guitar.play()\n",
        "\n",
        "piano = Piano()\n",
        "piano.play()"
      ],
      "metadata": {
        "colab": {
          "base_uri": "https://localhost:8080/"
        },
        "id": "wiP8iu38u0es",
        "outputId": "cddd70ed-6841-444a-ecf6-be32231d4c01"
      },
      "execution_count": null,
      "outputs": [
        {
          "output_type": "stream",
          "name": "stdout",
          "text": [
            "Generic instrument sound\n",
            "Guitar sounds like a string\n",
            "Piano sounds like a key\n"
          ]
        }
      ]
    },
    {
      "cell_type": "markdown",
      "source": [
        "Q.7. Create a class MathOperations with a class method add_numbers() to add two numbers and a static\n",
        "method subtract_numbers() to subtract two numbers.\n",
        "\n",
        "Ans:-"
      ],
      "metadata": {
        "id": "4y9xQg3Oworm"
      }
    },
    {
      "cell_type": "code",
      "source": [
        "class MathOperations:\n",
        "    @classmethod\n",
        "    def add_numbers(cls, a, b):\n",
        "        return a + b\n",
        "\n",
        "    @staticmethod\n",
        "    def subtract_numbers(a, b):\n",
        "        return a - b\n",
        "\n",
        "print(MathOperations.add_numbers(5, 3))\n",
        "print(MathOperations.subtract_numbers(5, 3))"
      ],
      "metadata": {
        "colab": {
          "base_uri": "https://localhost:8080/"
        },
        "id": "vw72KHCgwnUr",
        "outputId": "d5fdf2cb-a701-4831-beb4-f74ab05be26a"
      },
      "execution_count": null,
      "outputs": [
        {
          "output_type": "stream",
          "name": "stdout",
          "text": [
            "8\n",
            "2\n"
          ]
        }
      ]
    },
    {
      "cell_type": "markdown",
      "source": [
        "Q.8. Implement a class Person with a class method to count the total number of persons created.\n",
        "\n",
        "Ans:-"
      ],
      "metadata": {
        "id": "bwsjlprXw-PA"
      }
    },
    {
      "cell_type": "code",
      "source": [
        "class Person:\n",
        "    count = 0\n",
        "\n",
        "    def __init__(self):\n",
        "        Person.count += 1\n",
        "\n",
        "    @classmethod\n",
        "    def get_count(cls):\n",
        "        return cls.count\n",
        "\n",
        "person1 = Person()\n",
        "person2 = Person()\n",
        "print(Person.get_count())"
      ],
      "metadata": {
        "colab": {
          "base_uri": "https://localhost:8080/"
        },
        "id": "YiO_YeDOw2er",
        "outputId": "8e878dc8-6f7b-4fd3-8c1d-9ce01c8c8bd7"
      },
      "execution_count": null,
      "outputs": [
        {
          "output_type": "stream",
          "name": "stdout",
          "text": [
            "2\n"
          ]
        }
      ]
    },
    {
      "cell_type": "markdown",
      "source": [
        "Q.9. Write a class Fraction with attributes numerator and denominator. Override the str method to display the\n",
        "fraction as \"numerator/denominator\".\n",
        "\n",
        "Ans:-"
      ],
      "metadata": {
        "id": "38UJCARaxXET"
      }
    },
    {
      "cell_type": "code",
      "source": [
        "class Fraction:\n",
        "    def __init__(self, numerator, denominator):\n",
        "        self.numerator = numerator\n",
        "        self.denominator = denominator\n",
        "\n",
        "    def __str__(self):\n",
        "        return f\"{self.numerator}/{self.denominator}\"\n",
        "\n",
        "frac = Fraction(5,2)\n",
        "print(frac)"
      ],
      "metadata": {
        "colab": {
          "base_uri": "https://localhost:8080/"
        },
        "id": "MbPyz9m1xKDW",
        "outputId": "a33db7f4-0a52-4aba-ac0c-d443b8ab6a4d"
      },
      "execution_count": null,
      "outputs": [
        {
          "output_type": "stream",
          "name": "stdout",
          "text": [
            "5/2\n"
          ]
        }
      ]
    },
    {
      "cell_type": "markdown",
      "source": [
        "Q.10. Demonstrate operator overloading by creating a class Vector and overriding the add method to add two\n",
        "vectors.\n",
        "\n",
        "Ans:-"
      ],
      "metadata": {
        "id": "tmIjNScuyRrD"
      }
    },
    {
      "cell_type": "code",
      "source": [
        "class Vector:\n",
        "    def __init__(self, x, y):\n",
        "        self.x = x\n",
        "        self.y = y\n",
        "\n",
        "    def __add__(self, other):\n",
        "        return Vector(self.x + other.x, self.y + other.y)\n",
        "\n",
        "v1 = Vector(1, 2)\n",
        "v2 = Vector(3, 4)\n",
        "v3 = v1 + v2\n",
        "print(v3.x, v3.y)"
      ],
      "metadata": {
        "colab": {
          "base_uri": "https://localhost:8080/"
        },
        "id": "sGtiTB4cyBm3",
        "outputId": "d7302d8d-9f65-4ed3-f83d-e7c2ef1a42dc"
      },
      "execution_count": null,
      "outputs": [
        {
          "output_type": "stream",
          "name": "stdout",
          "text": [
            "4 6\n"
          ]
        }
      ]
    },
    {
      "cell_type": "markdown",
      "source": [
        "Q.11. Create a class Person with attributes name and age. Add a method greet() that prints \"Hello, my name is\n",
        "{name} and I am {age} years old.\"\n",
        "\n",
        "Ans:-"
      ],
      "metadata": {
        "id": "b0pacPgCzpka"
      }
    },
    {
      "cell_type": "code",
      "source": [
        "class Person:\n",
        "  def __init__ (self, name, age):\n",
        "    self.name = name\n",
        "    self.age = age\n",
        "  def greet(self):\n",
        "    print(f\"Hello, my name is {self.name} and I am {self.age} years old.\")\n",
        "\n",
        "p = Person(\"Mohit\", 24)\n",
        "p.greet()"
      ],
      "metadata": {
        "colab": {
          "base_uri": "https://localhost:8080/"
        },
        "id": "-_H6qtDNzjbC",
        "outputId": "087ef985-0e6c-4363-b62f-d21d292d04a2"
      },
      "execution_count": null,
      "outputs": [
        {
          "output_type": "stream",
          "name": "stdout",
          "text": [
            "Hello, my name is Mohit and I am 24 years old.\n"
          ]
        }
      ]
    },
    {
      "cell_type": "markdown",
      "source": [
        "Q.12. Implement a class Student with attributes name and grades. Create a method average_grade() to compute\n",
        "the average of the grades.\n",
        "\n",
        "Ans:-"
      ],
      "metadata": {
        "id": "k_P-9sed0EHJ"
      }
    },
    {
      "cell_type": "code",
      "source": [
        "class Student:\n",
        "    def __init__(self, name, grades):\n",
        "        self.name = name\n",
        "        self.grades = grades\n",
        "\n",
        "    def average_grade(self):\n",
        "        return sum(self.grades) / len(self.grades)\n",
        "\n",
        "student = Student(\"Mohit\", [90, 85, 92, 88])\n",
        "print(student.average_grade())"
      ],
      "metadata": {
        "colab": {
          "base_uri": "https://localhost:8080/"
        },
        "id": "SlIK1RIQz_Dg",
        "outputId": "f886b814-8318-415f-ae55-dc923f7d5ca9"
      },
      "execution_count": null,
      "outputs": [
        {
          "output_type": "stream",
          "name": "stdout",
          "text": [
            "88.75\n"
          ]
        }
      ]
    },
    {
      "cell_type": "markdown",
      "source": [
        "Q.13. Create a class Rectangle with methods set_dimensions() to set the dimensions and area() to calculate the\n",
        "area.\n",
        "\n",
        "Ans:-"
      ],
      "metadata": {
        "id": "S-99KwWX0pje"
      }
    },
    {
      "cell_type": "code",
      "source": [
        "class Rectangle:\n",
        "    def __init__(self):\n",
        "        self.length = 0\n",
        "        self.width = 0\n",
        "\n",
        "    def set_dimensions(self, length, width):\n",
        "        self.length = length\n",
        "        self.width = width\n",
        "\n",
        "    def area(self):\n",
        "        return self.length * self.width\n",
        "\n",
        "rect = Rectangle()\n",
        "rect.set_dimensions(5, 3)\n",
        "print(rect.area())"
      ],
      "metadata": {
        "colab": {
          "base_uri": "https://localhost:8080/"
        },
        "id": "zUNgnsfW0cxn",
        "outputId": "36ad08ce-032a-48d5-b45e-7ffdf887aced"
      },
      "execution_count": null,
      "outputs": [
        {
          "output_type": "stream",
          "name": "stdout",
          "text": [
            "15\n"
          ]
        }
      ]
    },
    {
      "cell_type": "markdown",
      "source": [
        "Q.14. Create a class Employee with a method calculate_salary() that computes the salary based on hours worked\n",
        "and hourly rate. Create a derived class Manager that adds a bonus to the salary.\n",
        "\n",
        "Ans:-"
      ],
      "metadata": {
        "id": "sClfo3es8lHA"
      }
    },
    {
      "cell_type": "code",
      "source": [
        "class Employee:\n",
        "    def __init__(self, name, hours_worked, hourly_rate):\n",
        "        self.name = name\n",
        "        self.hours_worked = hours_worked\n",
        "        self.hourly_rate = hourly_rate\n",
        "\n",
        "    def calculate_salary(self):\n",
        "        return self.hours_worked * self.hourly_rate\n",
        "\n",
        "class Manager(Employee):\n",
        "    def __init__(self, name, hours_worked, hourly_rate, bonus):\n",
        "        super().__init__(name, hours_worked, hourly_rate)\n",
        "        self.bonus = bonus\n",
        "\n",
        "    def calculate_salary(self):\n",
        "        return super().calculate_salary() + self.bonus\n",
        "\n",
        "m = Manager(\"Mohit\", 40, 50, 1000)\n",
        "print(m.calculate_salary())"
      ],
      "metadata": {
        "colab": {
          "base_uri": "https://localhost:8080/"
        },
        "id": "6QNrCB_38jIK",
        "outputId": "8710b7ec-3b43-4764-fc2e-28350530fcbc"
      },
      "execution_count": null,
      "outputs": [
        {
          "output_type": "stream",
          "name": "stdout",
          "text": [
            "3000\n"
          ]
        }
      ]
    },
    {
      "cell_type": "markdown",
      "source": [
        "Q.15. Create a class Product with attributes name, price, and quantity. Implement a method total_price() that\n",
        "calculates the total price of the product.\n",
        "\n",
        "Ans:-"
      ],
      "metadata": {
        "id": "4SnbI5ME9zBS"
      }
    },
    {
      "cell_type": "code",
      "source": [
        "class Product:\n",
        "    def __init__(self, name, price, quantity):\n",
        "        self.name = name\n",
        "        self.price = price\n",
        "        self.quantity = quantity\n",
        "\n",
        "    def total_price(self):\n",
        "        return self.price * self.quantity\n",
        "\n",
        "p = Product(\"Mobile\", 10000, 2)\n",
        "print(p.total_price())"
      ],
      "metadata": {
        "colab": {
          "base_uri": "https://localhost:8080/"
        },
        "id": "sCEPi5m_9Y51",
        "outputId": "a0407ecd-4df2-4b24-932b-d532e276c770"
      },
      "execution_count": null,
      "outputs": [
        {
          "output_type": "stream",
          "name": "stdout",
          "text": [
            "20000\n"
          ]
        }
      ]
    },
    {
      "cell_type": "markdown",
      "source": [
        "Q. 16. Create a class Animal with an abstract method sound(). Create two derived classes Cow and Sheep that\n",
        "implement the sound() method.\n",
        "\n",
        "Ans:-"
      ],
      "metadata": {
        "id": "0qFdh9VR-JWV"
      }
    },
    {
      "cell_type": "code",
      "source": [
        "from abc import ABC, abstractmethod\n",
        "\n",
        "class Animal(ABC):\n",
        "    @abstractmethod\n",
        "    def sound(self):\n",
        "        pass\n",
        "\n",
        "class Cow(Animal):\n",
        "    def sound(self):\n",
        "        print(\"Moo!\")\n",
        "\n",
        "class Sheep(Animal):\n",
        "    def sound(self):\n",
        "        print(\"Baa!\")\n",
        "\n",
        "c = Cow()\n",
        "c.sound()\n",
        "\n",
        "s = Sheep()\n",
        "s.sound()"
      ],
      "metadata": {
        "colab": {
          "base_uri": "https://localhost:8080/"
        },
        "id": "jb1bNdfS-Gef",
        "outputId": "f5294337-4c16-4dc9-a6dc-cc14f2b6c822"
      },
      "execution_count": null,
      "outputs": [
        {
          "output_type": "stream",
          "name": "stdout",
          "text": [
            "Moo!\n",
            "Baa!\n"
          ]
        }
      ]
    },
    {
      "cell_type": "markdown",
      "source": [
        "Q.17. Create a class Book with attributes title, author, and year_published. Add a method get_book_info() that\n",
        "returns a formatted string with the book's details.\n",
        "\n",
        "Ans:-"
      ],
      "metadata": {
        "id": "g-PxKtb6-jVi"
      }
    },
    {
      "cell_type": "code",
      "source": [
        "class Book:\n",
        "    def __init__(self, title, author, year_published):\n",
        "        self.title = title\n",
        "        self.author = author\n",
        "        self.year_published = year_published\n",
        "\n",
        "    def get_book_info(self):\n",
        "        return f\"Title: {self.title}\\nAuthor: {self.author}\\nYear Published: {self.year_published}\"\n",
        "\n",
        "b = Book(\"The Alchemist\", \"Paulo Coelho\", 1988)\n",
        "print(b.get_book_info())"
      ],
      "metadata": {
        "colab": {
          "base_uri": "https://localhost:8080/"
        },
        "id": "Cbp_X8Dq-hc_",
        "outputId": "e7e55ecd-7829-4aea-cad9-bd900908f0b5"
      },
      "execution_count": null,
      "outputs": [
        {
          "output_type": "stream",
          "name": "stdout",
          "text": [
            "Title: The Alchemist\n",
            "Author: Paulo Coelho\n",
            "Year Published: 1988\n"
          ]
        }
      ]
    },
    {
      "cell_type": "markdown",
      "source": [
        "Q. 18. Create a class House with attributes address and price. Create a derived class Mansion that adds an\n",
        "attribute number_of_rooms.\n",
        "\n",
        "Ans:-"
      ],
      "metadata": {
        "id": "XbbIO0NJ-1k4"
      }
    },
    {
      "cell_type": "code",
      "source": [
        "class House:\n",
        "    def __init__(self, address, price):\n",
        "        self.address = address\n",
        "        self.price = price\n",
        "        self.number_of_rooms = None\n",
        "\n",
        "class Mansion(House):\n",
        "    def __init__(self, address, price, number_of_rooms):\n",
        "        super().__init__(address, price)\n",
        "        self.number_of_rooms = number_of_rooms\n",
        "\n",
        "m = Mansion(\"123 Main St\", 1000000, 8)\n",
        "print(m.address)\n",
        "print(m.price)\n",
        "print(m.number_of_rooms)"
      ],
      "metadata": {
        "colab": {
          "base_uri": "https://localhost:8080/"
        },
        "id": "0iNTJSy4-yeV",
        "outputId": "24cf34fd-243a-4194-c3b5-5c7b08ed6bd5"
      },
      "execution_count": null,
      "outputs": [
        {
          "output_type": "stream",
          "name": "stdout",
          "text": [
            "123 Main St\n",
            "1000000\n",
            "8\n"
          ]
        }
      ]
    },
    {
      "cell_type": "code",
      "source": [],
      "metadata": {
        "id": "j4OjsNUV_J6o"
      },
      "execution_count": null,
      "outputs": []
    }
  ]
}