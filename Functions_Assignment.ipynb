{
  "nbformat": 4,
  "nbformat_minor": 0,
  "metadata": {
    "colab": {
      "provenance": [],
      "include_colab_link": true
    },
    "kernelspec": {
      "name": "python3",
      "display_name": "Python 3"
    },
    "language_info": {
      "name": "python"
    }
  },
  "cells": [
    {
      "cell_type": "markdown",
      "metadata": {
        "id": "view-in-github",
        "colab_type": "text"
      },
      "source": [
        "<a href=\"https://colab.research.google.com/github/sagar-maheshwari01/python.assignment/blob/main/Functions_Assignment.ipynb\" target=\"_parent\"><img src=\"https://colab.research.google.com/assets/colab-badge.svg\" alt=\"Open In Colab\"/></a>"
      ]
    },
    {
      "cell_type": "code",
      "execution_count": null,
      "metadata": {
        "id": "LJGzzZtgWfm3"
      },
      "outputs": [],
      "source": []
    },
    {
      "cell_type": "markdown",
      "source": [
        "#FUNCTIONS ASSIGNMENT"
      ],
      "metadata": {
        "id": "UPoxQq8ON9w-"
      }
    },
    {
      "cell_type": "markdown",
      "source": [
        "# THEORY QUESTIONS\n",
        "1. What is the difference between a function and a method in Python?\n",
        ">> Function:\n",
        "A function is a standalone block of code that performs a specific task.\n",
        "It is defined using the def keyword and can be called independently.\n",
        "It may or may not take parameters and return a value.\n",
        "Functions can be defined inside or outside of classes.\n",
        "  Method:\n",
        "A method is a function that belongs to a class.\n",
        "It is defined inside a class and is used to operate on instances (objects) of that class.\n",
        "Methods have self as the first parameter (for instance methods) to access object properties and other methods.\n",
        "There are instance methods, class methods, and static methods.\n",
        "\n",
        "2. Explain the concept of function arguments and parameters in Python.\n",
        ">> Function Arguments and Parameters in Python\n",
        "In Python, parameters and arguments are used when defining and calling functions.\n",
        "\n",
        "Parameters are variables listed inside the function definition (used when defining a function).\n",
        "Arguments are actual values passed to the function when it is called.\n",
        "\n",
        "3. What are the different ways to define and call a function in Python?\n",
        ">> Different Ways to Define and Call a Function in Python\n",
        "In Python, functions can be defined and called in various ways. Here’s a breakdown of the different methods:\n",
        "\n",
        " Regular Function Definition and Call\n",
        "Definition:\n",
        "A function is defined using the def keyword.\n",
        "   Function with Default Parameters\n",
        "A function can have default values for parameters.\n",
        "  If no argument is provided, the default value is used.\n",
        "  Function with Multiple Arguments\n",
        "Python supports multiple arguments, including positional and keyword arguments.\n",
        "  Function with Variable-Length Arguments (*args and **kwargs)\n",
        "Using *args (Multiple Positional Arguments)\n",
        "  *args collects arguments as a tuple.\n",
        "Using **kwargs (Multiple Keyword Arguments)\n",
        "  **kwargs collects keyword arguments as a dictionary.\n",
        "  Lambda (Anonymous) Function\n",
        "Lambda functions are one-liner anonymous functions.\n",
        "  Often used for short, simple operations.\n",
        "   Function with Return Statement\n",
        "A function can return a value using return.\n",
        "  Nested Functions\n",
        "A function can be defined inside another function.\n",
        "  Used for encapsulation.\n",
        "  First-Class Functions (Passing Functions as Arguments)\n",
        "Functions can be passed as arguments.\n",
        "  Recursive Function\n",
        "A function can call itself to solve problems like factorial calculation.\n",
        "  Function with map(), filter(), and reduce()\n",
        "Python has built-in functions to work with collections.\n",
        "\n",
        "4. What is the purpose of the `return` statement in a Python function?\n",
        ">> The return statement in a Python function is used to send a value (or multiple values) back to the caller of the function.\n",
        "\n",
        "5.  What are iterators in Python and how do they differ from iterables?\n",
        ">> Iterables\n",
        "An iterable is any Python object that can be looped over (iterated through). It contains elements that can be accessed one at a time. Common examples include:\n",
        "\n",
        "Lists (list)\n",
        "Tuples (tuple)\n",
        "Strings (str)\n",
        "Dictionaries (dict)\n",
        "Sets (set)\n",
        "Iterables implement the __iter__() method, which returns an iterator.\n",
        "\n",
        " Iterators\n",
        "An iterator is an object that produces elements from an iterable one at a time, maintaining its state. It implements two special methods:\n",
        "\n",
        "__iter__(): Returns the iterator object itself.\n",
        "__next__(): Returns the next item in the sequence; raises StopIteration when no more elements exist.\n",
        "You can create an iterator using the iter() function.\n",
        "\n",
        "6.  Explain the concept of generators in Python and how they are defined?\n",
        ">> Generators in Python\n",
        "Generators in Python are a special type of iterable that allow you to iterate over values lazily (one at a time) instead of storing them all in memory. They are used to create iterators in a more concise and memory-efficient way.\n",
        "A generator is defined using a function with the yield keyword instead of return. Each time yield is encountered, the function’s state is saved, and execution resumes from there the next time the generator is called.\n",
        "\n",
        "7.  What are the advantages of using generators over regular functions?\n",
        ">> Advantages of Using Generators Over Regular Functions\n",
        "Generators offer several benefits over regular functions, especially when dealing with large datasets or continuous data streams. Here are the key advantages:\n",
        "When to Use Generators\n",
        "-  Processing large datasets (e.g., reading large files, streams).\n",
        "-  Handling infinite sequences (e.g., real-time data processing).\n",
        "-  Reducing memory usage (e.g., generating numbers dynamically).\n",
        "-  Writing cleaner, more readable code (e.g., avoiding iterators manually).\n",
        "\n",
        "8. What is a lambda function in Python and when is it typically used?\n",
        ">> Lambda Functions in Python\n",
        "A lambda function in Python is a small, anonymous function that can have any number of arguments but only one expression. It is defined using the lambda keyword.\n",
        "When to Use Lambda Functions\n",
        "Lambda functions are typically used when a simple function is required for a short period, such as:\n",
        "\n",
        "- With map(), filter(), and reduce()\n",
        "- In sorting (with sorted() or sort())\n",
        "- As inline functions for event handling\n",
        "- For short, throwaway functions instead of defining named functions\n",
        "\n",
        "9.  Explain the purpose and usage of the `map()` function in Python.\n",
        ">> map() Function in Python\n",
        "The map() function in Python is used to apply a given function to all items in an iterable (e.g., list, tuple) and return a map object (which is an iterator). It allows for efficient transformations without using explicit loops.\n",
        "\n",
        "10.  What is the difference between `map()`, `reduce()`, and `filter()` functions in Python?\n",
        ">> - map() Function\n",
        "Purpose: Applies a function to each element in an iterable and returns an iterator of the results.\n",
        "Use Case: When you want to transform all elements in an iterable.\n",
        "\n",
        "- filter() Function\n",
        "Purpose: Filters elements of an iterable based on a condition (i.e., returns only elements for which the function returns True).\n",
        "Use Case: When you want to extract elements that meet a specific condition.\n",
        "\n",
        "- reduce() Function (from functools module)\n",
        "Purpose: Applies a function cumulatively to reduce an iterable to a single value.\n",
        "Use Case: When you need to reduce an iterable into a single cumulative value (sum, product, max, etc.).\n",
        "\n",
        "11.  Using pen & Paper write the internal mechanism for sum operation using  reduce function on this given\n",
        "list:[47,11,42,13];\n",
        ">> Internal Mechanism of reduce() for Sum Operation\n",
        "We will manually trace how reduce() computes the sum of the list [47, 11, 42, 13].\n",
        "Step 1: Understanding reduce()\n",
        "- The reduce() function from functools works as follows:\n",
        "- The lambda function lambda x, y: x + y takes two numbers and adds them.\n",
        "- reduce() applies this function cumulatively on the list.\n",
        "Step 2: Manual Execution (Pen & Paper)\n",
        "Given List: [47, 11, 42, 13]\n",
        "Iteration Breakdown:\n",
        " - First Call: x = 47, y = 11\n",
        "→ 47 + 11 = 58\n",
        "\n",
        "-  Second Call: x = 58, y = 42\n",
        "→ 58 + 42 = 100\n",
        "\n",
        "-  Third Call: x = 100, y = 13\n",
        "→ 100 + 13 = 113\n",
        "\n",
        "🔹 Final Result: 113\n",
        "\n",
        "Step 3: Internal Mechanism (Stack Representation)\n",
        "\n",
        "reduce(lambda x, y: x + y, [47, 11, 42, 13])\n",
        "\n",
        "Step 1: (47 + 11) → 58\n",
        "Step 2: (58 + 42) → 100\n",
        "Step 3: (100 + 13) → 113\n",
        "Final Result: 113\n",
        "Thus, reduce() iteratively reduces the list to a single sum value.\n",
        "Step 3: Internal Mechanism (Stack Representation)\n",
        "Thus, reduce() iteratively reduces the list to a single sum value.\n",
        "\n",
        "\n",
        "\n",
        "\n",
        "\n",
        "\n",
        "\n",
        "\n",
        "\n",
        "\n",
        "\n",
        "\n",
        "\n",
        "\n",
        "  \n",
        "\n",
        "\n",
        "\n",
        "  "
      ],
      "metadata": {
        "id": "7MUXcSNrWnYG"
      }
    },
    {
      "cell_type": "markdown",
      "source": [
        "# Practical questions"
      ],
      "metadata": {
        "id": "jnYTy2eTUD4C"
      }
    },
    {
      "cell_type": "code",
      "source": [
        "#1  Write a Python function that takes a list of numbers as input and returns the sum of all even numbers in\n",
        "#the list.\n",
        "\n",
        "def sum_of_evens(numbers):\n",
        "    return sum(filter(lambda x: x % 2 == 0, numbers))\n",
        "\n",
        "# Example usage:\n",
        "numbers = [1, 2, 3, 4, 5, 6, 7, 8, 9, 10]\n",
        "print(sum_of_evens(numbers))  # Output: 30 (2 + 4 + 6 + 8 + 10)\n"
      ],
      "metadata": {
        "colab": {
          "base_uri": "https://localhost:8080/"
        },
        "id": "AuYw6f9uUC08",
        "outputId": "2747e466-65ac-47df-93ca-cb798d8d69bf"
      },
      "execution_count": null,
      "outputs": [
        {
          "output_type": "stream",
          "name": "stdout",
          "text": [
            "30\n"
          ]
        }
      ]
    },
    {
      "cell_type": "code",
      "source": [
        "#2 Create a Python function that accepts a string and returns the reverse of that string.\n",
        "def reverse_string(s):\n",
        "    return s[::-1]\n",
        "\n",
        "# Example usage:\n",
        "print(reverse_string(\"hello\"))  # Output: \"olleh\"\n",
        "\n"
      ],
      "metadata": {
        "colab": {
          "base_uri": "https://localhost:8080/"
        },
        "id": "as2k6wmgUuR7",
        "outputId": "78906bd6-6d00-4d83-e8ca-479ef235d3d9"
      },
      "execution_count": null,
      "outputs": [
        {
          "output_type": "stream",
          "name": "stdout",
          "text": [
            "olleh\n"
          ]
        }
      ]
    },
    {
      "cell_type": "code",
      "source": [
        "#3  Implement a Python function that takes a list of integers and returns a new list containing the squares of\n",
        "#each number\n",
        "def square_numbers(numbers):\n",
        "    return [x ** 2 for x in numbers]\n",
        "\n",
        "# Example usage:\n",
        "nums = [1, 2, 3, 4, 5]\n",
        "print(square_numbers(nums))  # Output: [1, 4, 9, 16, 25]\n",
        "\n"
      ],
      "metadata": {
        "colab": {
          "base_uri": "https://localhost:8080/"
        },
        "id": "m-UZGJjkU-_z",
        "outputId": "b55d729f-3de4-4d8d-e410-13af1e94f622"
      },
      "execution_count": null,
      "outputs": [
        {
          "output_type": "stream",
          "name": "stdout",
          "text": [
            "[1, 4, 9, 16, 25]\n"
          ]
        }
      ]
    },
    {
      "cell_type": "code",
      "source": [
        "#4  Write a Python function that checks if a given number is prime or not from 1 to 200.\n",
        "\n",
        "def is_prime(n):\n",
        "    if n < 2:\n",
        "        return False\n",
        "    for i in range(2, int(n ** 0.5) + 1):\n",
        "        if n % i == 0:\n",
        "            return False\n",
        "    return True\n",
        "\n",
        "# Print all prime numbers from 1 to 200\n",
        "primes = [num for num in range(1, 201) if is_prime(num)]\n",
        "print(primes)\n"
      ],
      "metadata": {
        "colab": {
          "base_uri": "https://localhost:8080/"
        },
        "id": "z839q-krVQ5E",
        "outputId": "891f9c76-8e32-4b9e-cb52-fc91746fac45"
      },
      "execution_count": null,
      "outputs": [
        {
          "output_type": "stream",
          "name": "stdout",
          "text": [
            "[2, 3, 5, 7, 11, 13, 17, 19, 23, 29, 31, 37, 41, 43, 47, 53, 59, 61, 67, 71, 73, 79, 83, 89, 97, 101, 103, 107, 109, 113, 127, 131, 137, 139, 149, 151, 157, 163, 167, 173, 179, 181, 191, 193, 197, 199]\n"
          ]
        }
      ]
    },
    {
      "cell_type": "code",
      "source": [
        "#5  Create an iterator class in Python that generates the Fibonacci sequence up to a specified number of\n",
        "#terms.\n",
        "\n",
        "class FibonacciIterator:\n",
        "    def __init__(self, n_terms):\n",
        "        self.n_terms = n_terms  # Number of terms to generate\n",
        "        self.a, self.b = 0, 1   # Initial Fibonacci numbers\n",
        "        self.count = 0          # Counter to track iterations\n",
        "\n",
        "    def __iter__(self):\n",
        "        return self  # An iterator must return itself\n",
        "\n",
        "    def __next__(self):\n",
        "        if self.count >= self.n_terms:\n",
        "            raise StopIteration  # Stop iteration after n_terms\n",
        "\n",
        "        if self.count == 0:\n",
        "            self.count += 1\n",
        "            return 0  # First Fibonacci number\n",
        "\n",
        "        elif self.count == 1:\n",
        "            self.count += 1\n",
        "            return 1  # Second Fibonacci number\n",
        "\n",
        "        # Calculate the next Fibonacci number\n",
        "        fib = self.a + self.b\n",
        "        self.a, self.b = self.b, fib  # Update values\n",
        "        self.count += 1\n",
        "        return fib\n",
        "\n",
        "# Example Usage:\n",
        "fib_iterator = FibonacciIterator(10)  # Generate first 10 Fibonacci numbers\n",
        "print(list(fib_iterator))  # Output: [0, 1, 1, 2, 3, 5, 8, 13, 21, 34]\n"
      ],
      "metadata": {
        "colab": {
          "base_uri": "https://localhost:8080/"
        },
        "id": "jNVhfiqhVkz3",
        "outputId": "9b76dbc0-6f05-4af2-c4f9-2e3928a02a8a"
      },
      "execution_count": null,
      "outputs": [
        {
          "output_type": "stream",
          "name": "stdout",
          "text": [
            "[0, 1, 1, 2, 3, 5, 8, 13, 21, 34]\n"
          ]
        }
      ]
    },
    {
      "cell_type": "code",
      "source": [
        "#6 Write a generator function in Python that yields the powers of 2 up to a given exponent.\n",
        "def powers_of_two(max_exponent):\n",
        "    for exponent in range(max_exponent + 1):\n",
        "        yield 2 ** exponent  # Yield powers of 2\n",
        "\n",
        "# Example Usage:\n",
        "for power in powers_of_two(5):\n",
        "    print(power)\n"
      ],
      "metadata": {
        "colab": {
          "base_uri": "https://localhost:8080/"
        },
        "id": "5g6fE7wRV25a",
        "outputId": "ab881a7e-7bd1-4c8e-bc06-858292011beb"
      },
      "execution_count": null,
      "outputs": [
        {
          "output_type": "stream",
          "name": "stdout",
          "text": [
            "1\n",
            "2\n",
            "4\n",
            "8\n",
            "16\n",
            "32\n"
          ]
        }
      ]
    },
    {
      "cell_type": "code",
      "source": [
        "#7  Implement a generator function that reads a file line by line and yields each line as a string.\n",
        "def read_file_line_by_line(file_path):\n",
        "    \"\"\"Generator function that reads a file line by line and yields each line as a string.\"\"\"\n",
        "    try:\n",
        "        with open(file_path, 'r', encoding='utf-8') as file:\n",
        "            yield from (line.rstrip('\\n') for line in file)\n",
        "    except FileNotFoundError:\n",
        "        print(f\"Error: The file '{file_path}' was not found.\")\n",
        "    except IOError:\n",
        "        print(f\"Error: An issue occurred while reading the file '{file_path}'.\")\n",
        "\n",
        "# Example usage:\n",
        "# for line in read_file_line_by_line(\"example.txt\"):\n",
        "#     print(line)\n",
        "\n"
      ],
      "metadata": {
        "id": "QKFPxJ-DWUWB"
      },
      "execution_count": null,
      "outputs": []
    },
    {
      "cell_type": "code",
      "source": [
        "#8 Use a lambda function in Python to sort a list of tuples based on the second element of each tuple.\n",
        "# Sample list of tuples\n",
        "data = [(1, 3), (4, 1), (2, 2), (5, 0)]\n",
        "\n",
        "# Sorting based on the second element of each tuple\n",
        "\n",
        "sorted_data = sorted(data, key=lambda x: x[1])\n",
        "\n",
        "# Output the sorted list\n",
        "print(sorted_data)\n"
      ],
      "metadata": {
        "colab": {
          "base_uri": "https://localhost:8080/"
        },
        "id": "pAQhtXr0YLlc",
        "outputId": "50e46483-a7a3-4c95-feb5-d314a84fe92f"
      },
      "execution_count": null,
      "outputs": [
        {
          "output_type": "stream",
          "name": "stdout",
          "text": [
            "[(5, 0), (4, 1), (2, 2), (1, 3)]\n"
          ]
        }
      ]
    },
    {
      "cell_type": "code",
      "source": [
        "#9 Write a Python program that uses `map()` to convert a list of temperatures from Celsius to Fahrenheit.\n",
        "# Function to convert Celsius to Fahrenheit\n",
        "celsius_to_fahrenheit = lambda c: (c * 9/5) + 32\n",
        "\n",
        "# List of temperatures in Celsius\n",
        "temperatures_celsius = [0, 20, 30, 40, 100]\n",
        "\n",
        "# Convert using map()\n",
        "temperatures_fahrenheit = list(map(celsius_to_fahrenheit, temperatures_celsius))\n",
        "\n",
        "# Output the converted temperatures\n",
        "print(temperatures_fahrenheit)\n"
      ],
      "metadata": {
        "colab": {
          "base_uri": "https://localhost:8080/"
        },
        "id": "8K1zfZR0YgUh",
        "outputId": "0e1961b5-8ba1-4e2e-a771-4ba8ef19df58"
      },
      "execution_count": null,
      "outputs": [
        {
          "output_type": "stream",
          "name": "stdout",
          "text": [
            "[32.0, 68.0, 86.0, 104.0, 212.0]\n"
          ]
        }
      ]
    },
    {
      "cell_type": "code",
      "source": [
        "#10  Create a Python program that uses `filter()` to remove all the vowels from a given string.\n",
        "# Function to check if a character is not a vowel\n",
        "is_not_vowel = lambda char: char.lower() not in 'aeiou'\n",
        "\n",
        "# Given string\n",
        "input_string = \"Hello, World!\"\n",
        "\n",
        "# Use filter to remove vowels\n",
        "filtered_string = ''.join(filter(is_not_vowel, input_string))\n",
        "\n",
        "# Output the result\n",
        "print(filtered_string)\n"
      ],
      "metadata": {
        "colab": {
          "base_uri": "https://localhost:8080/"
        },
        "id": "nyMxYRB4Yzw5",
        "outputId": "eddf7237-4dd2-442a-dadd-393a4bc8420d"
      },
      "execution_count": null,
      "outputs": [
        {
          "output_type": "stream",
          "name": "stdout",
          "text": [
            "Hll, Wrld!\n"
          ]
        }
      ]
    },
    {
      "cell_type": "code",
      "source": [
        "#11 Question as follows.\n",
        "# Given list of orders\n",
        "orders = [\n",
        "    (34587, \"Learning Python, Mark Lutz\", 4, 40.95),\n",
        "    (98762, \"Programming Python, Mark Lutz\", 5, 56.80),\n",
        "    (77226, \"Head First Python, Paul Barry\", 3, 32.95),\n",
        "    (88112, \"Einführung in Python3, Bernd Klein\", 3, 24.99)\n",
        "]\n",
        "\n",
        "# Using lambda and map to process the orders\n",
        "processed_orders = list(map(lambda order: (order[0], order[2] * order[3] + (10 if order[2] * order[3] < 100 else 0)), orders))\n",
        "\n",
        "# Output the result\n",
        "print(processed_orders)\n"
      ],
      "metadata": {
        "colab": {
          "base_uri": "https://localhost:8080/"
        },
        "id": "HsZ20ge1ZD1B",
        "outputId": "9d9319b3-7fef-4303-b8b4-77c98e5c6b24"
      },
      "execution_count": null,
      "outputs": [
        {
          "output_type": "stream",
          "name": "stdout",
          "text": [
            "[(34587, 163.8), (98762, 284.0), (77226, 108.85000000000001), (88112, 84.97)]\n"
          ]
        }
      ]
    },
    {
      "cell_type": "markdown",
      "source": [],
      "metadata": {
        "id": "TIdLFQITZjWH"
      }
    }
  ]
}