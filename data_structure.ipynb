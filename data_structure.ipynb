{
  "nbformat": 4,
  "nbformat_minor": 0,
  "metadata": {
    "colab": {
      "private_outputs": true,
      "provenance": [],
      "include_colab_link": true
    },
    "kernelspec": {
      "name": "python3",
      "display_name": "Python 3"
    },
    "language_info": {
      "name": "python"
    }
  },
  "cells": [
    {
      "cell_type": "markdown",
      "metadata": {
        "id": "view-in-github",
        "colab_type": "text"
      },
      "source": [
        "<a href=\"https://colab.research.google.com/github/sagar-maheshwari01/python.assignment/blob/main/data_structure.ipynb\" target=\"_parent\"><img src=\"https://colab.research.google.com/assets/colab-badge.svg\" alt=\"Open In Colab\"/></a>"
      ]
    },
    {
      "cell_type": "markdown",
      "source": [
        "### Q1. Write a code to create a string with your name and print it."
      ],
      "metadata": {
        "id": "B4hgfndPygtG"
      }
    },
    {
      "cell_type": "code",
      "execution_count": null,
      "metadata": {
        "id": "NbZQ3ssAyTgX"
      },
      "outputs": [],
      "source": [
        "# Code\n",
        "name = \"sagar\"\n",
        "print(name)"
      ]
    },
    {
      "cell_type": "markdown",
      "source": [
        "### Q2. Write a code to find the length of the string \"Hello World\"."
      ],
      "metadata": {
        "id": "H_CwV55LyhNv"
      }
    },
    {
      "cell_type": "code",
      "source": [
        "# Code\n",
        "string = \"Hello World\"\n",
        "length = len(string)\n",
        "print(length)"
      ],
      "metadata": {
        "id": "2XDxKFc6ygHx"
      },
      "execution_count": null,
      "outputs": []
    },
    {
      "cell_type": "markdown",
      "source": [
        "### Q3. Write a code to slice the first 3 characters from the string \"Python Programming\"."
      ],
      "metadata": {
        "id": "8JjyA5yeyh5n"
      }
    },
    {
      "cell_type": "code",
      "source": [
        "# Code\n",
        "string = \"Python Programming\"\n",
        "sliced_string = string[:3]\n",
        "print(sliced_string)\n"
      ],
      "metadata": {
        "id": "hvaGvzoVyoGW"
      },
      "execution_count": null,
      "outputs": []
    },
    {
      "cell_type": "markdown",
      "source": [
        "### Q4. Write a code to convert the string \"hello\" to uppercase."
      ],
      "metadata": {
        "id": "hTIRQaWayoA2"
      }
    },
    {
      "cell_type": "code",
      "source": [
        "# Code\n",
        "string = \"hello\"\n",
        "uppercase_string = string.upper()\n",
        "print(uppercase_string)"
      ],
      "metadata": {
        "id": "whr87g4wyn72"
      },
      "execution_count": null,
      "outputs": []
    },
    {
      "cell_type": "markdown",
      "source": [
        "### Q5. Write a code to replace the word \"apple\" with \"orange\" in the string \"I like apple\""
      ],
      "metadata": {
        "id": "BDAs3oVJyn1-"
      }
    },
    {
      "cell_type": "code",
      "source": [
        "# Code\n",
        "string = \"I like apple\"\n",
        "new_string = string.replace(\"apple\", \"orange\")\n",
        "print(new_string)"
      ],
      "metadata": {
        "id": "7IpKofdcynvW"
      },
      "execution_count": null,
      "outputs": []
    },
    {
      "cell_type": "markdown",
      "source": [
        "### Q6. Write a code to create a list with numbers 1 to 5 and print it."
      ],
      "metadata": {
        "id": "KrBVCqfCynpf"
      }
    },
    {
      "cell_type": "code",
      "source": [
        "# Code\n",
        "numbers = [1, 2, 3, 4, 5]\n",
        "print(numbers)"
      ],
      "metadata": {
        "id": "lZgi5mirynjn"
      },
      "execution_count": null,
      "outputs": []
    },
    {
      "cell_type": "markdown",
      "source": [
        "### Q7. Write a code to append the number 10 to the list [1, 2, 3, 4]."
      ],
      "metadata": {
        "id": "XxspAWviyndo"
      }
    },
    {
      "cell_type": "code",
      "source": [
        "# Code\n",
        "numbers = [1, 2, 3, 4]\n",
        "numbers.append(10)\n",
        "print(numbers)"
      ],
      "metadata": {
        "id": "gQxtPIpMynXO"
      },
      "execution_count": null,
      "outputs": []
    },
    {
      "cell_type": "markdown",
      "source": [
        "### Q8. Write a code to remove the number 3 from the list [1, 2, 3, 4, 5]."
      ],
      "metadata": {
        "id": "zDbGhj5kynRe"
      }
    },
    {
      "cell_type": "code",
      "source": [
        "# Code\n",
        "numbers = [1, 2, 3, 4, 5]\n",
        "numbers.remove(3)\n",
        "print(numbers)"
      ],
      "metadata": {
        "id": "oB1AW61FynLI"
      },
      "execution_count": null,
      "outputs": []
    },
    {
      "cell_type": "markdown",
      "source": [
        "### Q9. Write a code to access the second element in the list ['a', 'b', 'c', 'd']."
      ],
      "metadata": {
        "id": "CZhg6a2lynEv"
      }
    },
    {
      "cell_type": "code",
      "source": [
        "# Code\n",
        "letters = ['a', 'b', 'c', 'd']\n",
        "second_element = letters[1]\n",
        "print(second_element)"
      ],
      "metadata": {
        "id": "1WY6WSGMym-c"
      },
      "execution_count": null,
      "outputs": []
    },
    {
      "cell_type": "markdown",
      "source": [
        "### Q10. Write a code to reverse the list [10, 20, 30, 40, 50]."
      ],
      "metadata": {
        "id": "8IjO-79Jym4_"
      }
    },
    {
      "cell_type": "code",
      "source": [
        "# Code\n",
        "numbers = [10, 20, 30, 40, 50]\n",
        "numbers.reverse()\n",
        "print(numbers)"
      ],
      "metadata": {
        "id": "rvIKhm5Oymyv"
      },
      "execution_count": null,
      "outputs": []
    },
    {
      "cell_type": "markdown",
      "source": [
        "### Q11. Write a code to create a tuple with the elements 10, 20, 30 and print it."
      ],
      "metadata": {
        "id": "oI1lTmYPyms7"
      }
    },
    {
      "cell_type": "code",
      "source": [
        "# Code\n",
        "my_tuple = (10, 20, 30)\n",
        "print(my_tuple)"
      ],
      "metadata": {
        "id": "SSPv0pfFymmN"
      },
      "execution_count": null,
      "outputs": []
    },
    {
      "cell_type": "markdown",
      "source": [
        "### Q12. Write a code to access the first element of the tuple ('apple', 'banana', 'cherry')."
      ],
      "metadata": {
        "id": "Wi87t__3ymge"
      }
    },
    {
      "cell_type": "code",
      "source": [
        "# Defining a tuple\n",
        "shapes = ('circle', 'square', 'triangle')# Code\n",
        "my_tuple = ('apple', 'banana', 'cherry')\n",
        "first_element = my_tuple[0]\n",
        "print(first_element)"
      ],
      "metadata": {
        "id": "Snz8I9OWymZg"
      },
      "execution_count": null,
      "outputs": []
    },
    {
      "cell_type": "markdown",
      "source": [
        "### Q13. Write a code to count how many times the number 2 appears in the tuple (1, 2, 3, 2, 4, 2)."
      ],
      "metadata": {
        "id": "ZJX9e22_ymUR"
      }
    },
    {
      "cell_type": "code",
      "source": [
        "# Code\n",
        "my_tuple = (1, 2, 3, 2, 4, 2)\n",
        "count = my_tuple.count(2)\n",
        "print(count)"
      ],
      "metadata": {
        "id": "yZpp_KJ1ymMw"
      },
      "execution_count": null,
      "outputs": []
    },
    {
      "cell_type": "markdown",
      "source": [
        "### Q14. Write a code to find the index of the element \"cat\" in the tuple ('dog', 'cat', 'rabbit')."
      ],
      "metadata": {
        "id": "VFShvRSpymHP"
      }
    },
    {
      "cell_type": "code",
      "source": [
        "# Code\n",
        "my_tuple = ('dog', 'cat', 'rabbit')\n",
        "index = my_tuple.index('cat')\n",
        "print(index)"
      ],
      "metadata": {
        "id": "qHutmuxXymBf"
      },
      "execution_count": null,
      "outputs": []
    },
    {
      "cell_type": "markdown",
      "source": [
        "### Q15. Write a code to check if the element \"banana\" is in the tuple ('apple', 'orange', 'banana')."
      ],
      "metadata": {
        "id": "7JW1nO8Lyl7X"
      }
    },
    {
      "cell_type": "code",
      "source": [
        "# Code\n",
        "my_tuple = ('apple', 'orange', 'banana')\n",
        "exists = 'banana' in my_tuple\n",
        "print(exists)"
      ],
      "metadata": {
        "id": "ENo0AE0Nyl1X"
      },
      "execution_count": null,
      "outputs": []
    },
    {
      "cell_type": "markdown",
      "source": [
        "### Q16. Write a code to create a set with the elements 1, 2, 3, 4, 5 and print it."
      ],
      "metadata": {
        "id": "jBDKFK_Wylv3"
      }
    },
    {
      "cell_type": "code",
      "source": [
        "# Code\n",
        "my_set = {1, 2, 3, 4, 5}\n",
        "print(my_set)"
      ],
      "metadata": {
        "id": "Q-2YHGcuyllu"
      },
      "execution_count": null,
      "outputs": []
    },
    {
      "cell_type": "markdown",
      "source": [
        "### Q17. Write a code to add the element 6 to the set {1, 2, 3, 4}."
      ],
      "metadata": {
        "id": "g0UJgaOEylf_"
      }
    },
    {
      "cell_type": "code",
      "source": [
        "# Code\n",
        "my_set = {1, 2, 3, 4}\n",
        "my_set.add(6)\n",
        "print(my_set)"
      ],
      "metadata": {
        "id": "hma0iv3CylWW"
      },
      "execution_count": null,
      "outputs": []
    },
    {
      "cell_type": "markdown",
      "source": [
        "### Q18. Write a code to remove the element 4 from the set {1, 2, 3, 4}."
      ],
      "metadata": {
        "id": "sX0irSDuylQW"
      }
    },
    {
      "cell_type": "code",
      "source": [
        "# Code\n",
        "my_set = {1, 2, 3, 4}\n",
        "my_set.remove(4)\n",
        "print(my_set)"
      ],
      "metadata": {
        "id": "J4pn84DhylKJ"
      },
      "execution_count": null,
      "outputs": []
    },
    {
      "cell_type": "markdown",
      "source": [
        "### Q19. Write a code to find the union of two sets {1, 2, 3} and {3, 4, 5}."
      ],
      "metadata": {
        "id": "pBoe9XhaylEn"
      }
    },
    {
      "cell_type": "code",
      "source": [
        "# Code\n",
        "set1 = {1, 2, 3}\n",
        "set2 = {3, 4, 5}\n",
        "union_set = set1.union(set2)\n",
        "print(union_set)"
      ],
      "metadata": {
        "id": "xXSfWyJFyk-0"
      },
      "execution_count": null,
      "outputs": []
    },
    {
      "cell_type": "markdown",
      "source": [
        "### Q20. Write a code to find the intersection of two sets {1, 2, 3} and {2, 3, 4}."
      ],
      "metadata": {
        "id": "aXF7TMMTyk5o"
      }
    },
    {
      "cell_type": "code",
      "source": [
        "# Code\n",
        "set1 = {1, 2, 3}\n",
        "set2 = {2, 3, 4}\n",
        "intersection_set = set1.intersection(set2)\n",
        "print(intersection_set)"
      ],
      "metadata": {
        "id": "gsfdFUbwykzZ"
      },
      "execution_count": null,
      "outputs": []
    },
    {
      "cell_type": "markdown",
      "source": [
        "### Q21. Write a code to create a dictionary with the keys \"name\", \"age\", and \"city\", and print it."
      ],
      "metadata": {
        "id": "DGEDgLBEyktV"
      }
    },
    {
      "cell_type": "code",
      "source": [
        "# Code\n",
        "my_dict = {\"name\": \"John\", \"age\": 25, \"city\": \"New York\"}\n",
        "print(my_dict)"
      ],
      "metadata": {
        "id": "rDF_2vwGyknW"
      },
      "execution_count": null,
      "outputs": []
    },
    {
      "cell_type": "markdown",
      "source": [
        "### Q22. Write a code to add a new key-value pair \"country\": \"USA\" to the dictionary {'name': 'John', 'age': 25}."
      ],
      "metadata": {
        "id": "k-ygvCyDykhm"
      }
    },
    {
      "cell_type": "code",
      "source": [
        "# Code\n",
        "my_dict = {'name': 'John', 'age': 25}\n",
        "my_dict[\"country\"] = \"USA\"\n",
        "print(my_dict)"
      ],
      "metadata": {
        "id": "np5e1XlSykba"
      },
      "execution_count": null,
      "outputs": []
    },
    {
      "cell_type": "markdown",
      "source": [
        "### Q23. Write a code to access the value associated with the key \"name\" in the dictionary {'name': 'Alice', 'age': 30}."
      ],
      "metadata": {
        "id": "cfyOOTlfykVc"
      }
    },
    {
      "cell_type": "code",
      "source": [
        "# Code\n",
        "my_dict = {'name': 'Alice', 'age': 30}\n",
        "name_value = my_dict[\"name\"]\n",
        "print(name_value)"
      ],
      "metadata": {
        "id": "M0A5qEGgykQJ"
      },
      "execution_count": null,
      "outputs": []
    },
    {
      "cell_type": "markdown",
      "source": [
        "### Q24. Write a code to remove the key \"age\" from the dictionary {'name': 'Bob', 'age': 22, 'city': 'New York'}."
      ],
      "metadata": {
        "id": "GywNMXS_ykKY"
      }
    },
    {
      "cell_type": "code",
      "source": [
        "# Code\n",
        "my_dict = {'name': 'Bob', 'age': 22, 'city': 'New York'}\n",
        "del my_dict[\"age\"]\n",
        "print(my_dict)"
      ],
      "metadata": {
        "id": "-lYN8GiCyj5W"
      },
      "execution_count": null,
      "outputs": []
    },
    {
      "cell_type": "markdown",
      "source": [
        "### Q25. Write a code to check if the key \"city\" exists in the dictionary {'name': 'Alice', 'city': 'Paris'}."
      ],
      "metadata": {
        "id": "twyofdftyjzW"
      }
    },
    {
      "cell_type": "code",
      "source": [
        "# Code\n",
        "my_dict = {'name': 'Alice', 'city': 'Paris'}\n",
        "exists = \"city\" in my_dict\n",
        "print(exists)"
      ],
      "metadata": {
        "id": "6uJkdcCXyjtH"
      },
      "execution_count": null,
      "outputs": []
    },
    {
      "cell_type": "markdown",
      "source": [
        "### Q26. Write a code to create a list, a tuple, and a dictionary, and print them all."
      ],
      "metadata": {
        "id": "ky20mMZ_yjnI"
      }
    },
    {
      "cell_type": "code",
      "source": [
        "# Code\n",
        "my_list = [1, 2, 3]\n",
        "my_tuple = ('a', 'b', 'c')\n",
        "my_dict = {'name': 'Alice', 'age': 30}\n",
        "print(my_list)\n",
        "print(my_tuple)\n",
        "print(my_dict)"
      ],
      "metadata": {
        "id": "SAH_tcS8yjhT"
      },
      "execution_count": null,
      "outputs": []
    },
    {
      "cell_type": "markdown",
      "source": [
        "### Q27. Write a code to create a set with 5 numbers and print the result."
      ],
      "metadata": {
        "id": "ZiaTeuVzyjbB"
      }
    },
    {
      "cell_type": "code",
      "source": [
        "# Code\n",
        "my_set = {10, 20, 30, 40, 50}\n",
        "print(my_set)"
      ],
      "metadata": {
        "id": "WSMd5fFHyjJY"
      },
      "execution_count": null,
      "outputs": []
    },
    {
      "cell_type": "markdown",
      "source": [
        "### Q28. Write a code to create a list with strings and print the element at the third index."
      ],
      "metadata": {
        "id": "CHQhmkAJyiu3"
      }
    },
    {
      "cell_type": "code",
      "source": [
        "# Code\n",
        "my_list = ['apple', 'banana', 'cherry', 'date']\n",
        "third_element = my_list[3]\n",
        "print(third_element)"
      ],
      "metadata": {
        "id": "UAdKxuXx4Aln"
      },
      "execution_count": null,
      "outputs": []
    },
    {
      "cell_type": "markdown",
      "source": [
        "### Q29. Write a code to combine two dictionaries into one and print the result."
      ],
      "metadata": {
        "id": "REZ5Tc534Hc8"
      }
    },
    {
      "cell_type": "code",
      "source": [
        "# Code\n",
        "dict1 = {'name': 'Alice'}\n",
        "dict2 = {'age': 30}\n",
        "combined_dict = {**dict1, **dict2}\n",
        "print(combined_dict)"
      ],
      "metadata": {
        "id": "HngYGCAW4HTT"
      },
      "execution_count": null,
      "outputs": []
    },
    {
      "cell_type": "markdown",
      "source": [
        "### Q30. Write a code to convert a list of strings into a set."
      ],
      "metadata": {
        "id": "oxXekY484HF8"
      }
    },
    {
      "cell_type": "code",
      "source": [
        "# Code\n",
        "my_list = ['apple', 'banana', 'cherry', 'apple']\n",
        "my_set = set(my_list)\n",
        "print(my_set)"
      ],
      "metadata": {
        "id": "L7DPAIJT4MNH"
      },
      "execution_count": null,
      "outputs": []
    },
    {
      "cell_type": "markdown",
      "source": [
        "QUE1 What are data structures, and why are they important ?\n",
        "\n",
        "ANS\n",
        "\n",
        "-Data structures are specialized ways of organizing and storing data in a computer so that it can be accessed and used efficiently. They define how data is arranged, related, and accessed. Think of them like containers for your data with different properties.\n",
        "\n",
        "- Efficiency: They allow for efficient storage and retrieval of data, crucial for performance.\n",
        "\n",
        "- Organization: They help in organizing large amounts of data, making it manageable\n",
        "\n",
        "QUE2 Explain the difference between mutable and immutable data types with examples\n",
        "\n",
        "ANS\n",
        "\n",
        "- Mutable data types can be changed after creation (e.g., lists and dictionaries in Python), while immutable types cannot be modified (e.g., strings and tuples). For example, modifying a list item is possible, but once a tuple is created, its elements cannot be altered.\n",
        "\n",
        "QUE3 What are the main differences between lists and tuples in Python ?\n",
        "\n",
        "ANS\n",
        "\n",
        "- Lists are mutable, meaning their contents can be modified, while tuples are immutable and cannot be changed once created. Lists are slower to access but offer more flexibility, whereas tuples, being immutable, are faster in iterations and often used as keys in dictionaries.\n",
        "\n",
        "QUE4 Describe how dictionaries store data\n",
        "\n",
        "ANS\n",
        "\n",
        "- Dictionaries in Python store data in key-value pairs using a hash-based structure. Each key is mapped to a specific value, and accessing a value requires knowing the key. This structure allows for fast lookups, additions, and deletions.\n",
        "\n",
        "QUE5 Why might you use a set instead of a list in Python ?\n",
        "\n",
        "ANS\n",
        "\n",
        "- Sets are useful when you want to store unique elements and perform fast membership checks. Unlike lists, sets automatically eliminate duplicate values, making them ideal for operations that involve finding unique items or performing mathematical set operations\n",
        "\n",
        "QUE6 What is a string in Python, and how is it different from a list ?\n",
        "\n",
        "ANS\n",
        "\n",
        "- A string is an immutable sequence of characters, whereas a list is a mutable sequence of any data type. While both support indexing and slicing, strings cannot be changed after creation, but lists can be modified.\n",
        "\n",
        "QUE7 How do tuples ensure data integrity in Python ?\n",
        "\n",
        "ANS\n",
        "\n",
        "- Tuples are immutable, meaning their values cannot be altered after creation. This property ensures that data stored in tuples remains consistent, which is particularly valuable in scenarios where data integrity is crucial.\n",
        "\n",
        "QUE8 What is a hash table, and how does it relate to dictionaries in Python ?\n",
        "\n",
        "ANS\n",
        "\n",
        "- A hash table is a data structure that uses hash functions to map keys to specific locations in memory for fast retrieval. Python’s dictionaries are built using hash tables, allowing quick access to values by their unique keys.\n",
        "\n",
        "QUE9 Can lists contain different data types in Python.\n",
        "\n",
        "ANS\n",
        "\n",
        "- A hash table is a data structure that uses hash functions to map keys to specific locations in memory for fast retrieval. Python’s dictionaries are built using hash tables, allowing quick access to values by their unique keys\n",
        "\n",
        "QUE10 Explain why strings are immutable in Python\n",
        "\n",
        "ANS\n",
        "\n",
        "- Strings are immutable in Python to enhance performance and security. Since each string operation creates a new object, it prevents unintended modifications, which improves the reliability of the code\n",
        "\n",
        "QUE11 What advantages do dictionaries offer over lists for certain tasks?\n",
        "\n",
        "ANS\n",
        "\n",
        "- Dictionaries provide constant-time complexity for lookups by key, making them more efficient than lists for tasks that involve frequent data retrieval. Lists, on the other hand, require linear time to search for elements, especially in large datasets\n",
        "\n",
        "QUE12 Describe a scenario where using a tuple would be preferable over a list.\n",
        "\n",
        "ANS\n",
        "\n",
        "- Tuples are preferable when data should remain constant, such as in database records, coordinates, or configuration settings. Using tuples ensures that the data cannot be modified, maintaining the integrity of the stored values\n",
        "\n",
        "QUE13 How do sets handle duplicate values in Python .\n",
        "\n",
        "ANS\n",
        "\n",
        "- Sets in Python automatically remove duplicate values, ensuring that each element is unique. This behavior is useful for operations where only distinct items are required, such as removing duplicates from a list.\n",
        "\n",
        "Q14. How does the “in” keyword work differently for lists and dictionaries?\n",
        "\n",
        "- For lists, the “in” keyword checks if a value exists within the list by scanning each element. For dictionaries, it checks if a key exists directly, providing faster lookup times due to the hash-based structure of dictionaries.\n",
        "\n",
        "Q15. Can you modify the elements of a tuple? Explain why or why not.\n",
        "\n",
        "- No, elements of a tuple cannot be modified because tuples are immutable. Once created, their contents are fixed, making them suitable for data that should remain unchanged throughout the program.\n",
        "\n",
        "Q16. What is a nested dictionary, and give an example of its use case ?\n",
        "\n",
        "- A nested dictionary is a dictionary within another dictionary. It is useful for storing hierarchical data, such as a directory of users where each user has their personal data stored as a dictionary of properties.\n",
        "\n",
        "Q17. Describe the time complexity of accessing elements in a dictionary.\n",
        "\n",
        "- Accessing elements in a dictionary has an average time complexity of O(1), thanks to the hash table structure. This efficiency makes dictionaries ideal for scenarios that require frequent and rapid data retrieval.\n",
        "\n",
        "Q18. In what situations are lists preferred over dictionaries.\n",
        "\n",
        "- Lists are preferred when the order of elements matters, or when indexing by position is needed. Unlike dictionaries, which use keys, lists are ordered sequences, making them suitable for tasks that involve sequence manipulation\n",
        "\n",
        "Q19. Why are dictionaries considered unordered, and how does that affect data retrieval ?\n",
        "\n",
        "- Dictionaries in Python are considered unordered because they do not maintain a specific sequence for their keys and values. However, this does not affect data retrieval as long as retrieval is done by key, as dictionaries provide direct access to values through hashing.\n",
        "\n",
        "Q20. Explain the difference between a list and a dictionary in terms of data retrieval?\n",
        "\n",
        "- In a list, data retrieval involves accessing elements by index, which is straightforward but linear in search time if the element’s position is unknown. In contrast, a dictionary allows access to data by key, offering faster retrieval regardless of element count"
      ],
      "metadata": {
        "id": "Fa80ZWT33jeX"
      }
    }
  ]
}