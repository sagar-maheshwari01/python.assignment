{
  "nbformat": 4,
  "nbformat_minor": 0,
  "metadata": {
    "colab": {
      "provenance": [],
      "include_colab_link": true
    },
    "kernelspec": {
      "name": "python3",
      "display_name": "Python 3"
    },
    "language_info": {
      "name": "python"
    }
  },
  "cells": [
    {
      "cell_type": "markdown",
      "metadata": {
        "id": "view-in-github",
        "colab_type": "text"
      },
      "source": [
        "<a href=\"https://colab.research.google.com/github/sagar-maheshwari01/python.assignment/blob/main/Statisticsbasics.ipynb\" target=\"_parent\"><img src=\"https://colab.research.google.com/assets/colab-badge.svg\" alt=\"Open In Colab\"/></a>"
      ]
    },
    {
      "cell_type": "markdown",
      "source": [
        "Question 1. Explain the different types of data (qualitative and quantitative) and provide examples of each. Discuss nominal, ordinal, interval, and ratio scales.\n",
        "\n",
        "Answer:\n",
        "\n",
        "Data is classified into two types:\n",
        "\t1.\tQualitative (Categorical) Data: Cannot be measured numerically.\n",
        "\t•\tExample: Colors (Red, Blue), Gender (Male, Female), Yes/No responses.\n",
        "\t2.\tQuantitative (Numerical) Data: Expressed in numbers.\n",
        "\t•\tExample: Height (5.7 feet), Weight (70 kg), Age (25 years).\n",
        "\n",
        "Scales of Measurement:\n",
        "\t1.\tNominal Scale: Categorized data with no order. (Example: Gender, Blood Type).\n",
        "\t2.\tOrdinal Scale: Ordered data without meaningful differences. (Example: Customer Satisfaction - Poor, Good, Excellent).\n",
        "\t3.\tInterval Scale: Ordered, with meaningful differences, but no true zero. (Example: Temperature in Celsius).\n",
        "\t4.\tRatio Scale: Ordered, meaningful differences, and a true zero. (Example: Height, Weight, Age)."
      ],
      "metadata": {
        "id": "966GObW9JZnX"
      }
    },
    {
      "cell_type": "markdown",
      "source": [
        "Question 2. What are the measures of central tendency, and when should you use each? Discuss the mean, median, and mode with examples and situations where each is appropriate.\n",
        "\n",
        "Answer:\n",
        "\n",
        "Measures of central tendency help summarize data.\n",
        "\t1.\tMean (Average):\n",
        "\t•\tExample: Scores: {10, 20, 30} → Mean = (10+20+30)/3 = 20\n",
        "\t•\tUse: When data has no extreme outliers.\n",
        "  2.\tMedian (Middle Value):\n",
        "\t•\tIf odd data points → Middle value.\n",
        "\t•\tIf even data points → Average of two middle values.\n",
        "\t•\tExample: {10, 15, 20, 25, 30} → Median = 20\n",
        "\t•\tUse: When data has outliers (e.g., salary data).\n",
        "\t3.\tMode (Most Frequent Value):\n",
        "\t•\tExample: {3, 5, 5, 8, 10} → Mode = 5\n",
        "\t•\tUse: For categorical data (e.g., Favorite color, Gender)."
      ],
      "metadata": {
        "id": "0b10R8kKJc0R"
      }
    },
    {
      "cell_type": "markdown",
      "source": [
        "Question 3. Explain the concept of dispersion. How do variance and standard deviation measure the spread of data?\n",
        "\n",
        "Answer:\n",
        "\t•\tDispersion measures how much data varies around the central value.\n",
        "\t•\tVariance is the average squared difference from the mean:\n",
        "\t•\tStandard Deviation (SD) is the square root of variance:\n",
        "SD\n",
        "\t•\tHigher variance/SD → More spread-out data.\n",
        "\t•\tLower variance/SD → Data points are close to the mean.\n"
      ],
      "metadata": {
        "id": "Te7DzJ1MJvOI"
      }
    },
    {
      "cell_type": "markdown",
      "source": [
        "Question 4. What is a box plot, and what can it tell you about the distribution of data?\n",
        "\n",
        "Answer:\n",
        "\n",
        "A box plot (box-and-whisker plot) visually represents data distribution. It shows:\n",
        "\t•\tMedian (Middle value).\n",
        "\t•\tInterquartile Range (IQR) (Spread of middle 50% data).\n",
        "\t•\tWhiskers (Minimum and Maximum values within limits).\n",
        "\t•\tOutliers (Points beyond whiskers).\n",
        "\n",
        "Use: Identifying skewness, outliers, and distribution shape.\n"
      ],
      "metadata": {
        "id": "vSqgcLPwJ1HQ"
      }
    },
    {
      "cell_type": "markdown",
      "source": [
        "Question 5. Discuss the role of random sampling in making inferences about populations.\n",
        "\n",
        "Answer:\n",
        "\t•\tRandom Sampling ensures every member of a population has an equal chance of selection.\n",
        "\t•\tReduces bias and helps generalize findings.\n",
        "\t•\tExample: Conducting a survey on 1000 randomly selected people to predict election results."
      ],
      "metadata": {
        "id": "EM5sCbcSJ9eq"
      }
    },
    {
      "cell_type": "markdown",
      "source": [
        "Question 6. Explain the concept of skewness and its types. How does skewness affect the interpretation of data?\n",
        "\n",
        "Answer:\n",
        "\t•\tSkewness measures data asymmetry.\n",
        "\t•\tTypes of Skewness:\n",
        "\t1.\tPositive Skew (Right-Skewed): Mean > Median, tail on right. (Example: Income Distribution).\n",
        "\t2.\tNegative Skew (Left-Skewed): Mean < Median, tail on left. (Example: Age at Retirement).\n",
        "\t3.\tSymmetric Data: Mean ≈ Median.\n",
        "\n",
        "Impact: Skewness affects the choice of central tendency (mean, median)."
      ],
      "metadata": {
        "id": "X8_sc6iOKApD"
      }
    },
    {
      "cell_type": "markdown",
      "source": [
        "Question 7 . What is the interquartile range (IQR), and how is it used to detect outliers?\n",
        "\n",
        "Answer:\n",
        "\t•\tIQR = Q3 - Q1 (Middle 50% of data).\n",
        "\t•\tOutliers:\n",
        "\t•\tBelow Q1 - 1.5 × IQR or\n",
        "\t•\tAbove Q3 + 1.5 × IQR\n",
        "\n",
        "Example:\n",
        "Data: {10, 12, 14, 18, 22, 25, 30}\n",
        "\t•\tQ1 = 12, Q3 = 25\n",
        "\t•\tIQR = 25 - 12 = 13\n",
        "\t•\tOutlier limit = (12 - 1.5×13) and (25 + 1.5×13)\n"
      ],
      "metadata": {
        "id": "vLOd1vEWKFqW"
      }
    },
    {
      "cell_type": "markdown",
      "source": [
        "Question 8. Discuss the conditions under which the binomial distribution is used.\n",
        "\n",
        "Answer:\n",
        "\n",
        "Used when:\n",
        "\t1.\tFixed number of trials (n).\n",
        "\t2.\tEach trial has two outcomes (Success/Failure).\n",
        "\t3.\tProbability of success (p) is constant.\n",
        "\t4.\tTrials are independent.\n",
        "\n",
        "Example: Tossing a coin 5 times. Success = getting heads."
      ],
      "metadata": {
        "id": "3TmKaPzoKI-V"
      }
    },
    {
      "cell_type": "markdown",
      "source": [
        "Question 9. Explain the properties of the normal distribution and the empirical rule (68-95-99.7 rule).\n",
        "\n",
        "Answer:\n",
        "\t•\tNormal Distribution: Bell-shaped, symmetric about the mean.\n",
        "\t•\tEmpirical Rule:\n",
        "\t•\t68% data within 1 SD of the mean.\n",
        "\t•\t95% data within 2 SD.\n",
        "\t•\t99.7% data within 3 SD.\n",
        "\n",
        "Example: If mean height = 170 cm, SD = 10 cm:\n",
        "\t•\t68% people have height between 160-180 cm.\n",
        "\t•\t95% people have height between 150-190 cm.\n"
      ],
      "metadata": {
        "id": "V_VcV7kjKPBT"
      }
    },
    {
      "cell_type": "markdown",
      "source": [
        "Question 10. Provide a real-life example of a Poisson process and calculate the probability for a specific event.\n",
        "\n",
        "Answer:\n",
        "\n",
        "Used when events happen randomly over time at a constant rate.\n",
        "\n",
        "Example:\n",
        "\t•\tCalls at a call center: If 10 calls arrive per hour, probability of getting exactly 5 calls is:\n",
        "\n",
        "P(X=k) = \\frac{e^{-\\lambda} \\lambda^k}{k!}\n",
        "\n",
        "where λ = average occurrences, k = desired count.\n"
      ],
      "metadata": {
        "id": "Ge79aMKEKPpa"
      }
    },
    {
      "cell_type": "markdown",
      "source": [
        "Question 11. Explain what a random variable is and differentiate between discrete and continuous random variables.\n",
        "\n",
        "Answer:\n",
        "\t•\tRandom Variable: Assigns numerical values to outcomes of an experiment.\n",
        "\t•\tDiscrete: Countable values (e.g., Number of students in a class).\n",
        "\t•\tContinuous: Measured values (e.g., Height, Temperature)."
      ],
      "metadata": {
        "id": "ewAo3ogOLD79"
      }
    },
    {
      "cell_type": "markdown",
      "source": [
        "Question 12. Provide an example dataset, calculate both covariance and correlation, and interpret the results.\n",
        "\n",
        "Answer:\n",
        "\n",
        "X\n",
        "1\n",
        "2\n",
        "3\n",
        "4\n",
        "Y\n",
        "2\n",
        "3\n",
        "5\n",
        "7\n",
        "Cov(X, Y) = positive, meaning both increase together.\n",
        "Correlation close to 1 = strong positive relation.\n",
        "\n"
      ],
      "metadata": {
        "id": "rUG5SWNLKfxy"
      }
    }
  ]
}