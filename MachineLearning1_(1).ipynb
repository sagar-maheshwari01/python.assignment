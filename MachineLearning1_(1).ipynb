{
  "nbformat": 4,
  "nbformat_minor": 0,
  "metadata": {
    "colab": {
      "provenance": [],
      "include_colab_link": true
    },
    "kernelspec": {
      "name": "python3",
      "display_name": "Python 3"
    },
    "language_info": {
      "name": "python"
    }
  },
  "cells": [
    {
      "cell_type": "markdown",
      "metadata": {
        "id": "view-in-github",
        "colab_type": "text"
      },
      "source": [
        "<a href=\"https://colab.research.google.com/github/sagar-maheshwari01/python.assignment/blob/main/MachineLearning1_(1).ipynb\" target=\"_parent\"><img src=\"https://colab.research.google.com/assets/colab-badge.svg\" alt=\"Open In Colab\"/></a>"
      ]
    },
    {
      "cell_type": "code",
      "execution_count": null,
      "metadata": {
        "id": "qqnEOpOTRvVg"
      },
      "outputs": [],
      "source": []
    },
    {
      "cell_type": "markdown",
      "source": [
        "Question 1. What is a parameter?\n",
        "\n",
        "Answer 1. A parameter is an internal variable in a machine learning model that is learned from the training data. For example, in linear regression, the coefficients (weights) are parameters.\n",
        "Question"
      ],
      "metadata": {
        "id": "4A7JqKDWRxO2"
      }
    },
    {
      "cell_type": "markdown",
      "source": [
        "Question 2. What is correlation?\n",
        "\n",
        "Answer 2.\n",
        "\n",
        "Correlation is a statistical measure that expresses the extent to which two variables are linearly related."
      ],
      "metadata": {
        "id": "HJm367V0R-ev"
      }
    },
    {
      "cell_type": "markdown",
      "source": [
        "Question 3. What does negative correlation mean?\n",
        "\n",
        "Answer 3.\n",
        "Negative correlation means that as one variable increases, the other decreases. For example, temperature and sales of hot coffee."
      ],
      "metadata": {
        "id": "pbpnn68wSKnV"
      }
    },
    {
      "cell_type": "markdown",
      "source": [
        "Question 4. Define Machine Learning. What are the main components in Machine Learning?\n",
        "\n",
        "Answer 4.\n",
        "\n",
        "Machine Learning is the field of study that gives computers the ability to learn from data without being explicitly programmed.\n",
        "\n",
        "Main components:\n",
        "\t•\tDataset\n",
        "\t•\tFeatures\n",
        "\t•\tModel\n",
        "\t•\tLoss function\n",
        "\t•\tOptimizer\n",
        "\t•\tEvaluation metrics\n"
      ],
      "metadata": {
        "id": "X0dl3F4ZSUQw"
      }
    },
    {
      "cell_type": "markdown",
      "source": [
        "Question 5. How does loss value help in determining whether the model is good or not?\n",
        "\n",
        "Answer 5\n",
        "The loss value measures the difference between the predicted output and the actual value. A lower loss means better performance of the model."
      ],
      "metadata": {
        "id": "2mcgoJtSSb3P"
      }
    },
    {
      "cell_type": "markdown",
      "source": [
        "Question 6. What are continuous and categorical variables?\n",
        "\n",
        "Answer 6\n",
        "\n",
        "\t•\tContinuous variables: Numerical values that can take any value (e.g., height, weight).\n",
        "\t•\tCategorical variables: Data divided into categories (e.g., gender, country)."
      ],
      "metadata": {
        "id": "sadXGFayShYV"
      }
    },
    {
      "cell_type": "markdown",
      "source": [
        "Question 7. How do we handle categorical variables in Machine Learning? What are the common techniques?\n",
        "\n",
        "Answer 7\n",
        "\n",
        "Techniques include:\n",
        "\t•\tLabel Encoding\n",
        "\t•\tOne-Hot Encoding\n",
        "\t•\tOrdinal Encoding\n",
        "\t•\tTarget Encoding (advanced)"
      ],
      "metadata": {
        "id": "TFc-MOCNSlrV"
      }
    },
    {
      "cell_type": "markdown",
      "source": [
        "Question 8. What do you mean by training and testing a dataset?\n",
        "\n",
        "  Answer 8\n",
        "  •\tTraining: Model learns from data.\n",
        "\t•\tTesting: Model is evaluated on unseen data to check performance.\n"
      ],
      "metadata": {
        "id": "0i3CxfaRSpNL"
      }
    },
    {
      "cell_type": "markdown",
      "source": [
        "Question 9. What is sklearn.preprocessing?\n",
        "\n",
        "Answer 9\n",
        "It’s a module in Scikit-learn used for data preprocessing like scaling, encoding, normalization, etc."
      ],
      "metadata": {
        "id": "M2oTpjCFSq7b"
      }
    },
    {
      "cell_type": "markdown",
      "source": [
        "Question 10. What is a Test set?\n",
        "\n",
        "Answer 10\n",
        "\n",
        "A Test set is a portion of the dataset not used during training, used to evaluate model performance."
      ],
      "metadata": {
        "id": "yBfF7ZBFSsBZ"
      }
    },
    {
      "cell_type": "markdown",
      "source": [
        "Question 11. How do we split data for model fitting (training and testing) in Python?\n",
        "\n",
        "Answer 11\n",
        "\n",
        "Using train_test_split from sklearn.model_selection:\n"
      ],
      "metadata": {
        "id": "izQbz72sStp0"
      }
    },
    {
      "cell_type": "code",
      "source": [
        "from sklearn.datasets import load_iris\n",
        "from sklearn.model_selection import train_test_split\n",
        "\n",
        "# Load sample dataset\n",
        "data = load_iris()\n",
        "X = data.data          # Features\n",
        "y = data.target        # Labels\n",
        "\n",
        "# Now split the data\n",
        "X_train, X_test, y_train, y_test = train_test_split(X, y, test_size=0.2, random_state=42)\n",
        "\n",
        "print(\"Training data shape:\", X_train.shape)\n",
        "print(\"Testing data shape:\", X_test.shape)\n",
        "from sklearn.model_selection import train_test_split\n",
        "X_train, X_test, y_train, y_test = train_test_split(X, y, test_size=0.2)"
      ],
      "metadata": {
        "colab": {
          "base_uri": "https://localhost:8080/"
        },
        "id": "ockxdbytS2YX",
        "outputId": "623248c1-b38b-4354-bf96-332cbe0f58a8"
      },
      "execution_count": null,
      "outputs": [
        {
          "output_type": "stream",
          "name": "stdout",
          "text": [
            "Training data shape: (120, 4)\n",
            "Testing data shape: (30, 4)\n"
          ]
        }
      ]
    },
    {
      "cell_type": "markdown",
      "source": [
        "Question 12. How do you approach a Machine Learning problem?\n",
        "\n",
        "Answer 12\n",
        "\n",
        "Steps:\n",
        "\t1.\tUnderstand the problem\n",
        "\t2.\tCollect data\n",
        "\t3.\tPreprocess data\n",
        "\t4.\tPerform EDA\n",
        "\t5.\tFeature Engineering\n",
        "\t6.\tTrain model\n",
        "\t7.\tEvaluate model\n",
        "\t8.\tTune hyperparameters\n",
        "\t9.\tDeploy\n"
      ],
      "metadata": {
        "id": "4xsO6EgsS681"
      }
    },
    {
      "cell_type": "markdown",
      "source": [
        "Question 13. Why do we have to perform EDA before fitting a model to the data?\n",
        "\n",
        "Answer 13\n",
        "\n",
        "EDA (Exploratory Data Analysis) helps in understanding patterns, spotting anomalies, and selecting important features."
      ],
      "metadata": {
        "id": "gE69rRRDS-If"
      }
    },
    {
      "cell_type": "markdown",
      "source": [
        "Question 14. How can you find correlation between variables in Python?"
      ],
      "metadata": {
        "id": "lNlPWktbTAJq"
      }
    },
    {
      "cell_type": "code",
      "source": [
        "#answer 14\n",
        "import pandas as pd\n",
        "import seaborn as sns\n",
        "import matplotlib.pyplot as plt\n",
        "\n",
        "# Sample dataset\n",
        "data = {\n",
        "    'Age': [25, 30, 45, 35, 50],\n",
        "    'Salary': [50000, 60000, 80000, 75000, 100000],\n",
        "    'Experience': [2, 5, 10, 7, 15]\n",
        "}\n",
        "\n",
        "# Create DataFrame\n",
        "df = pd.DataFrame(data)\n",
        "\n",
        "# Show correlation matrix\n",
        "correlation_matrix = df.corr()\n",
        "print(correlation_matrix)\n",
        "\n",
        "# Optional: Visualize with heatmap\n",
        "sns.heatmap(correlation_matrix, annot=True, cmap='coolwarm')\n",
        "plt.show()"
      ],
      "metadata": {
        "colab": {
          "base_uri": "https://localhost:8080/",
          "height": 506
        },
        "id": "2N49TDFlTEb4",
        "outputId": "4b0774d4-d76e-4934-939d-a3456ede2315"
      },
      "execution_count": null,
      "outputs": [
        {
          "output_type": "stream",
          "name": "stdout",
          "text": [
            "                 Age    Salary  Experience\n",
            "Age         1.000000  0.965219    0.980028\n",
            "Salary      0.965219  1.000000    0.988513\n",
            "Experience  0.980028  0.988513    1.000000\n"
          ]
        },
        {
          "output_type": "display_data",
          "data": {
            "text/plain": [
              "<Figure size 640x480 with 2 Axes>"
            ],
            "image/png": "[encoded data removed]"
          },
          "metadata": {}
        }
      ]
    },
    {
      "cell_type": "code",
      "source": [
        "import seaborn as sns\n",
        "sns.heatmap(df.corr(), annot=True)"
      ],
      "metadata": {
        "colab": {
          "base_uri": "https://localhost:8080/",
          "height": 453
        },
        "id": "g650V-lOTHKI",
        "outputId": "8b9ae999-872c-4bb6-ec3f-7438de0c06af"
      },
      "execution_count": null,
      "outputs": [
        {
          "output_type": "execute_result",
          "data": {
            "text/plain": [
              "<Axes: >"
            ]
          },
          "metadata": {},
          "execution_count": 7
        },
        {
          "output_type": "display_data",
          "data": {
            "text/plain": [
              "<Figure size 640x480 with 2 Axes>"
            ],
            "image/png": "[encoded data removed]"
          },
          "metadata": {}
        }
      ]
    },
    {
      "cell_type": "markdown",
      "source": [
        "Question 15. What is causation? Explain difference between correlation and causation with an example.\n",
        "\n",
        "Answer 15. Causation means one variable directly affects the other.\n",
        "Correlation means they move together, but one may not cause the other.\n",
        "\n",
        "Example:\n",
        "Ice cream sales and drowning rates increase in summer. They are correlated, but one doesn’t cause the other. The actual cause is temperature."
      ],
      "metadata": {
        "id": "vAT7VvRxTMAB"
      }
    },
    {
      "cell_type": "markdown",
      "source": [
        "Question 16. What is an Optimizer? What are different types of optimizers? Explain each with an example.\n",
        "\n",
        "Answer 16.\n",
        "\n",
        "An optimizer adjusts model parameters to reduce the loss.\n",
        "Types:\n",
        "\t•\tSGD (Stochastic Gradient Descent)\n",
        "\t•\tAdam (Adaptive Moment Estimation)\n",
        "\t•\tRMSProp"
      ],
      "metadata": {
        "id": "KG9ofdOUTNCr"
      }
    },
    {
      "cell_type": "code",
      "source": [
        "import torch\n",
        "import torch.nn as nn\n",
        "import torch.optim as optim\n",
        "\n",
        "# Dummy model (just for example)\n",
        "model = nn.Linear(2, 1)  # 2 input features, 1 output\n",
        "\n",
        "# Define optimizer\n",
        "optimizer = optim.Adam(model.parameters(), lr=0.001)\n",
        "\n",
        "# Print to confirm\n",
        "print(\"Optimizer created:\", optimizer)"
      ],
      "metadata": {
        "colab": {
          "base_uri": "https://localhost:8080/"
        },
        "id": "HiDlEF5oUPVd",
        "outputId": "6894e166-253c-49df-b11d-53418620433f"
      },
      "execution_count": null,
      "outputs": [
        {
          "output_type": "stream",
          "name": "stdout",
          "text": [
            "Optimizer created: Adam (\n",
            "Parameter Group 0\n",
            "    amsgrad: False\n",
            "    betas: (0.9, 0.999)\n",
            "    capturable: False\n",
            "    differentiable: False\n",
            "    eps: 1e-08\n",
            "    foreach: None\n",
            "    fused: None\n",
            "    lr: 0.001\n",
            "    maximize: False\n",
            "    weight_decay: 0\n",
            ")\n"
          ]
        }
      ]
    },
    {
      "cell_type": "markdown",
      "source": [
        "Question 17. What is sklearn.linear_model?\n",
        "\n",
        "Answer 17.\n",
        "\n",
        "It’s a module in Scikit-learn that contains linear models like LinearRegression, LogisticRegression, etc."
      ],
      "metadata": {
        "id": "F4wVGeytTQZh"
      }
    },
    {
      "cell_type": "markdown",
      "source": [
        "Question 18. What does model.fit() do? What arguments must be given?\n",
        "\n",
        "Answer 18.\n",
        "\n",
        "It trains the model.\n",
        "Arguments: features X and labels y."
      ],
      "metadata": {
        "id": "P0F1e0SXTVAU"
      }
    },
    {
      "cell_type": "code",
      "source": [
        "from sklearn.linear_model import LinearRegression\n",
        "from sklearn.model_selection import train_test_split\n",
        "from sklearn.datasets import load_iris\n",
        "\n",
        "# Load dataset\n",
        "data = load_iris()\n",
        "X = data.data\n",
        "y = data.target\n",
        "\n",
        "# Split data\n",
        "X_train, X_test, y_train, y_test = train_test_split(X, y, test_size=0.2)\n",
        "\n",
        "# Create and train model\n",
        "model = LinearRegression()\n",
        "model.fit(X_train, y_train)"
      ],
      "metadata": {
        "colab": {
          "base_uri": "https://localhost:8080/",
          "height": 80
        },
        "id": "Y7l4AQA6TYXr",
        "outputId": "ee85889f-92ff-410f-80cc-180c7847fa34"
      },
      "execution_count": null,
      "outputs": [
        {
          "output_type": "execute_result",
          "data": {
            "text/plain": [
              "LinearRegression()"
            ],
            "text/html": [
              "<style>#sk-container-id-1 {\n",
              "  /* Definition of color scheme common for light and dark mode */\n",
              "  --sklearn-color-text: #000;\n",
              "  --sklearn-color-text-muted: #666;\n",
              "  --sklearn-color-line: gray;\n",
              "  /* Definition of color scheme for unfitted estimators */\n",
              "  --sklearn-color-unfitted-level-0: #fff5e6;\n",
              "  --sklearn-color-unfitted-level-1: #f6e4d2;\n",
              "  --sklearn-color-unfitted-level-2: #ffe0b3;\n",
              "  --sklearn-color-unfitted-level-3: chocolate;\n",
              "  /* Definition of color scheme for fitted estimators */\n",
              "  --sklearn-color-fitted-level-0: #f0f8ff;\n",
              "  --sklearn-color-fitted-level-1: #d4ebff;\n",
              "  --sklearn-color-fitted-level-2: #b3dbfd;\n",
              "  --sklearn-color-fitted-level-3: cornflowerblue;\n",
              "\n",
              "  /* Specific color for light theme */\n",
              "  --sklearn-color-text-on-default-background: var(--sg-text-color, var(--theme-code-foreground, var(--jp-content-font-color1, black)));\n",
              "  --sklearn-color-background: var(--sg-background-color, var(--theme-background, var(--jp-layout-color0, white)));\n",
              "  --sklearn-color-border-box: var(--sg-text-color, var(--theme-code-foreground, var(--jp-content-font-color1, black)));\n",
              "  --sklearn-color-icon: #696969;\n",
              "\n",
              "  @media (prefers-color-scheme: dark) {\n",
              "    /* Redefinition of color scheme for dark theme */\n",
              "    --sklearn-color-text-on-default-background: var(--sg-text-color, var(--theme-code-foreground, var(--jp-content-font-color1, white)));\n",
              "    --sklearn-color-background: var(--sg-background-color, var(--theme-background, var(--jp-layout-color0, #111)));\n",
              "    --sklearn-color-border-box: var(--sg-text-color, var(--theme-code-foreground, var(--jp-content-font-color1, white)));\n",
              "    --sklearn-color-icon: #878787;\n",
              "  }\n",
              "}\n",
              "\n",
              "#sk-container-id-1 {\n",
              "  color: var(--sklearn-color-text);\n",
              "}\n",
              "\n",
              "#sk-container-id-1 pre {\n",
              "  padding: 0;\n",
              "}\n",
              "\n",
              "#sk-container-id-1 input.sk-hidden--visually {\n",
              "  border: 0;\n",
              "  clip: rect(1px 1px 1px 1px);\n",
              "  clip: rect(1px, 1px, 1px, 1px);\n",
              "  height: 1px;\n",
              "  margin: -1px;\n",
              "  overflow: hidden;\n",
              "  padding: 0;\n",
              "  position: absolute;\n",
              "  width: 1px;\n",
              "}\n",
              "\n",
              "#sk-container-id-1 div.sk-dashed-wrapped {\n",
              "  border: 1px dashed var(--sklearn-color-line);\n",
              "  margin: 0 0.4em 0.5em 0.4em;\n",
              "  box-sizing: border-box;\n",
              "  padding-bottom: 0.4em;\n",
              "  background-color: var(--sklearn-color-background);\n",
              "}\n",
              "\n",
              "#sk-container-id-1 div.sk-container {\n",
              "  /* jupyter's `normalize.less` sets `[hidden] { display: none; }`\n",
              "     but bootstrap.min.css set `[hidden] { display: none !important; }`\n",
              "     so we also need the `!important` here to be able to override the\n",
              "     default hidden behavior on the sphinx rendered scikit-learn.org.\n",
              "     See: https://github.com/scikit-learn/scikit-learn/issues/21755 */\n",
              "  display: inline-block !important;\n",
              "  position: relative;\n",
              "}\n",
              "\n",
              "#sk-container-id-1 div.sk-text-repr-fallback {\n",
              "  display: none;\n",
              "}\n",
              "\n",
              "div.sk-parallel-item,\n",
              "div.sk-serial,\n",
              "div.sk-item {\n",
              "  /* draw centered vertical line to link estimators */\n",
              "  background-image: linear-gradient(var(--sklearn-color-text-on-default-background), var(--sklearn-color-text-on-default-background));\n",
              "  background-size: 2px 100%;\n",
              "  background-repeat: no-repeat;\n",
              "  background-position: center center;\n",
              "}\n",
              "\n",
              "/* Parallel-specific style estimator block */\n",
              "\n",
              "#sk-container-id-1 div.sk-parallel-item::after {\n",
              "  content: \"\";\n",
              "  width: 100%;\n",
              "  border-bottom: 2px solid var(--sklearn-color-text-on-default-background);\n",
              "  flex-grow: 1;\n",
              "}\n",
              "\n",
              "#sk-container-id-1 div.sk-parallel {\n",
              "  display: flex;\n",
              "  align-items: stretch;\n",
              "  justify-content: center;\n",
              "  background-color: var(--sklearn-color-background);\n",
              "  position: relative;\n",
              "}\n",
              "\n",
              "#sk-container-id-1 div.sk-parallel-item {\n",
              "  display: flex;\n",
              "  flex-direction: column;\n",
              "}\n",
              "\n",
              "#sk-container-id-1 div.sk-parallel-item:first-child::after {\n",
              "  align-self: flex-end;\n",
              "  width: 50%;\n",
              "}\n",
              "\n",
              "#sk-container-id-1 div.sk-parallel-item:last-child::after {\n",
              "  align-self: flex-start;\n",
              "  width: 50%;\n",
              "}\n",
              "\n",
              "#sk-container-id-1 div.sk-parallel-item:only-child::after {\n",
              "  width: 0;\n",
              "}\n",
              "\n",
              "/* Serial-specific style estimator block */\n",
              "\n",
              "#sk-container-id-1 div.sk-serial {\n",
              "  display: flex;\n",
              "  flex-direction: column;\n",
              "  align-items: center;\n",
              "  background-color: var(--sklearn-color-background);\n",
              "  padding-right: 1em;\n",
              "  padding-left: 1em;\n",
              "}\n",
              "\n",
              "\n",
              "/* Toggleable style: style used for estimator/Pipeline/ColumnTransformer box that is\n",
              "clickable and can be expanded/collapsed.\n",
              "- Pipeline and ColumnTransformer use this feature and define the default style\n",
              "- Estimators will overwrite some part of the style using the `sk-estimator` class\n",
              "*/\n",
              "\n",
              "/* Pipeline and ColumnTransformer style (default) */\n",
              "\n",
              "#sk-container-id-1 div.sk-toggleable {\n",
              "  /* Default theme specific background. It is overwritten whether we have a\n",
              "  specific estimator or a Pipeline/ColumnTransformer */\n",
              "  background-color: var(--sklearn-color-background);\n",
              "}\n",
              "\n",
              "/* Toggleable label */\n",
              "#sk-container-id-1 label.sk-toggleable__label {\n",
              "  cursor: pointer;\n",
              "  display: flex;\n",
              "  width: 100%;\n",
              "  margin-bottom: 0;\n",
              "  padding: 0.5em;\n",
              "  box-sizing: border-box;\n",
              "  text-align: center;\n",
              "  align-items: start;\n",
              "  justify-content: space-between;\n",
              "  gap: 0.5em;\n",
              "}\n",
              "\n",
              "#sk-container-id-1 label.sk-toggleable__label .caption {\n",
              "  font-size: 0.6rem;\n",
              "  font-weight: lighter;\n",
              "  color: var(--sklearn-color-text-muted);\n",
              "}\n",
              "\n",
              "#sk-container-id-1 label.sk-toggleable__label-arrow:before {\n",
              "  /* Arrow on the left of the label */\n",
              "  content: \"▸\";\n",
              "  float: left;\n",
              "  margin-right: 0.25em;\n",
              "  color: var(--sklearn-color-icon);\n",
              "}\n",
              "\n",
              "#sk-container-id-1 label.sk-toggleable__label-arrow:hover:before {\n",
              "  color: var(--sklearn-color-text);\n",
              "}\n",
              "\n",
              "/* Toggleable content - dropdown */\n",
              "\n",
              "#sk-container-id-1 div.sk-toggleable__content {\n",
              "  max-height: 0;\n",
              "  max-width: 0;\n",
              "  overflow: hidden;\n",
              "  text-align: left;\n",
              "  /* unfitted */\n",
              "  background-color: var(--sklearn-color-unfitted-level-0);\n",
              "}\n",
              "\n",
              "#sk-container-id-1 div.sk-toggleable__content.fitted {\n",
              "  /* fitted */\n",
              "  background-color: var(--sklearn-color-fitted-level-0);\n",
              "}\n",
              "\n",
              "#sk-container-id-1 div.sk-toggleable__content pre {\n",
              "  margin: 0.2em;\n",
              "  border-radius: 0.25em;\n",
              "  color: var(--sklearn-color-text);\n",
              "  /* unfitted */\n",
              "  background-color: var(--sklearn-color-unfitted-level-0);\n",
              "}\n",
              "\n",
              "#sk-container-id-1 div.sk-toggleable__content.fitted pre {\n",
              "  /* unfitted */\n",
              "  background-color: var(--sklearn-color-fitted-level-0);\n",
              "}\n",
              "\n",
              "#sk-container-id-1 input.sk-toggleable__control:checked~div.sk-toggleable__content {\n",
              "  /* Expand drop-down */\n",
              "  max-height: 200px;\n",
              "  max-width: 100%;\n",
              "  overflow: auto;\n",
              "}\n",
              "\n",
              "#sk-container-id-1 input.sk-toggleable__control:checked~label.sk-toggleable__label-arrow:before {\n",
              "  content: \"▾\";\n",
              "}\n",
              "\n",
              "/* Pipeline/ColumnTransformer-specific style */\n",
              "\n",
              "#sk-container-id-1 div.sk-label input.sk-toggleable__control:checked~label.sk-toggleable__label {\n",
              "  color: var(--sklearn-color-text);\n",
              "  background-color: var(--sklearn-color-unfitted-level-2);\n",
              "}\n",
              "\n",
              "#sk-container-id-1 div.sk-label.fitted input.sk-toggleable__control:checked~label.sk-toggleable__label {\n",
              "  background-color: var(--sklearn-color-fitted-level-2);\n",
              "}\n",
              "\n",
              "/* Estimator-specific style */\n",
              "\n",
              "/* Colorize estimator box */\n",
              "#sk-container-id-1 div.sk-estimator input.sk-toggleable__control:checked~label.sk-toggleable__label {\n",
              "  /* unfitted */\n",
              "  background-color: var(--sklearn-color-unfitted-level-2);\n",
              "}\n",
              "\n",
              "#sk-container-id-1 div.sk-estimator.fitted input.sk-toggleable__control:checked~label.sk-toggleable__label {\n",
              "  /* fitted */\n",
              "  background-color: var(--sklearn-color-fitted-level-2);\n",
              "}\n",
              "\n",
              "#sk-container-id-1 div.sk-label label.sk-toggleable__label,\n",
              "#sk-container-id-1 div.sk-label label {\n",
              "  /* The background is the default theme color */\n",
              "  color: var(--sklearn-color-text-on-default-background);\n",
              "}\n",
              "\n",
              "/* On hover, darken the color of the background */\n",
              "#sk-container-id-1 div.sk-label:hover label.sk-toggleable__label {\n",
              "  color: var(--sklearn-color-text);\n",
              "  background-color: var(--sklearn-color-unfitted-level-2);\n",
              "}\n",
              "\n",
              "/* Label box, darken color on hover, fitted */\n",
              "#sk-container-id-1 div.sk-label.fitted:hover label.sk-toggleable__label.fitted {\n",
              "  color: var(--sklearn-color-text);\n",
              "  background-color: var(--sklearn-color-fitted-level-2);\n",
              "}\n",
              "\n",
              "/* Estimator label */\n",
              "\n",
              "#sk-container-id-1 div.sk-label label {\n",
              "  font-family: monospace;\n",
              "  font-weight: bold;\n",
              "  display: inline-block;\n",
              "  line-height: 1.2em;\n",
              "}\n",
              "\n",
              "#sk-container-id-1 div.sk-label-container {\n",
              "  text-align: center;\n",
              "}\n",
              "\n",
              "/* Estimator-specific */\n",
              "#sk-container-id-1 div.sk-estimator {\n",
              "  font-family: monospace;\n",
              "  border: 1px dotted var(--sklearn-color-border-box);\n",
              "  border-radius: 0.25em;\n",
              "  box-sizing: border-box;\n",
              "  margin-bottom: 0.5em;\n",
              "  /* unfitted */\n",
              "  background-color: var(--sklearn-color-unfitted-level-0);\n",
              "}\n",
              "\n",
              "#sk-container-id-1 div.sk-estimator.fitted {\n",
              "  /* fitted */\n",
              "  background-color: var(--sklearn-color-fitted-level-0);\n",
              "}\n",
              "\n",
              "/* on hover */\n",
              "#sk-container-id-1 div.sk-estimator:hover {\n",
              "  /* unfitted */\n",
              "  background-color: var(--sklearn-color-unfitted-level-2);\n",
              "}\n",
              "\n",
              "#sk-container-id-1 div.sk-estimator.fitted:hover {\n",
              "  /* fitted */\n",
              "  background-color: var(--sklearn-color-fitted-level-2);\n",
              "}\n",
              "\n",
              "/* Specification for estimator info (e.g. \"i\" and \"?\") */\n",
              "\n",
              "/* Common style for \"i\" and \"?\" */\n",
              "\n",
              ".sk-estimator-doc-link,\n",
              "a:link.sk-estimator-doc-link,\n",
              "a:visited.sk-estimator-doc-link {\n",
              "  float: right;\n",
              "  font-size: smaller;\n",
              "  line-height: 1em;\n",
              "  font-family: monospace;\n",
              "  background-color: var(--sklearn-color-background);\n",
              "  border-radius: 1em;\n",
              "  height: 1em;\n",
              "  width: 1em;\n",
              "  text-decoration: none !important;\n",
              "  margin-left: 0.5em;\n",
              "  text-align: center;\n",
              "  /* unfitted */\n",
              "  border: var(--sklearn-color-unfitted-level-1) 1pt solid;\n",
              "  color: var(--sklearn-color-unfitted-level-1);\n",
              "}\n",
              "\n",
              ".sk-estimator-doc-link.fitted,\n",
              "a:link.sk-estimator-doc-link.fitted,\n",
              "a:visited.sk-estimator-doc-link.fitted {\n",
              "  /* fitted */\n",
              "  border: var(--sklearn-color-fitted-level-1) 1pt solid;\n",
              "  color: var(--sklearn-color-fitted-level-1);\n",
              "}\n",
              "\n",
              "/* On hover */\n",
              "div.sk-estimator:hover .sk-estimator-doc-link:hover,\n",
              ".sk-estimator-doc-link:hover,\n",
              "div.sk-label-container:hover .sk-estimator-doc-link:hover,\n",
              ".sk-estimator-doc-link:hover {\n",
              "  /* unfitted */\n",
              "  background-color: var(--sklearn-color-unfitted-level-3);\n",
              "  color: var(--sklearn-color-background);\n",
              "  text-decoration: none;\n",
              "}\n",
              "\n",
              "div.sk-estimator.fitted:hover .sk-estimator-doc-link.fitted:hover,\n",
              ".sk-estimator-doc-link.fitted:hover,\n",
              "div.sk-label-container:hover .sk-estimator-doc-link.fitted:hover,\n",
              ".sk-estimator-doc-link.fitted:hover {\n",
              "  /* fitted */\n",
              "  background-color: var(--sklearn-color-fitted-level-3);\n",
              "  color: var(--sklearn-color-background);\n",
              "  text-decoration: none;\n",
              "}\n",
              "\n",
              "/* Span, style for the box shown on hovering the info icon */\n",
              ".sk-estimator-doc-link span {\n",
              "  display: none;\n",
              "  z-index: 9999;\n",
              "  position: relative;\n",
              "  font-weight: normal;\n",
              "  right: .2ex;\n",
              "  padding: .5ex;\n",
              "  margin: .5ex;\n",
              "  width: min-content;\n",
              "  min-width: 20ex;\n",
              "  max-width: 50ex;\n",
              "  color: var(--sklearn-color-text);\n",
              "  box-shadow: 2pt 2pt 4pt #999;\n",
              "  /* unfitted */\n",
              "  background: var(--sklearn-color-unfitted-level-0);\n",
              "  border: .5pt solid var(--sklearn-color-unfitted-level-3);\n",
              "}\n",
              "\n",
              ".sk-estimator-doc-link.fitted span {\n",
              "  /* fitted */\n",
              "  background: var(--sklearn-color-fitted-level-0);\n",
              "  border: var(--sklearn-color-fitted-level-3);\n",
              "}\n",
              "\n",
              ".sk-estimator-doc-link:hover span {\n",
              "  display: block;\n",
              "}\n",
              "\n",
              "/* \"?\"-specific style due to the `<a>` HTML tag */\n",
              "\n",
              "#sk-container-id-1 a.estimator_doc_link {\n",
              "  float: right;\n",
              "  font-size: 1rem;\n",
              "  line-height: 1em;\n",
              "  font-family: monospace;\n",
              "  background-color: var(--sklearn-color-background);\n",
              "  border-radius: 1rem;\n",
              "  height: 1rem;\n",
              "  width: 1rem;\n",
              "  text-decoration: none;\n",
              "  /* unfitted */\n",
              "  color: var(--sklearn-color-unfitted-level-1);\n",
              "  border: var(--sklearn-color-unfitted-level-1) 1pt solid;\n",
              "}\n",
              "\n",
              "#sk-container-id-1 a.estimator_doc_link.fitted {\n",
              "  /* fitted */\n",
              "  border: var(--sklearn-color-fitted-level-1) 1pt solid;\n",
              "  color: var(--sklearn-color-fitted-level-1);\n",
              "}\n",
              "\n",
              "/* On hover */\n",
              "#sk-container-id-1 a.estimator_doc_link:hover {\n",
              "  /* unfitted */\n",
              "  background-color: var(--sklearn-color-unfitted-level-3);\n",
              "  color: var(--sklearn-color-background);\n",
              "  text-decoration: none;\n",
              "}\n",
              "\n",
              "#sk-container-id-1 a.estimator_doc_link.fitted:hover {\n",
              "  /* fitted */\n",
              "  background-color: var(--sklearn-color-fitted-level-3);\n",
              "}\n",
              "</style><div id=\"sk-container-id-1\" class=\"sk-top-container\"><div class=\"sk-text-repr-fallback\"><pre>LinearRegression()</pre><b>In a Jupyter environment, please rerun this cell to show the HTML representation or trust the notebook. <br />On GitHub, the HTML representation is unable to render, please try loading this page with nbviewer.org.</b></div><div class=\"sk-container\" hidden><div class=\"sk-item\"><div class=\"sk-estimator fitted sk-toggleable\"><input class=\"sk-toggleable__control sk-hidden--visually\" id=\"sk-estimator-id-1\" type=\"checkbox\" checked><label for=\"sk-estimator-id-1\" class=\"sk-toggleable__label fitted sk-toggleable__label-arrow\"><div><div>LinearRegression</div></div><div><a class=\"sk-estimator-doc-link fitted\" rel=\"noreferrer\" target=\"_blank\" href=\"https://scikit-learn.org/1.6/modules/generated/sklearn.linear_model.LinearRegression.html\">?<span>Documentation for LinearRegression</span></a><span class=\"sk-estimator-doc-link fitted\">i<span>Fitted</span></span></div></label><div class=\"sk-toggleable__content fitted\"><pre>LinearRegression()</pre></div> </div></div></div></div>"
            ]
          },
          "metadata": {},
          "execution_count": 11
        }
      ]
    },
    {
      "cell_type": "markdown",
      "source": [
        "Question 19. What does model.predict() do? What arguments must be given?\n",
        "\n",
        "Answer 19\n",
        "\n",
        "It makes predictions using the trained model.\n",
        "Arguments: new input data X."
      ],
      "metadata": {
        "id": "T2T6wmA2TZUG"
      }
    },
    {
      "cell_type": "code",
      "source": [
        "model.predict(X_test)"
      ],
      "metadata": {
        "colab": {
          "base_uri": "https://localhost:8080/"
        },
        "id": "tanrJ7TMTbA9",
        "outputId": "50bf632b-7011-4700-e8fe-77e1a6f08455"
      },
      "execution_count": null,
      "outputs": [
        {
          "output_type": "execute_result",
          "data": {
            "text/plain": [
              "array([-0.04482881, -0.01860262,  1.13947634,  1.28277746,  1.7953471 ,\n",
              "       -0.05162383, -0.10474319,  2.06262123, -0.03647951,  1.9225206 ,\n",
              "        1.21674815,  0.97501604,  1.2373576 ,  2.00300599,  1.33947417,\n",
              "       -0.06900252,  0.86083839,  1.83124839,  2.09562934,  1.58241398,\n",
              "        1.80862898, -0.14523455,  1.27415028,  1.28502493,  1.39415684,\n",
              "        0.14293915,  1.96815262,  1.69969205, -0.06232475, -0.11852326])"
            ]
          },
          "metadata": {},
          "execution_count": 12
        }
      ]
    },
    {
      "cell_type": "markdown",
      "source": [
        "Question 20. What is feature scaling? How does it help in Machine Learning?\n",
        "\n",
        "Answer 20.\n",
        "Feature scaling normalizes data to a common scale. It helps improve convergence in gradient-based models."
      ],
      "metadata": {
        "id": "pun1AKnKTb7z"
      }
    },
    {
      "cell_type": "markdown",
      "source": [
        "Question 21. How do we perform scaling in Python?"
      ],
      "metadata": {
        "id": "fnXRwX_dTeG3"
      }
    },
    {
      "cell_type": "code",
      "source": [
        "#Answer21\n",
        "from sklearn.preprocessing import StandardScaler\n",
        "scaler = StandardScaler()\n",
        "X_scaled = scaler.fit_transform(X)"
      ],
      "metadata": {
        "id": "wBUKH6A6Tfe5"
      },
      "execution_count": null,
      "outputs": []
    },
    {
      "cell_type": "markdown",
      "source": [
        "Question 22. Explain data encoding?\n",
        "\n",
        "Answer 22.\n",
        "\n",
        "Encoding converts categorical variables into numerical form so models can use them.\n",
        "Types: Label Encoding, One-Hot Encoding, etc."
      ],
      "metadata": {
        "id": "QESCSLsoTio8"
      }
    },
    {
      "cell_type": "markdown",
      "source": [
        "Question 23. What is feature scaling? How does it help in Machine Learning?\n",
        "\n",
        "Answer 23\n",
        "\n",
        "Feature scaling is a technique to standardize the range of independent variables (features) in your dataset.\n",
        "\n",
        " Why is it important?\n",
        "\t•\tSome ML algorithms (like SVM, KNN, Gradient Descent) are sensitive to the scale of data.\n",
        "\t•\tFeatures with larger ranges can dominate features with smaller ranges.\n",
        "\t•\tHelps models converge faster and improves accuracy.\n",
        "\n",
        " Common techniques:\n",
        "\t•\tStandardization (Z-score normalization): (x - mean) / std deviation\n",
        "\t•\tMin-Max Scaling: Scales data between 0 and 1."
      ],
      "metadata": {
        "id": "6TXO2X7DUyXK"
      }
    },
    {
      "cell_type": "markdown",
      "source": [
        "Question 24. How do we perform scaling in Python?\n",
        "\n",
        "Answer 24.\n",
        "You can use StandardScaler or MinMaxScaler from sklearn.preprocessing."
      ],
      "metadata": {
        "id": "_RufmLILU_W6"
      }
    },
    {
      "cell_type": "code",
      "source": [
        "#Example using StandardScaler:\n",
        "from sklearn.preprocessing import StandardScaler\n",
        "import numpy as np\n",
        "\n",
        "# Sample data\n",
        "X = np.array([[1, 2], [3, 6], [5, 10]])\n",
        "\n",
        "# Initialize scaler\n",
        "scaler = StandardScaler()\n",
        "\n",
        "# Fit and transform\n",
        "X_scaled = scaler.fit_transform(X)\n",
        "\n",
        "print(X_scaled)"
      ],
      "metadata": {
        "colab": {
          "base_uri": "https://localhost:8080/"
        },
        "id": "6zwQEDyyVE-S",
        "outputId": "f5774532-1e36-4706-a778-5b16f6e757ed"
      },
      "execution_count": null,
      "outputs": [
        {
          "output_type": "stream",
          "name": "stdout",
          "text": [
            "[[-1.22474487 -1.22474487]\n",
            " [ 0.          0.        ]\n",
            " [ 1.22474487  1.22474487]]\n"
          ]
        }
      ]
    },
    {
      "cell_type": "markdown",
      "source": [
        "Question 25. What is sklearn.preprocessing?\n",
        "\n",
        "Answer 25.\n",
        "\n",
        "sklearn.preprocessing is a module in Scikit-learn that provides methods for preprocessing data before feeding it into a machine learning model.\n",
        "\n",
        " It includes tools for:\n",
        "\t•\tScaling (StandardScaler, MinMaxScaler)\n",
        "\t•\tEncoding categorical variables (LabelEncoder, OneHotEncoder)\n",
        "\t•\tBinarizing data\n",
        "\t•\tHandling missing values\n",
        "\t•\tNormalizing features"
      ],
      "metadata": {
        "id": "pV-mASpGVMpN"
      }
    },
    {
      "cell_type": "code",
      "source": [
        "from sklearn.preprocessing import OneHotEncoder, StandardScaler, LabelEncoder"
      ],
      "metadata": {
        "id": "a_5A-XuhVSTt"
      },
      "execution_count": null,
      "outputs": []
    }
  ]
}