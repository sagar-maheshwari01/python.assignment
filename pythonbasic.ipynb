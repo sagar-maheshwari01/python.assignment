{
  "cells": [
    {
      "cell_type": "markdown",
      "metadata": {
        "id": "axOttx41Efyu"
      },
      "source": [
        "QUE 1. WHAT IS PYTHON AND WHY IS IT POPULAR\n",
        "\n",
        "ANS Python is a high-level, interpreted, general-purpose programming language. It emphasizes code readability and uses a clear syntax, making it relatively easy to learn and use.\n",
        "\n",
        "-beginner friendly\n",
        "\n",
        "-versatile\n",
        "\n",
        "-large and active commnity\n",
        "\n",
        "-extensive libraries and frameworks\n",
        "\n",
        "-strong corporate backing"
      ]
    },
    {
      "cell_type": "markdown",
      "metadata": {
        "id": "eDM75RtKJHtq"
      },
      "source": [
        "QUE 2. What is an interpreter in Python ?\n",
        "\n",
        "ANS\n",
        "- Platform Independence: Python code can be run on any platform that has a Python interpreter installed, making it highly portable.\n",
        "\n",
        "- Dynamic Typing: The interpreter checks variable types during runtime, allowing for more flexibility in coding.\n",
        "\n",
        "- Interactive Debugging: The interpreter allows for interactive debugging, where you can step through your code line by line and inspect variables, making it easier to find and fix errors"
      ]
    },
    {
      "cell_type": "markdown",
      "metadata": {
        "id": "5VjJcJvlK_bL"
      },
      "source": [
        "QUE 3. WHAT ARE PREDEFINED KEYWORDS IN PYTHON\n",
        "\n",
        "ANS\n",
        "- Predefined keywords, also known as reserved words, are special words that have specific meanings and purposes within the Python language. They cannot be used as identifiers (like variable names or function names).\n",
        "\n",
        "-Here are a few examples of commonly used keywords in Python:\n",
        "\n",
        "True, False, None, and, or, not, if, elif, else, for, while, break, continue, def, return, class, import, from, as, try, except, finally, with, global, nonlocal, lambda, assert, del, pass, yield, in, is"
      ]
    },
    {
      "cell_type": "markdown",
      "metadata": {
        "id": "NQ_cwJ7GLv87"
      },
      "source": [
        "QUE 4. CAN KEYWORDS BE USED AS VARIABLE NAMES ?\n",
        "\n",
        "ANS\n",
        "- No. Keywords have predefined meanings and cannot be used as variable names. They are reserved for specific purposes in the language. Using a keyword as a variable name will result in a syntax error."
      ]
    },
    {
      "cell_type": "markdown",
      "metadata": {
        "id": "yEb8S299NYq_"
      },
      "source": [
        "QUE 5. WHAT IS MUTABILITY IN PYTHON ?\n",
        "\n",
        "ANS\n",
        "- Mutability refers to the ability of an object to be changed after it is created."
      ]
    },
    {
      "cell_type": "markdown",
      "metadata": {
        "id": "lqFLByAmOBey"
      },
      "source": [
        "QUE 6. Why are lists mutable, but tuples are immutable\n",
        "\n",
        "ANS\n",
        "- Lists are mutable for flexibility; tuples are immutable for data integrity.\n",
        "\n",
        "-Lists are designed to be flexible and allow for dynamic changes to their elements. This makes them suitable for scenarios where data needs to be added, removed, or modified frequently.\n",
        "\n",
        "-Tuples, on the other hand, are intended to represent fixed collections of items. Their immutability ensures that once created, their elements cannot be altered, providing data integrity and predictability."
      ]
    },
    {
      "cell_type": "markdown",
      "metadata": {
        "id": "D47kV7PyOsED"
      },
      "source": [
        "QUE 7. What is the difference between “==” and “is” operators in Python ?\n",
        "\n",
        "ANS\n",
        "\n",
        "-here's the difference between == and is in Python\n",
        "\n",
        "- = checks for equality of value. It compares the content of two objects.\n",
        "\n",
        "- is checks for object identity. It compares whether two variables refer to the same object in memory."
      ]
    },
    {
      "cell_type": "markdown",
      "metadata": {
        "id": "cnZbiKcwP-m5"
      },
      "source": [
        "QUE 8. What are logical operators in Python  ?\n",
        "\n",
        "ANS\n",
        "\n",
        "-Logical operators are used to combine or modify Boolean expressions (expressions that evaluate to True or False). Here are the three main logical operators in Python:\n",
        "\n",
        "- and: Returns True if both operands are True, otherwise False."
      ]
    },
    {
      "cell_type": "code",
      "execution_count": null,
      "metadata": {
        "colab": {
          "base_uri": "https://localhost:8080/"
        },
        "id": "ZIoqYKPhRxre",
        "outputId": "620b9e60-52df-4981-c819-281a649b11fc"
      },
      "outputs": [
        {
          "name": "stdout",
          "output_type": "stream",
          "text": [
            "True\n",
            "False\n"
          ]
        }
      ],
      "source": [
        "x = 5\n",
        "y = 10\n",
        "print(x > 3 and y < 20)  # Output: True (both conditions are True)\n",
        "print(x > 10 and y < 20) # Output: False (x > 10 is False)"
      ]
    },
    {
      "cell_type": "markdown",
      "metadata": {
        "id": "U1deDNsaSCyY"
      },
      "source": [
        "- or: Returns True if at least one operand is True, otherwise False"
      ]
    },
    {
      "cell_type": "code",
      "execution_count": null,
      "metadata": {
        "colab": {
          "base_uri": "https://localhost:8080/"
        },
        "id": "jwz6dYSaSOct",
        "outputId": "c0a3818b-fd8d-4044-d826-79a1e8a4ebeb"
      },
      "outputs": [
        {
          "name": "stdout",
          "output_type": "stream",
          "text": [
            "True\n",
            "False\n"
          ]
        }
      ],
      "source": [
        "x = 5\n",
        "y = 10\n",
        "print(x > 3 or y < 5)  # Output: True (x > 3 is True)\n",
        "print(x > 10 or y < 5) # Output: False (both conditions are False)"
      ]
    },
    {
      "cell_type": "markdown",
      "metadata": {
        "id": "cgw8TaHSSdNG"
      },
      "source": [
        "- not: Returns the opposite Boolean value of the operand."
      ]
    },
    {
      "cell_type": "code",
      "execution_count": null,
      "metadata": {
        "colab": {
          "base_uri": "https://localhost:8080/"
        },
        "id": "1yLzNDGkStlq",
        "outputId": "7a0dffef-1272-43a9-b93c-dda6a2fb98cd"
      },
      "outputs": [
        {
          "name": "stdout",
          "output_type": "stream",
          "text": [
            "True\n",
            "False\n"
          ]
        }
      ],
      "source": [
        "x = 5\n",
        "print(not x > 10)  # Output: True (x > 10 is False, so not x > 10 is True)\n",
        "print(not x > 3)  # Output: False (x > 3 is True, so not x > 3 is False)"
      ]
    },
    {
      "cell_type": "markdown",
      "metadata": {
        "id": "5Cyzh4xQSztP"
      },
      "source": [
        "QUE 9. What is type casting in Python ?\n",
        "\n",
        "ANS\n",
        "\n",
        "-Type casting, also known as type conversion, is the process of changing the data type of a value from one type to another.\n",
        "\n"
      ]
    },
    {
      "cell_type": "code",
      "execution_count": null,
      "metadata": {
        "id": "DblWpVVuToBz"
      },
      "outputs": [],
      "source": [
        "age = \"25\"  # age is a string\n",
        "age_int = int(age)"
      ]
    },
    {
      "cell_type": "markdown",
      "source": [
        "QUE 10. What is the difference between implicit and explicit type casting ?\n",
        "\n",
        "ANS\n",
        "\n",
        "- Initiation: Implicit is automatic, while explicit is manual.\n",
        "\n",
        "- Control: Explicit gives more control over data type conversion, whereas implicit is automatic and relies on Python's rules.\n",
        "- Safety: Implicit is generally safer as it prioritizes avoiding data loss. Explicit can lead to errors if the conversion is not possible."
      ],
      "metadata": {
        "id": "4d77YfwK2vKF"
      }
    },
    {
      "cell_type": "markdown",
      "source": [
        "QUE 11. What is the purpose of conditional statements in Python ?\n",
        "\n",
        "ANS\n",
        "\n",
        "- Conditional statements in Python (like if, elif, and else) control the flow of code execution based on whether certain conditions are true or false. They allow your program to make decisions and execute different blocks of code depending on those decisions."
      ],
      "metadata": {
        "id": "tyXcQN4M3TZS"
      }
    },
    {
      "cell_type": "markdown",
      "source": [
        "QUE 12. How does the elif statement work ?\n",
        "\n",
        "ANS\n",
        "\n",
        "- If the preceding if condition is False, the elif condition is evaluated. If the elif condition is True, its code block is executed. If it's False, the next elif or else block (if present) is evaluated. This continues until a True condition is found or the end of the if-elif-else structure is reached.\n",
        "\n",
        "\n"
      ],
      "metadata": {
        "id": "gjD6j80R3qW3"
      }
    },
    {
      "cell_type": "markdown",
      "source": [
        " QUE 13. What is the difference between for and while loops ?\n",
        "\n",
        " ANS\n",
        "\n",
        " - for loop: Iterates over a sequence (like a list, tuple, or string) for a predetermined number of times.\n",
        "\n",
        " - while loop: Repeats a block of code as long as a condition is True."
      ],
      "metadata": {
        "id": "CB-pCOv44KEe"
      }
    },
    {
      "cell_type": "markdown",
      "source": [
        "QUE 14. Describe a scenario where a while loop is more suitable than a for LOOP ?\n",
        "\n",
        "ANS\n",
        "\n",
        "- Scenario: Reading data from a user until they enter a specific value to signal the end of input\n",
        "\n",
        "-Unknown Number of Iterations:   In this scenario, you don't know beforehand how many times the user will provide input. A for loop is typically used when you know the number of iterations in advance. A while loop, on the other hand, is designed to continue executing as long as a condition is True. This makes it ideal for situations where the loop needs to run an indefinite number of times based on user input or other dynamic factors.\n",
        "\n",
        "\n",
        "-dition-Based Termination:   The loop should terminate when the user enters a specific value (e.g., \"quit\", \"done\", or an empty string). while loops are well-suited for this as they can easily incorporate a condition check within their structure."
      ],
      "metadata": {
        "id": "juLwHVU44s9N"
      }
    },
    {
      "cell_type": "markdown",
      "source": [
        "# **Practical Questions**"
      ],
      "metadata": {
        "id": "jrMsrp_U5yZ8"
      }
    },
    {
      "cell_type": "markdown",
      "source": [
        "QUE 1. Write a Python program to print \"Hello, World!\""
      ],
      "metadata": {
        "id": "X_eqWDO96I_S"
      }
    },
    {
      "cell_type": "code",
      "source": [
        "(\"HELLO WORLD\")"
      ],
      "metadata": {
        "colab": {
          "base_uri": "https://localhost:8080/",
          "height": 35
        },
        "id": "KEJybLWN6bbQ",
        "outputId": "d6464e1e-e01f-4ff2-a871-df1033213bbb"
      },
      "execution_count": null,
      "outputs": [
        {
          "output_type": "execute_result",
          "data": {
            "text/plain": [
              "'HELLO WORLD'"
            ],
            "application/vnd.google.colaboratory.intrinsic+json": {
              "type": "string"
            }
          },
          "metadata": {},
          "execution_count": 3
        }
      ]
    },
    {
      "cell_type": "markdown",
      "source": [
        "QUE 2. Write a Python program that displays your name and age"
      ],
      "metadata": {
        "id": "xrAE4FeX6pQZ"
      }
    },
    {
      "cell_type": "code",
      "source": [
        "name = \"sagar\"  # Replace with your actual name\n",
        "age = 19  # Replace with your actual age (or preferred age)\n",
        "\n",
        "print(\"My name is\", name, \"and I am\", age, \"years old.\")"
      ],
      "metadata": {
        "colab": {
          "base_uri": "https://localhost:8080/"
        },
        "id": "tkRRbc5d681S",
        "outputId": "5db94dc2-ee18-4c7f-b7d6-67adba808042"
      },
      "execution_count": null,
      "outputs": [
        {
          "output_type": "stream",
          "name": "stdout",
          "text": [
            "My name is sagar and I am 19 years old.\n"
          ]
        }
      ]
    },
    {
      "cell_type": "markdown",
      "source": [
        "que 3. Write code to print all the pre-defined keywords in Python using the keyword library"
      ],
      "metadata": {
        "id": "bc3doeen7qLP"
      }
    },
    {
      "cell_type": "code",
      "source": [
        "import keyword\n",
        "\n",
        "# Get all keywords as a list\n",
        "all_keywords = keyword.kwlist\n",
        "\n",
        "# Print the keywords\n",
        "print(all_keywords)"
      ],
      "metadata": {
        "colab": {
          "base_uri": "https://localhost:8080/"
        },
        "id": "1A0x0jrL8Pbh",
        "outputId": "886c4116-61ed-47a4-bcbf-d2190c60fc1e"
      },
      "execution_count": null,
      "outputs": [
        {
          "output_type": "stream",
          "name": "stdout",
          "text": [
            "['False', 'None', 'True', 'and', 'as', 'assert', 'async', 'await', 'break', 'class', 'continue', 'def', 'del', 'elif', 'else', 'except', 'finally', 'for', 'from', 'global', 'if', 'import', 'in', 'is', 'lambda', 'nonlocal', 'not', 'or', 'pass', 'raise', 'return', 'try', 'while', 'with', 'yield']\n"
          ]
        }
      ]
    },
    {
      "cell_type": "markdown",
      "source": [
        "que 4.  Write a program that checks if a given word is a Python keyword"
      ],
      "metadata": {
        "id": "CfiWJNJn8flC"
      }
    },
    {
      "cell_type": "code",
      "source": [
        "import keyword\n",
        "\n",
        "def is_keyword(word):\n",
        "  \"\"\"Checks if a given word is a Python keyword.\n",
        "\n",
        "  Args:\n",
        "    word: The word to check.\n",
        "\n",
        "  Returns:\n",
        "    True if the word is a keyword, False otherwise.\n",
        "  \"\"\"\n",
        "  return keyword.iskeyword(word)\n",
        "\n",
        "# Get input from the user\n",
        "word = input(\"Enter a word: \")\n",
        "\n",
        "# Check if the word is a keyword\n",
        "if is_keyword(word):\n",
        "  print(f\"'{word}' is a Python keyword.\")\n",
        "else:\n",
        "  print(f\"'{word}' is not a Python keyword.\")\n"
      ],
      "metadata": {
        "colab": {
          "base_uri": "https://localhost:8080/"
        },
        "id": "mcC_2x098urO",
        "outputId": "e1215aa5-944a-4554-e6f9-c64868b4d95a"
      },
      "execution_count": null,
      "outputs": [
        {
          "output_type": "stream",
          "name": "stdout",
          "text": [
            "Enter a word: and\n",
            "'and' is a Python keyword.\n"
          ]
        }
      ]
    },
    {
      "cell_type": "markdown",
      "source": [
        "QUE 5. Create a list and tuple in Python, and demonstrate how attempting to change an element works differently\n",
        "for each ?"
      ],
      "metadata": {
        "id": "87vJUZb29P0L"
      }
    },
    {
      "cell_type": "code",
      "source": [
        "# Create a list\n",
        "my_list = [1, 2, 3]\n",
        "\n",
        "# Create a tuple\n",
        "my_tuple = (1, 2, 3)\n",
        "\n",
        "# Attempt to change an element in the list\n",
        "my_list[0] = 10\n",
        "\n",
        "# Attempt to change an element in the tuple\n",
        "# my_tuple[0] = 10  # This will raise a TypeError\n",
        "\n",
        "# Print the list and tuple\n",
        "print(\"List:\", my_list)\n",
        "print(\"Tuple:\", my_tuple)"
      ],
      "metadata": {
        "colab": {
          "base_uri": "https://localhost:8080/"
        },
        "id": "aWNknkLS9XtX",
        "outputId": "736da848-2a2b-41dc-9bff-370ffd2d5bb1"
      },
      "execution_count": null,
      "outputs": [
        {
          "output_type": "stream",
          "name": "stdout",
          "text": [
            "List: [10, 2, 3]\n",
            "Tuple: (1, 2, 3)\n"
          ]
        }
      ]
    },
    {
      "cell_type": "markdown",
      "source": [
        "QUE 6. Write a function to demonstrate the behavior of mutable and immutable arguments ?"
      ],
      "metadata": {
        "id": "JSF8lKyJ9f7Y"
      }
    },
    {
      "cell_type": "code",
      "source": [
        "def modify_arguments(number, my_list):\n",
        "  \"\"\"Demonstrates the behavior of mutable and immutable arguments.\n",
        "\n",
        "  Args:\n",
        "    number: An integer (immutable).\n",
        "    my_list: A list (mutable).\n",
        "  \"\"\"\n",
        "  number += 10  # Modifies the local copy of 'number'\n",
        "  my_list.append(4)  # Modifies the original list 'my_list'\n",
        "\n",
        "# Call the function\n",
        "original_number = 5\n",
        "original_list = [1, 2, 3]\n",
        "\n",
        "modify_arguments(original_number, original_list)\n",
        "\n",
        "print(\"Original number:\", original_number)\n",
        "print(\"Original list:\", original_list)"
      ],
      "metadata": {
        "colab": {
          "base_uri": "https://localhost:8080/"
        },
        "id": "uqyKTqCT9wTI",
        "outputId": "f2ec0fdc-6d5e-4d75-c473-2b495455d3e8"
      },
      "execution_count": null,
      "outputs": [
        {
          "output_type": "stream",
          "name": "stdout",
          "text": [
            "Original number: 5\n",
            "Original list: [1, 2, 3, 4]\n"
          ]
        }
      ]
    },
    {
      "cell_type": "markdown",
      "source": [
        "QUE 7. Write a function to demonstrate the behavior of mutable and immutable arguments ?  "
      ],
      "metadata": {
        "id": "NgbZx_5x91dH"
      }
    },
    {
      "cell_type": "code",
      "source": [
        "def modify_arguments(number, my_list):\n",
        "  \"\"\"Demonstrates the behavior of mutable and immutable arguments.\n",
        "\n",
        "  Args:\n",
        "    number: An integer (immutable).\n",
        "    my_list: A list (mutable).\n",
        "  \"\"\"\n",
        "  number += 10\n",
        "  my_list"
      ],
      "metadata": {
        "id": "kBZATme9-Fn8"
      },
      "execution_count": null,
      "outputs": []
    },
    {
      "cell_type": "markdown",
      "source": [
        "QUE 8. Write a program to demonstrate the use of logical operators ?"
      ],
      "metadata": {
        "id": "MJ6k19DX_XSf"
      }
    },
    {
      "cell_type": "code",
      "source": [
        "# Example with 'and' operator\n",
        "x = 5\n",
        "y = 10\n",
        "print(x > 3 and y < 20)  # Output: True (both conditions are True)\n",
        "print(x > 10 and y < 20) # Output: False (x > 10 is False)\n",
        "\n",
        "# Example with 'or' operator\n",
        "x = 5\n",
        "y = 10\n",
        "print(x > 3 or y < 5)  # Output: True (x > 3 is True)\n",
        "print(x > 10 or y < 5) # Output: False (both conditions are False)\n",
        "\n",
        "# Example with 'not' operator\n",
        "x = 5\n",
        "print(not x > 10)  # Output: True (x > 10 is False, so not x > 10 is True)\n",
        "print(not x > 3)  # Output: False (x > 3 is True, so not x > 3 is False)"
      ],
      "metadata": {
        "colab": {
          "base_uri": "https://localhost:8080/"
        },
        "id": "PtBxYp3x_kkw",
        "outputId": "4d850d6d-1d15-4302-aee9-36c61ff80e96"
      },
      "execution_count": null,
      "outputs": [
        {
          "output_type": "stream",
          "name": "stdout",
          "text": [
            "True\n",
            "False\n",
            "True\n",
            "False\n",
            "True\n",
            "False\n"
          ]
        }
      ]
    },
    {
      "cell_type": "markdown",
      "source": [
        "QUE 9. Write a Python program to convert user input from string to integer, float, and boolean types"
      ],
      "metadata": {
        "id": "J8O7xazZ_w9c"
      }
    },
    {
      "cell_type": "code",
      "source": [
        "# Get user input as a string\n",
        "user_input = input(\"Enter a value: \")\n",
        "\n",
        "# Convert to integer\n",
        "try:\n",
        "  integer_value = int(user_input)\n",
        "  print(\"Integer:\", integer_value)\n",
        "except ValueError:\n",
        "  print(\"Invalid input for integer conversion.\")\n",
        "\n",
        "# Convert to float\n",
        "try:\n",
        "  float_value = float(user_input)\n",
        "  print(\"Float:\", float_value)\n",
        "except ValueError:\n",
        "  print(\"Invalid input for float conversion.\")\n",
        "\n",
        "# Convert to boolean\n",
        "if user_input.lower() == \"true\":\n",
        "  boolean_value = True\n",
        "elif user_input.lower() == \"false\":\n",
        "  boolean_value = False\n",
        "else:\n",
        "  print(\"Invalid input for boolean conversion.\")\n",
        "  boolean_value = None  # To avoid an error later if invalid input\n",
        "\n",
        "if boolean_value is not None:\n",
        "  print(\"Boolean:\", boolean_value)"
      ],
      "metadata": {
        "colab": {
          "base_uri": "https://localhost:8080/"
        },
        "id": "w8m2_NpO_4iT",
        "outputId": "afeff208-06b0-441f-c414-23ca92f49b5b"
      },
      "execution_count": null,
      "outputs": [
        {
          "output_type": "stream",
          "name": "stdout",
          "text": [
            "Enter a value: 9\n",
            "Integer: 9\n",
            "Float: 9.0\n",
            "Invalid input for boolean conversion.\n"
          ]
        }
      ]
    },
    {
      "cell_type": "markdown",
      "source": [
        "QUE 10.  Write code to demonstrate type casting with list elements"
      ],
      "metadata": {
        "id": "tTo1Uc_yAbfo"
      }
    },
    {
      "cell_type": "code",
      "source": [
        "# Create a list with elements of different types\n",
        "my_list = [10, \"25\", 3.14, \"True\"]\n",
        "\n",
        "# Type casting list elements\n",
        "# 1. Convert string to integer\n",
        "integer_value = int(my_list[1])  # Convert \"25\" to 25\n",
        "print(\"Integer:\", integer_value)\n",
        "\n",
        "# 2. Convert string to float\n",
        "float_value = float(my_list[2])  # No change, already a float (3.14)\n",
        "print(\"Float:\", float_value)\n",
        "\n",
        "# 3. Convert string to boolean\n",
        "boolean_value = bool(my_list[3])  # Convert \"True\" to True (case-insensitive)\n",
        "print(\"Boolean:\", boolean_value)"
      ],
      "metadata": {
        "colab": {
          "base_uri": "https://localhost:8080/"
        },
        "id": "bguE0JhlBCFp",
        "outputId": "94f38bea-f376-4c29-cc3f-102a91eb2dd7"
      },
      "execution_count": null,
      "outputs": [
        {
          "output_type": "stream",
          "name": "stdout",
          "text": [
            "Integer: 25\n",
            "Float: 3.14\n",
            "Boolean: True\n"
          ]
        }
      ]
    },
    {
      "cell_type": "markdown",
      "source": [
        "QUE 11.  Write a program that checks if a number is positive, negative, or zero"
      ],
      "metadata": {
        "id": "76LXOqy0BIRB"
      }
    },
    {
      "cell_type": "code",
      "source": [
        "def check_number(number):\n",
        "    if number > 0:\n",
        "        print(number, \"is positive\")\n",
        "    elif number < 0:\n",
        "        print(number, \"is negative\")\n",
        "    else:\n",
        "        print(number, \"is zero\")\n",
        "\n",
        "# Get input from the user\n",
        "number = float(input(\"Enter a number: \"))\n",
        "\n",
        "# Check the number\n",
        "check_number(number)"
      ],
      "metadata": {
        "colab": {
          "base_uri": "https://localhost:8080/"
        },
        "id": "Vyg9r82MBRpk",
        "outputId": "7148d22b-a4fe-48df-a747-34a9cc1a0d5c"
      },
      "execution_count": null,
      "outputs": [
        {
          "output_type": "stream",
          "name": "stdout",
          "text": [
            "Enter a number: 1\n",
            "1.0 is positive\n"
          ]
        }
      ]
    },
    {
      "cell_type": "markdown",
      "source": [
        "QUE 12. Write a for loop to print numbers from 1 to 100"
      ],
      "metadata": {
        "id": "CNygWdtGBh_y"
      }
    },
    {
      "cell_type": "code",
      "source": [
        "for i in range(1, 101):\n",
        "  print(i)"
      ],
      "metadata": {
        "colab": {
          "base_uri": "https://localhost:8080/"
        },
        "id": "0c_DrmqIBleA",
        "outputId": "4d9d9c05-36e4-4307-cd3f-ebb63044874a"
      },
      "execution_count": null,
      "outputs": [
        {
          "output_type": "stream",
          "name": "stdout",
          "text": [
            "1\n",
            "2\n",
            "3\n",
            "4\n",
            "5\n",
            "6\n",
            "7\n",
            "8\n",
            "9\n",
            "10\n",
            "11\n",
            "12\n",
            "13\n",
            "14\n",
            "15\n",
            "16\n",
            "17\n",
            "18\n",
            "19\n",
            "20\n",
            "21\n",
            "22\n",
            "23\n",
            "24\n",
            "25\n",
            "26\n",
            "27\n",
            "28\n",
            "29\n",
            "30\n",
            "31\n",
            "32\n",
            "33\n",
            "34\n",
            "35\n",
            "36\n",
            "37\n",
            "38\n",
            "39\n",
            "40\n",
            "41\n",
            "42\n",
            "43\n",
            "44\n",
            "45\n",
            "46\n",
            "47\n",
            "48\n",
            "49\n",
            "50\n",
            "51\n",
            "52\n",
            "53\n",
            "54\n",
            "55\n",
            "56\n",
            "57\n",
            "58\n",
            "59\n",
            "60\n",
            "61\n",
            "62\n",
            "63\n",
            "64\n",
            "65\n",
            "66\n",
            "67\n",
            "68\n",
            "69\n",
            "70\n",
            "71\n",
            "72\n",
            "73\n",
            "74\n",
            "75\n",
            "76\n",
            "77\n",
            "78\n",
            "79\n",
            "80\n",
            "81\n",
            "82\n",
            "83\n",
            "84\n",
            "85\n",
            "86\n",
            "87\n",
            "88\n",
            "89\n",
            "90\n",
            "91\n",
            "92\n",
            "93\n",
            "94\n",
            "95\n",
            "96\n",
            "97\n",
            "98\n",
            "99\n",
            "100\n"
          ]
        }
      ]
    },
    {
      "cell_type": "markdown",
      "source": [
        "QUE 13. Write a Python program to find the sum of all even numbers between 1 and 50\n"
      ],
      "metadata": {
        "id": "6OjRhYwmB6e9"
      }
    },
    {
      "cell_type": "code",
      "source": [
        "# Method 1: Using a loop and conditional statement\n",
        "\n",
        "total_sum = 0\n",
        "for number in range(2, 51, 2):  # Iterate from 2 to 50 (inclusive) with a step of 2\n",
        "    total_sum += number\n",
        "\n",
        "print(\"Sum of even numbers:\", total_sum)\n",
        "\n",
        "\n",
        "# Method 2: Using sum() and a generator expression\n",
        "\n",
        "total_sum = sum(number for number in range(2, 51, 2))\n",
        "print(\"Sum of even numbers:\", total_sum)"
      ],
      "metadata": {
        "colab": {
          "base_uri": "https://localhost:8080/"
        },
        "id": "8li3pAcJB-q4",
        "outputId": "3c79be28-1ef8-4de9-8011-a165c3ee1390"
      },
      "execution_count": null,
      "outputs": [
        {
          "output_type": "stream",
          "name": "stdout",
          "text": [
            "Sum of even numbers: 650\n",
            "Sum of even numbers: 650\n"
          ]
        }
      ]
    },
    {
      "cell_type": "markdown",
      "source": [
        "QUE 14. Write a program to reverse a string using a while loop."
      ],
      "metadata": {
        "id": "-3DMu_rgCnjB"
      }
    },
    {
      "cell_type": "code",
      "source": [
        "def reverse_string(text):\n",
        "  \"\"\"Reverses a string using a while loop.\n",
        "\n",
        "  Args:\n",
        "    text: The string to reverse.\n",
        "\n",
        "  Returns:\n",
        "    The reversed string.\n",
        "  \"\"\"\n",
        "  reversed_text = \"\"\n",
        "  index = len(text) - 1  # Start from the last index\n",
        "\n",
        "  while index >= 0:\n",
        "    reversed_text += text[index]  # Append the character to the reversed string\n",
        "    index -= 1  # Move to the previous index\n",
        "\n",
        "  return reversed_text\n",
        "\n",
        "# Get input from the user\n",
        "string_to_reverse = input(\"Enter a string: \")\n",
        "\n",
        "# Reverse the string\n",
        "reversed_string = reverse_string(string_to_reverse)\n",
        "\n",
        "# Print the reversed string\n",
        "print(\"Reversed string:\", reversed_string)"
      ],
      "metadata": {
        "colab": {
          "base_uri": "https://localhost:8080/"
        },
        "id": "UONgETNCC187",
        "outputId": "328e2e46-38a0-4128-f8b2-a497a5d94a9e"
      },
      "execution_count": null,
      "outputs": [
        {
          "output_type": "stream",
          "name": "stdout",
          "text": [
            "Enter a string: SAGAR\n",
            "Reversed string: RAGAS\n"
          ]
        }
      ]
    },
    {
      "cell_type": "markdown",
      "source": [
        "QUE 15. Write a Python program to calculate the factorial of a number provided by the user using a while loop"
      ],
      "metadata": {
        "id": "quF6G0q_DJp6"
      }
    },
    {
      "cell_type": "code",
      "source": [
        "def factorial(number):\n",
        "  \"\"\"Calculates the factorial of a number using a while loop.\n",
        "\n",
        "  Args:\n",
        "    number: The number for which to calculate the factorial.\n",
        "\n",
        "  Returns:\n",
        "    The factorial of the number.\n",
        "  \"\"\"\n",
        "\n",
        "  if number < 0:\n",
        "    return \"Factorial is not defined for negative numbers.\"\n",
        "  elif number == 0:\n",
        "    return 1\n",
        "  else:\n",
        "    factorial = 1\n",
        "    while number > 1:\n",
        "      factorial *= number\n",
        "      number -= 1\n",
        "    return factorial\n",
        "\n",
        "# Get input from the user\n",
        "num = int(input(\"Enter a non-negative integer: \"))\n",
        "\n",
        "# Calculate and print the factorial\n",
        "result = factorial(num)\n",
        "print(\"The factorial of\", num, \"is\", result)"
      ],
      "metadata": {
        "colab": {
          "base_uri": "https://localhost:8080/"
        },
        "id": "bhwO7qYgDOVT",
        "outputId": "22c839e6-ee4e-4a27-c83e-700c81f5dc6b"
      },
      "execution_count": null,
      "outputs": [
        {
          "output_type": "stream",
          "name": "stdout",
          "text": [
            "Enter a non-negative integer: 5\n",
            "The factorial of 5 is 120\n"
          ]
        }
      ]
    }
  ],
  "metadata": {
    "colab": {
      "provenance": []
    },
    "kernelspec": {
      "display_name": "Python 3",
      "name": "python3"
    },
    "language_info": {
      "name": "python"
    }
  },
  "nbformat": 4,
  "nbformat_minor": 0
}